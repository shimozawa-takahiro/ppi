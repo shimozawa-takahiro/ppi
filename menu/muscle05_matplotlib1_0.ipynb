{
 "cells": [
  {
   "cell_type": "markdown",
   "metadata": {
    "colab_type": "text",
    "id": "zvnBl3-87CaR"
   },
   "source": [
    "# グラフなどの可視化\n",
    "\n",
    "## モジュールmatplotlib \n",
    "\n",
    "困ったら公式ページ[Matplotlib API Overview](https://matplotlib.org/3.1.1/api/index.html) を見るのが一番である。\n",
    "\n",
    "本来ならmatplotlibの基本的な使用法を解説するべきではあるが，ここではpandasから直接描画する方法に着目して述べる．\n",
    "\n",
    "例題として用いるのはiris（アヤメ）のデータである．\n",
    "\n",
    "まずはpandasを用いてデータを読んでおく．\n",
    "\n",
    "\n",
    "```python\n",
    "%matplotlib inline\n",
    "```\n",
    "としておくと，描画が画面にすぐに表示されるようになる．\n"
   ]
  },
  {
   "cell_type": "code",
   "execution_count": 1,
   "metadata": {
    "colab": {
     "base_uri": "https://localhost:8080/",
     "height": 203
    },
    "colab_type": "code",
    "id": "d-JRtleG7CaS",
    "outputId": "df828643-7637-4367-ea09-892efdd370ae",
    "scrolled": true
   },
   "outputs": [
    {
     "data": {
      "text/html": [
       "<div>\n",
       "<style scoped>\n",
       "    .dataframe tbody tr th:only-of-type {\n",
       "        vertical-align: middle;\n",
       "    }\n",
       "\n",
       "    .dataframe tbody tr th {\n",
       "        vertical-align: top;\n",
       "    }\n",
       "\n",
       "    .dataframe thead th {\n",
       "        text-align: right;\n",
       "    }\n",
       "</style>\n",
       "<table border=\"1\" class=\"dataframe\">\n",
       "  <thead>\n",
       "    <tr style=\"text-align: right;\">\n",
       "      <th></th>\n",
       "      <th>sepal length</th>\n",
       "      <th>sepal width</th>\n",
       "      <th>petal length</th>\n",
       "      <th>petal width</th>\n",
       "      <th>class</th>\n",
       "    </tr>\n",
       "  </thead>\n",
       "  <tbody>\n",
       "    <tr>\n",
       "      <th>0</th>\n",
       "      <td>5.1</td>\n",
       "      <td>3.5</td>\n",
       "      <td>1.4</td>\n",
       "      <td>0.2</td>\n",
       "      <td>Iris-setosa</td>\n",
       "    </tr>\n",
       "    <tr>\n",
       "      <th>1</th>\n",
       "      <td>4.9</td>\n",
       "      <td>3.0</td>\n",
       "      <td>1.4</td>\n",
       "      <td>0.2</td>\n",
       "      <td>Iris-setosa</td>\n",
       "    </tr>\n",
       "    <tr>\n",
       "      <th>2</th>\n",
       "      <td>4.7</td>\n",
       "      <td>3.2</td>\n",
       "      <td>1.3</td>\n",
       "      <td>0.2</td>\n",
       "      <td>Iris-setosa</td>\n",
       "    </tr>\n",
       "    <tr>\n",
       "      <th>3</th>\n",
       "      <td>4.6</td>\n",
       "      <td>3.1</td>\n",
       "      <td>1.5</td>\n",
       "      <td>0.2</td>\n",
       "      <td>Iris-setosa</td>\n",
       "    </tr>\n",
       "    <tr>\n",
       "      <th>4</th>\n",
       "      <td>5.0</td>\n",
       "      <td>3.6</td>\n",
       "      <td>1.4</td>\n",
       "      <td>0.2</td>\n",
       "      <td>Iris-setosa</td>\n",
       "    </tr>\n",
       "  </tbody>\n",
       "</table>\n",
       "</div>"
      ],
      "text/plain": [
       "   sepal length  sepal width  petal length  petal width        class\n",
       "0           5.1          3.5           1.4          0.2  Iris-setosa\n",
       "1           4.9          3.0           1.4          0.2  Iris-setosa\n",
       "2           4.7          3.2           1.3          0.2  Iris-setosa\n",
       "3           4.6          3.1           1.5          0.2  Iris-setosa\n",
       "4           5.0          3.6           1.4          0.2  Iris-setosa"
      ]
     },
     "execution_count": 1,
     "metadata": {},
     "output_type": "execute_result"
    }
   ],
   "source": [
    "import pandas as pd\n",
    "import matplotlib.pyplot as plt\n",
    "%matplotlib inline \n",
    "\n",
    "df = pd.read_csv('http://logopt.com/data/iris.data', names=['sepal length','sepal width','petal length','petal width', 'class'])\n",
    "df.head()"
   ]
  },
  {
   "cell_type": "code",
   "execution_count": 2,
   "metadata": {},
   "outputs": [
    {
     "data": {
      "text/plain": [
       "sepal length    float64\n",
       "sepal width     float64\n",
       "petal length    float64\n",
       "petal width     float64\n",
       "class            object\n",
       "dtype: object"
      ]
     },
     "execution_count": 2,
     "metadata": {},
     "output_type": "execute_result"
    }
   ],
   "source": [
    "df.dtypes"
   ]
  },
  {
   "cell_type": "markdown",
   "metadata": {
    "colab_type": "text",
    "id": "1D9II_as7CaY"
   },
   "source": [
    "## ヒストグラム\n",
    "\n",
    "まずはヒストグラム（histgram, 度数分布表）を描画してみる．\n",
    "\n",
    "ヒストグラムは数値データの分布の概要を知る際に便利である．\n",
    "\n",
    "pandasのデータフレームの**hist**メソッドを用いる．\n",
    "\n",
    "引数**bins**でビンの数（x軸の区分数）を指定できる．（色々変えて試してみよう．規定値は $10$ である．）"
   ]
  },
  {
   "cell_type": "code",
   "execution_count": 3,
   "metadata": {
    "colab": {
     "base_uri": "https://localhost:8080/",
     "height": 280
    },
    "colab_type": "code",
    "id": "xjlIWgU-7CaZ",
    "outputId": "b7d88ea6-5f21-4edd-d680-73b2c5289c01"
   },
   "outputs": [
    {
     "data": {
      "image/png": "[encoded data removed]",
      "text/plain": [
       "<Figure size 432x288 with 4 Axes>"
      ]
     },
     "metadata": {
      "needs_background": "light"
     },
     "output_type": "display_data"
    }
   ],
   "source": [
    "df.hist(alpha=0.5, bins=30);"
   ]
  },
  {
   "cell_type": "markdown",
   "metadata": {
    "colab_type": "text",
    "id": "JYXHFfxk7Cab"
   },
   "source": [
    "### 問題\n",
    "\n",
    "http://logopt.com/data/SATGPA.csv データを読み込み，2種類のSATの成績とGPAのヒストグラムを描画せよ．\n",
    "また，引数のalphaとbinsを色々変えてみよ．"
   ]
  },
  {
   "cell_type": "code",
   "execution_count": 4,
   "metadata": {
    "colab": {},
    "colab_type": "code",
    "id": "_DeLvU5E7Cac"
   },
   "outputs": [
    {
     "data": {
      "text/html": [
       "<div>\n",
       "<style scoped>\n",
       "    .dataframe tbody tr th:only-of-type {\n",
       "        vertical-align: middle;\n",
       "    }\n",
       "\n",
       "    .dataframe tbody tr th {\n",
       "        vertical-align: top;\n",
       "    }\n",
       "\n",
       "    .dataframe thead th {\n",
       "        text-align: right;\n",
       "    }\n",
       "</style>\n",
       "<table border=\"1\" class=\"dataframe\">\n",
       "  <thead>\n",
       "    <tr style=\"text-align: right;\">\n",
       "      <th></th>\n",
       "      <th>Unnamed: 0</th>\n",
       "      <th>MathSAT</th>\n",
       "      <th>VerbalSAT</th>\n",
       "      <th>GPA</th>\n",
       "    </tr>\n",
       "  </thead>\n",
       "  <tbody>\n",
       "    <tr>\n",
       "      <th>0</th>\n",
       "      <td>1</td>\n",
       "      <td>580</td>\n",
       "      <td>420</td>\n",
       "      <td>2.90</td>\n",
       "    </tr>\n",
       "    <tr>\n",
       "      <th>1</th>\n",
       "      <td>2</td>\n",
       "      <td>670</td>\n",
       "      <td>530</td>\n",
       "      <td>2.83</td>\n",
       "    </tr>\n",
       "    <tr>\n",
       "      <th>2</th>\n",
       "      <td>3</td>\n",
       "      <td>680</td>\n",
       "      <td>540</td>\n",
       "      <td>2.90</td>\n",
       "    </tr>\n",
       "    <tr>\n",
       "      <th>3</th>\n",
       "      <td>4</td>\n",
       "      <td>630</td>\n",
       "      <td>640</td>\n",
       "      <td>3.30</td>\n",
       "    </tr>\n",
       "    <tr>\n",
       "      <th>4</th>\n",
       "      <td>5</td>\n",
       "      <td>620</td>\n",
       "      <td>630</td>\n",
       "      <td>3.61</td>\n",
       "    </tr>\n",
       "    <tr>\n",
       "      <th>5</th>\n",
       "      <td>6</td>\n",
       "      <td>580</td>\n",
       "      <td>550</td>\n",
       "      <td>2.75</td>\n",
       "    </tr>\n",
       "    <tr>\n",
       "      <th>6</th>\n",
       "      <td>7</td>\n",
       "      <td>620</td>\n",
       "      <td>600</td>\n",
       "      <td>2.75</td>\n",
       "    </tr>\n",
       "    <tr>\n",
       "      <th>7</th>\n",
       "      <td>8</td>\n",
       "      <td>690</td>\n",
       "      <td>500</td>\n",
       "      <td>3.00</td>\n",
       "    </tr>\n",
       "    <tr>\n",
       "      <th>8</th>\n",
       "      <td>9</td>\n",
       "      <td>520</td>\n",
       "      <td>500</td>\n",
       "      <td>2.77</td>\n",
       "    </tr>\n",
       "    <tr>\n",
       "      <th>9</th>\n",
       "      <td>10</td>\n",
       "      <td>570</td>\n",
       "      <td>630</td>\n",
       "      <td>2.90</td>\n",
       "    </tr>\n",
       "    <tr>\n",
       "      <th>10</th>\n",
       "      <td>11</td>\n",
       "      <td>620</td>\n",
       "      <td>550</td>\n",
       "      <td>3.00</td>\n",
       "    </tr>\n",
       "    <tr>\n",
       "      <th>11</th>\n",
       "      <td>12</td>\n",
       "      <td>690</td>\n",
       "      <td>570</td>\n",
       "      <td>3.25</td>\n",
       "    </tr>\n",
       "    <tr>\n",
       "      <th>12</th>\n",
       "      <td>13</td>\n",
       "      <td>350</td>\n",
       "      <td>300</td>\n",
       "      <td>3.13</td>\n",
       "    </tr>\n",
       "    <tr>\n",
       "      <th>13</th>\n",
       "      <td>14</td>\n",
       "      <td>680</td>\n",
       "      <td>570</td>\n",
       "      <td>3.53</td>\n",
       "    </tr>\n",
       "    <tr>\n",
       "      <th>14</th>\n",
       "      <td>15</td>\n",
       "      <td>550</td>\n",
       "      <td>530</td>\n",
       "      <td>3.10</td>\n",
       "    </tr>\n",
       "    <tr>\n",
       "      <th>15</th>\n",
       "      <td>16</td>\n",
       "      <td>570</td>\n",
       "      <td>540</td>\n",
       "      <td>3.20</td>\n",
       "    </tr>\n",
       "    <tr>\n",
       "      <th>16</th>\n",
       "      <td>17</td>\n",
       "      <td>620</td>\n",
       "      <td>640</td>\n",
       "      <td>3.27</td>\n",
       "    </tr>\n",
       "    <tr>\n",
       "      <th>17</th>\n",
       "      <td>18</td>\n",
       "      <td>750</td>\n",
       "      <td>560</td>\n",
       "      <td>3.30</td>\n",
       "    </tr>\n",
       "    <tr>\n",
       "      <th>18</th>\n",
       "      <td>19</td>\n",
       "      <td>700</td>\n",
       "      <td>680</td>\n",
       "      <td>2.60</td>\n",
       "    </tr>\n",
       "    <tr>\n",
       "      <th>19</th>\n",
       "      <td>20</td>\n",
       "      <td>670</td>\n",
       "      <td>550</td>\n",
       "      <td>3.53</td>\n",
       "    </tr>\n",
       "    <tr>\n",
       "      <th>20</th>\n",
       "      <td>21</td>\n",
       "      <td>680</td>\n",
       "      <td>550</td>\n",
       "      <td>2.67</td>\n",
       "    </tr>\n",
       "    <tr>\n",
       "      <th>21</th>\n",
       "      <td>22</td>\n",
       "      <td>590</td>\n",
       "      <td>700</td>\n",
       "      <td>3.30</td>\n",
       "    </tr>\n",
       "    <tr>\n",
       "      <th>22</th>\n",
       "      <td>23</td>\n",
       "      <td>600</td>\n",
       "      <td>650</td>\n",
       "      <td>3.50</td>\n",
       "    </tr>\n",
       "    <tr>\n",
       "      <th>23</th>\n",
       "      <td>24</td>\n",
       "      <td>630</td>\n",
       "      <td>640</td>\n",
       "      <td>3.70</td>\n",
       "    </tr>\n",
       "  </tbody>\n",
       "</table>\n",
       "</div>"
      ],
      "text/plain": [
       "    Unnamed: 0  MathSAT  VerbalSAT   GPA\n",
       "0            1      580        420  2.90\n",
       "1            2      670        530  2.83\n",
       "2            3      680        540  2.90\n",
       "3            4      630        640  3.30\n",
       "4            5      620        630  3.61\n",
       "5            6      580        550  2.75\n",
       "6            7      620        600  2.75\n",
       "7            8      690        500  3.00\n",
       "8            9      520        500  2.77\n",
       "9           10      570        630  2.90\n",
       "10          11      620        550  3.00\n",
       "11          12      690        570  3.25\n",
       "12          13      350        300  3.13\n",
       "13          14      680        570  3.53\n",
       "14          15      550        530  3.10\n",
       "15          16      570        540  3.20\n",
       "16          17      620        640  3.27\n",
       "17          18      750        560  3.30\n",
       "18          19      700        680  2.60\n",
       "19          20      670        550  3.53\n",
       "20          21      680        550  2.67\n",
       "21          22      590        700  3.30\n",
       "22          23      600        650  3.50\n",
       "23          24      630        640  3.70"
      ]
     },
     "execution_count": 4,
     "metadata": {},
     "output_type": "execute_result"
    }
   ],
   "source": [
    "stagpa = pd.read_csv('http://logopt.com/data/SATGPA.csv')\n",
    "stagpa"
   ]
  },
  {
   "cell_type": "code",
   "execution_count": 5,
   "metadata": {
    "scrolled": true
   },
   "outputs": [
    {
     "data": {
      "image/png": "[encoded data removed]",
      "text/plain": [
       "<Figure size 432x288 with 4 Axes>"
      ]
     },
     "metadata": {
      "needs_background": "light"
     },
     "output_type": "display_data"
    }
   ],
   "source": [
    "stagpa.hist(['MathSAT', 'VerbalSAT', 'GPA'], alpha=1, bins=30);"
   ]
  },
  {
   "cell_type": "code",
   "execution_count": 6,
   "metadata": {},
   "outputs": [
    {
     "data": {
      "image/png": "[encoded data removed]",
      "text/plain": [
       "<Figure size 432x288 with 4 Axes>"
      ]
     },
     "metadata": {
      "needs_background": "light"
     },
     "output_type": "display_data"
    }
   ],
   "source": [
    "stagpa = pd.read_csv('http://logopt.com/data/SATGPA.csv', index_col = 0)\n",
    "stagpa.hist(alpha=1, bins=30);"
   ]
  },
  {
   "cell_type": "markdown",
   "metadata": {
    "colab_type": "text",
    "id": "AUTac8Nc7Cae"
   },
   "source": [
    "### 問題\n",
    "\n",
    "以下のように読み込んだポケモンのデータフレームを用いて，攻撃力(Attack)，守備力（Defense)のヒストグラムを描画せよ．\n",
    "（ヒント：データフレームから一部の列を切り出す方法については，pandasの練習問題を参考にせよ．）"
   ]
  },
  {
   "cell_type": "code",
   "execution_count": 7,
   "metadata": {
    "colab": {
     "base_uri": "https://localhost:8080/",
     "height": 234
    },
    "colab_type": "code",
    "id": "UZWNg2f_7Caf",
    "outputId": "50bea1ab-f45e-4266-fbff-189f00c0d8d8",
    "scrolled": true
   },
   "outputs": [
    {
     "data": {
      "text/html": [
       "<div>\n",
       "<style scoped>\n",
       "    .dataframe tbody tr th:only-of-type {\n",
       "        vertical-align: middle;\n",
       "    }\n",
       "\n",
       "    .dataframe tbody tr th {\n",
       "        vertical-align: top;\n",
       "    }\n",
       "\n",
       "    .dataframe thead th {\n",
       "        text-align: right;\n",
       "    }\n",
       "</style>\n",
       "<table border=\"1\" class=\"dataframe\">\n",
       "  <thead>\n",
       "    <tr style=\"text-align: right;\">\n",
       "      <th></th>\n",
       "      <th>Name</th>\n",
       "      <th>Type 1</th>\n",
       "      <th>Type 2</th>\n",
       "      <th>Total</th>\n",
       "      <th>HP</th>\n",
       "      <th>Attack</th>\n",
       "      <th>Defense</th>\n",
       "      <th>Sp. Atk</th>\n",
       "      <th>Sp. Def</th>\n",
       "      <th>Speed</th>\n",
       "      <th>Generation</th>\n",
       "      <th>Legendary</th>\n",
       "      <th>Japanese</th>\n",
       "    </tr>\n",
       "    <tr>\n",
       "      <th>#</th>\n",
       "      <th></th>\n",
       "      <th></th>\n",
       "      <th></th>\n",
       "      <th></th>\n",
       "      <th></th>\n",
       "      <th></th>\n",
       "      <th></th>\n",
       "      <th></th>\n",
       "      <th></th>\n",
       "      <th></th>\n",
       "      <th></th>\n",
       "      <th></th>\n",
       "      <th></th>\n",
       "    </tr>\n",
       "  </thead>\n",
       "  <tbody>\n",
       "    <tr>\n",
       "      <th>1</th>\n",
       "      <td>Bulbasaur</td>\n",
       "      <td>Grass</td>\n",
       "      <td>Poison</td>\n",
       "      <td>318</td>\n",
       "      <td>45</td>\n",
       "      <td>49</td>\n",
       "      <td>49</td>\n",
       "      <td>65</td>\n",
       "      <td>65</td>\n",
       "      <td>45</td>\n",
       "      <td>1</td>\n",
       "      <td>False</td>\n",
       "      <td>フシギダネ</td>\n",
       "    </tr>\n",
       "    <tr>\n",
       "      <th>2</th>\n",
       "      <td>Ivysaur</td>\n",
       "      <td>Grass</td>\n",
       "      <td>Poison</td>\n",
       "      <td>405</td>\n",
       "      <td>60</td>\n",
       "      <td>62</td>\n",
       "      <td>63</td>\n",
       "      <td>80</td>\n",
       "      <td>80</td>\n",
       "      <td>60</td>\n",
       "      <td>1</td>\n",
       "      <td>False</td>\n",
       "      <td>フシギソウ</td>\n",
       "    </tr>\n",
       "    <tr>\n",
       "      <th>3</th>\n",
       "      <td>Venusaur</td>\n",
       "      <td>Grass</td>\n",
       "      <td>Poison</td>\n",
       "      <td>525</td>\n",
       "      <td>80</td>\n",
       "      <td>82</td>\n",
       "      <td>83</td>\n",
       "      <td>100</td>\n",
       "      <td>100</td>\n",
       "      <td>80</td>\n",
       "      <td>1</td>\n",
       "      <td>False</td>\n",
       "      <td>フシギバナ</td>\n",
       "    </tr>\n",
       "    <tr>\n",
       "      <th>3</th>\n",
       "      <td>VenusaurMega Venusaur</td>\n",
       "      <td>Grass</td>\n",
       "      <td>Poison</td>\n",
       "      <td>625</td>\n",
       "      <td>80</td>\n",
       "      <td>100</td>\n",
       "      <td>123</td>\n",
       "      <td>122</td>\n",
       "      <td>120</td>\n",
       "      <td>80</td>\n",
       "      <td>1</td>\n",
       "      <td>False</td>\n",
       "      <td>フシギバナ・メガ進化</td>\n",
       "    </tr>\n",
       "    <tr>\n",
       "      <th>4</th>\n",
       "      <td>Charmander</td>\n",
       "      <td>Fire</td>\n",
       "      <td>NaN</td>\n",
       "      <td>309</td>\n",
       "      <td>39</td>\n",
       "      <td>52</td>\n",
       "      <td>43</td>\n",
       "      <td>60</td>\n",
       "      <td>50</td>\n",
       "      <td>65</td>\n",
       "      <td>1</td>\n",
       "      <td>False</td>\n",
       "      <td>ヒトカゲ</td>\n",
       "    </tr>\n",
       "  </tbody>\n",
       "</table>\n",
       "</div>"
      ],
      "text/plain": [
       "                    Name Type 1  Type 2  Total  HP  Attack  Defense  Sp. Atk   \n",
       "#                                                                              \n",
       "1              Bulbasaur  Grass  Poison    318  45      49       49       65  \\\n",
       "2                Ivysaur  Grass  Poison    405  60      62       63       80   \n",
       "3               Venusaur  Grass  Poison    525  80      82       83      100   \n",
       "3  VenusaurMega Venusaur  Grass  Poison    625  80     100      123      122   \n",
       "4             Charmander   Fire     NaN    309  39      52       43       60   \n",
       "\n",
       "   Sp. Def  Speed  Generation  Legendary    Japanese  \n",
       "#                                                     \n",
       "1       65     45           1      False       フシギダネ  \n",
       "2       80     60           1      False       フシギソウ  \n",
       "3      100     80           1      False       フシギバナ  \n",
       "3      120     80           1      False  フシギバナ・メガ進化  \n",
       "4       50     65           1      False        ヒトカゲ  "
      ]
     },
     "execution_count": 7,
     "metadata": {},
     "output_type": "execute_result"
    }
   ],
   "source": [
    "pokemon = pd.read_csv(\"http://logopt.com/data/poke.csv\",encoding=\"utf-8\",index_col=0)\n",
    "pokemon.head()"
   ]
  },
  {
   "cell_type": "code",
   "execution_count": 8,
   "metadata": {},
   "outputs": [
    {
     "data": {
      "text/plain": [
       "<AxesSubplot:>"
      ]
     },
     "execution_count": 8,
     "metadata": {},
     "output_type": "execute_result"
    },
    {
     "data": {
      "image/png": "[encoded data removed]",
      "text/plain": [
       "<Figure size 432x288 with 1 Axes>"
      ]
     },
     "metadata": {
      "needs_background": "light"
     },
     "output_type": "display_data"
    }
   ],
   "source": [
    "pokemon.Attack.hist(alpha = 1.0, bins = 20)"
   ]
  },
  {
   "cell_type": "code",
   "execution_count": 9,
   "metadata": {},
   "outputs": [
    {
     "data": {
      "image/png": "[encoded data removed]",
      "text/plain": [
       "<Figure size 432x288 with 2 Axes>"
      ]
     },
     "metadata": {
      "needs_background": "light"
     },
     "output_type": "display_data"
    }
   ],
   "source": [
    "pokemon.hist(['Attack', 'Defense'],alpha=1, bins=30);"
   ]
  },
  {
   "cell_type": "code",
   "execution_count": 10,
   "metadata": {},
   "outputs": [
    {
     "data": {
      "text/plain": [
       "array([[<AxesSubplot:title={'center':'Attack'}>,\n",
       "        <AxesSubplot:title={'center':'Defense'}>]], dtype=object)"
      ]
     },
     "execution_count": 10,
     "metadata": {},
     "output_type": "execute_result"
    },
    {
     "data": {
      "image/png": "[encoded data removed]",
      "text/plain": [
       "<Figure size 432x288 with 2 Axes>"
      ]
     },
     "metadata": {
      "needs_background": "light"
     },
     "output_type": "display_data"
    }
   ],
   "source": [
    "pokemon.loc[ : , ['Attack', 'Defense']].hist(alpha = 1.0, bins = 30)"
   ]
  },
  {
   "cell_type": "markdown",
   "metadata": {
    "colab_type": "text",
    "id": "UGLpvKIU7Cag"
   },
   "source": [
    "## 散布図\n",
    "\n",
    "散布図（scatter plot)は，2つの数値データの関係を知る際に便利である．\n",
    "\n",
    "pandasのデータフレームの**plot.scatter**メソッドを用いる．\n",
    "\n",
    "引数の**x**と**y**で $x,y$ 軸に使用するデータ（データフレームの列名）を指定する．\n",
    "\n",
    "ここでは'がく片長 'sepal length'と花びら長 'petal length'の関係を図示してみる．"
   ]
  },
  {
   "cell_type": "code",
   "execution_count": 11,
   "metadata": {
    "colab": {
     "base_uri": "https://localhost:8080/",
     "height": 279
    },
    "colab_type": "code",
    "id": "wf-hASOX7Cai",
    "outputId": "5a62cb50-8fd8-4445-c07b-225681e75d57"
   },
   "outputs": [
    {
     "data": {
      "image/png": "[encoded data removed]",
      "text/plain": [
       "<Figure size 432x288 with 1 Axes>"
      ]
     },
     "metadata": {
      "needs_background": "light"
     },
     "output_type": "display_data"
    }
   ],
   "source": [
    "df.plot.scatter(x='sepal length', y= 'petal length');"
   ]
  },
  {
   "cell_type": "markdown",
   "metadata": {
    "colab_type": "text",
    "id": "WO8Yu4MN7Caj"
   },
   "source": [
    "### 問題\n",
    "http://logopt.com/data/Diamond.csv からダイアモンドの価格データを読み込み，カラット\"carat\"と価格 \"price\" の散布図を描け．"
   ]
  },
  {
   "cell_type": "code",
   "execution_count": 12,
   "metadata": {
    "colab": {},
    "colab_type": "code",
    "id": "TqURfS2E7Cak"
   },
   "outputs": [
    {
     "data": {
      "text/html": [
       "<div>\n",
       "<style scoped>\n",
       "    .dataframe tbody tr th:only-of-type {\n",
       "        vertical-align: middle;\n",
       "    }\n",
       "\n",
       "    .dataframe tbody tr th {\n",
       "        vertical-align: top;\n",
       "    }\n",
       "\n",
       "    .dataframe thead th {\n",
       "        text-align: right;\n",
       "    }\n",
       "</style>\n",
       "<table border=\"1\" class=\"dataframe\">\n",
       "  <thead>\n",
       "    <tr style=\"text-align: right;\">\n",
       "      <th></th>\n",
       "      <th>carat</th>\n",
       "      <th>colour</th>\n",
       "      <th>clarity</th>\n",
       "      <th>certification</th>\n",
       "      <th>price</th>\n",
       "    </tr>\n",
       "  </thead>\n",
       "  <tbody>\n",
       "    <tr>\n",
       "      <th>1</th>\n",
       "      <td>0.30</td>\n",
       "      <td>D</td>\n",
       "      <td>VS2</td>\n",
       "      <td>GIA</td>\n",
       "      <td>1302</td>\n",
       "    </tr>\n",
       "    <tr>\n",
       "      <th>2</th>\n",
       "      <td>0.30</td>\n",
       "      <td>E</td>\n",
       "      <td>VS1</td>\n",
       "      <td>GIA</td>\n",
       "      <td>1510</td>\n",
       "    </tr>\n",
       "    <tr>\n",
       "      <th>3</th>\n",
       "      <td>0.30</td>\n",
       "      <td>G</td>\n",
       "      <td>VVS1</td>\n",
       "      <td>GIA</td>\n",
       "      <td>1510</td>\n",
       "    </tr>\n",
       "    <tr>\n",
       "      <th>4</th>\n",
       "      <td>0.30</td>\n",
       "      <td>G</td>\n",
       "      <td>VS1</td>\n",
       "      <td>GIA</td>\n",
       "      <td>1260</td>\n",
       "    </tr>\n",
       "    <tr>\n",
       "      <th>5</th>\n",
       "      <td>0.31</td>\n",
       "      <td>D</td>\n",
       "      <td>VS1</td>\n",
       "      <td>GIA</td>\n",
       "      <td>1641</td>\n",
       "    </tr>\n",
       "    <tr>\n",
       "      <th>...</th>\n",
       "      <td>...</td>\n",
       "      <td>...</td>\n",
       "      <td>...</td>\n",
       "      <td>...</td>\n",
       "      <td>...</td>\n",
       "    </tr>\n",
       "    <tr>\n",
       "      <th>304</th>\n",
       "      <td>1.01</td>\n",
       "      <td>I</td>\n",
       "      <td>VS1</td>\n",
       "      <td>HRD</td>\n",
       "      <td>8175</td>\n",
       "    </tr>\n",
       "    <tr>\n",
       "      <th>305</th>\n",
       "      <td>1.02</td>\n",
       "      <td>F</td>\n",
       "      <td>VVS2</td>\n",
       "      <td>HRD</td>\n",
       "      <td>10796</td>\n",
       "    </tr>\n",
       "    <tr>\n",
       "      <th>306</th>\n",
       "      <td>1.06</td>\n",
       "      <td>H</td>\n",
       "      <td>VVS2</td>\n",
       "      <td>HRD</td>\n",
       "      <td>9890</td>\n",
       "    </tr>\n",
       "    <tr>\n",
       "      <th>307</th>\n",
       "      <td>1.02</td>\n",
       "      <td>H</td>\n",
       "      <td>VS2</td>\n",
       "      <td>HRD</td>\n",
       "      <td>8959</td>\n",
       "    </tr>\n",
       "    <tr>\n",
       "      <th>308</th>\n",
       "      <td>1.09</td>\n",
       "      <td>I</td>\n",
       "      <td>VVS2</td>\n",
       "      <td>HRD</td>\n",
       "      <td>9107</td>\n",
       "    </tr>\n",
       "  </tbody>\n",
       "</table>\n",
       "<p>308 rows × 5 columns</p>\n",
       "</div>"
      ],
      "text/plain": [
       "     carat colour clarity certification  price\n",
       "1     0.30      D     VS2           GIA   1302\n",
       "2     0.30      E     VS1           GIA   1510\n",
       "3     0.30      G    VVS1           GIA   1510\n",
       "4     0.30      G     VS1           GIA   1260\n",
       "5     0.31      D     VS1           GIA   1641\n",
       "..     ...    ...     ...           ...    ...\n",
       "304   1.01      I     VS1           HRD   8175\n",
       "305   1.02      F    VVS2           HRD  10796\n",
       "306   1.06      H    VVS2           HRD   9890\n",
       "307   1.02      H     VS2           HRD   8959\n",
       "308   1.09      I    VVS2           HRD   9107\n",
       "\n",
       "[308 rows x 5 columns]"
      ]
     },
     "execution_count": 12,
     "metadata": {},
     "output_type": "execute_result"
    }
   ],
   "source": [
    "diamond = pd.read_csv(\"http://logopt.com/data/Diamond.csv\",encoding=\"utf-8\",index_col=0)\n",
    "diamond"
   ]
  },
  {
   "cell_type": "code",
   "execution_count": 13,
   "metadata": {},
   "outputs": [
    {
     "data": {
      "image/png": "[encoded data removed]",
      "text/plain": [
       "<Figure size 432x288 with 1 Axes>"
      ]
     },
     "metadata": {
      "needs_background": "light"
     },
     "output_type": "display_data"
    }
   ],
   "source": [
    "diamond.plot.scatter(x = 'carat', y = 'price');"
   ]
  },
  {
   "cell_type": "markdown",
   "metadata": {
    "colab_type": "text",
    "id": "ncpI4Thu7Cal"
   },
   "source": [
    "## 問題\n",
    "\n",
    "ポケモンのデータフレームに対して，攻撃力(Attack)，守備力（Defense)の関係を散布図に描画せよ．\n",
    "\n",
    "（ヒント：データフレームから一部の列を切り出す方法については，pandasの練習問題を参考にせよ．）"
   ]
  },
  {
   "cell_type": "code",
   "execution_count": 14,
   "metadata": {
    "colab": {},
    "colab_type": "code",
    "id": "0FqmJGGY7Cam"
   },
   "outputs": [
    {
     "data": {
      "image/png": "[encoded data removed]",
      "text/plain": [
       "<Figure size 432x288 with 1 Axes>"
      ]
     },
     "metadata": {
      "needs_background": "light"
     },
     "output_type": "display_data"
    }
   ],
   "source": [
    "pokemon.plot.scatter(x = 'Attack', y = 'Defense');"
   ]
  },
  {
   "cell_type": "code",
   "execution_count": 15,
   "metadata": {},
   "outputs": [
    {
     "data": {
      "image/png": "[encoded data removed]",
      "text/plain": [
       "<Figure size 432x288 with 1 Axes>"
      ]
     },
     "metadata": {
      "needs_background": "light"
     },
     "output_type": "display_data"
    }
   ],
   "source": [
    "pokemon.loc[ : , ['Attack', 'Defense']].plot.scatter(x = 'Attack', y = 'Defense');"
   ]
  },
  {
   "cell_type": "markdown",
   "metadata": {
    "colab_type": "text",
    "id": "DlFOWjjA7Cao"
   },
   "source": [
    "## 他の図\n",
    "\n",
    "pandasのデータフレームの**plot**の中には他にも様々な描画メソッドが含まれている．\n",
    "\n",
    "色々試してみよう．"
   ]
  },
  {
   "cell_type": "code",
   "execution_count": 16,
   "metadata": {
    "colab": {
     "base_uri": "https://localhost:8080/",
     "height": 265
    },
    "colab_type": "code",
    "id": "Yt1Reqb57Cap",
    "outputId": "0bda3e0c-b847-46c5-abc9-a2d0622e5629"
   },
   "outputs": [
    {
     "data": {
      "image/png": "[encoded data removed]",
      "text/plain": [
       "<Figure size 432x288 with 1 Axes>"
      ]
     },
     "metadata": {
      "needs_background": "light"
     },
     "output_type": "display_data"
    }
   ],
   "source": [
    "df.plot.area(); #m面積図"
   ]
  },
  {
   "cell_type": "code",
   "execution_count": 17,
   "metadata": {
    "colab": {
     "base_uri": "https://localhost:8080/",
     "height": 272
    },
    "colab_type": "code",
    "id": "lld_gR6z7Car",
    "outputId": "66f1e6ac-86da-441c-f412-90caf57356fa"
   },
   "outputs": [
    {
     "data": {
      "image/png": "[encoded data removed]",
      "text/plain": [
       "<Figure size 432x288 with 1 Axes>"
      ]
     },
     "metadata": {
      "needs_background": "light"
     },
     "output_type": "display_data"
    }
   ],
   "source": [
    "df.plot.bar(); #棒グラフ"
   ]
  },
  {
   "cell_type": "code",
   "execution_count": 18,
   "metadata": {
    "colab": {
     "base_uri": "https://localhost:8080/",
     "height": 265
    },
    "colab_type": "code",
    "id": "uApUv7iY7Cau",
    "outputId": "9365c419-e66e-4417-89cf-4a20585efb2d"
   },
   "outputs": [
    {
     "data": {
      "image/png": "[encoded data removed]",
      "text/plain": [
       "<Figure size 432x288 with 1 Axes>"
      ]
     },
     "metadata": {
      "needs_background": "light"
     },
     "output_type": "display_data"
    }
   ],
   "source": [
    "df.plot.box();#箱ひげ図"
   ]
  },
  {
   "cell_type": "code",
   "execution_count": 19,
   "metadata": {},
   "outputs": [],
   "source": [
    "#カーネル密度推定に必要\n",
    "import scipy\n",
    "import numpy as np"
   ]
  },
  {
   "cell_type": "code",
   "execution_count": 20,
   "metadata": {},
   "outputs": [],
   "source": [
    "import matplotlib.pyplot\n",
    "import matplotlib.cm\n",
    "cmap = plt.get_cmap(\"Blues\")"
   ]
  },
  {
   "cell_type": "code",
   "execution_count": 21,
   "metadata": {
    "colab": {
     "base_uri": "https://localhost:8080/",
     "height": 265
    },
    "colab_type": "code",
    "id": "EdmZXXh27Cax",
    "outputId": "7321808a-4137-44ac-9c1a-abe03f926ff2"
   },
   "outputs": [
    {
     "data": {
      "image/png": "[encoded data removed]",
      "text/plain": [
       "<Figure size 432x288 with 1 Axes>"
      ]
     },
     "metadata": {
      "needs_background": "light"
     },
     "output_type": "display_data"
    }
   ],
   "source": [
    "df.plot.density();#カーネル密度推定（kdeと同じ）"
   ]
  },
  {
   "cell_type": "code",
   "execution_count": 24,
   "metadata": {
    "colab": {
     "base_uri": "https://localhost:8080/",
     "height": 258
    },
    "colab_type": "code",
    "id": "a08y9k_27Ca0",
    "outputId": "7b0eac7f-c38c-436a-d32d-6b3f8f618dc2"
   },
   "outputs": [
    {
     "ename": "AttributeError",
     "evalue": "'ColormapRegistry' object has no attribute 'get_cmap'",
     "output_type": "error",
     "traceback": [
      "\u001b[1;31m---------------------------------------------------------------------------\u001b[0m",
      "\u001b[1;31mAttributeError\u001b[0m                            Traceback (most recent call last)",
      "Input \u001b[1;32mIn [24]\u001b[0m, in \u001b[0;36m<cell line: 1>\u001b[1;34m()\u001b[0m\n\u001b[1;32m----> 1\u001b[0m \u001b[43mdf\u001b[49m\u001b[38;5;241;43m.\u001b[39;49m\u001b[43mplot\u001b[49m\u001b[38;5;241;43m.\u001b[39;49m\u001b[43mhexbin\u001b[49m\u001b[43m(\u001b[49m\u001b[43mx\u001b[49m\u001b[43m \u001b[49m\u001b[38;5;241;43m=\u001b[39;49m\u001b[43m \u001b[49m\u001b[38;5;124;43m'\u001b[39;49m\u001b[38;5;124;43msepal length\u001b[39;49m\u001b[38;5;124;43m'\u001b[39;49m\u001b[43m,\u001b[49m\u001b[43m \u001b[49m\u001b[43my\u001b[49m\u001b[43m \u001b[49m\u001b[38;5;241;43m=\u001b[39;49m\u001b[43m \u001b[49m\u001b[38;5;124;43m'\u001b[39;49m\u001b[38;5;124;43mpetal length\u001b[39;49m\u001b[38;5;124;43m'\u001b[39;49m\u001b[43m)\u001b[49m\n",
      "File \u001b[1;32m~\\AppData\\Local\\Programs\\Python\\Python39\\lib\\site-packages\\pandas\\plotting\\_core.py:1765\u001b[0m, in \u001b[0;36mPlotAccessor.hexbin\u001b[1;34m(self, x, y, C, reduce_C_function, gridsize, **kwargs)\u001b[0m\n\u001b[0;32m   1762\u001b[0m \u001b[38;5;28;01mif\u001b[39;00m gridsize \u001b[38;5;129;01mis\u001b[39;00m \u001b[38;5;129;01mnot\u001b[39;00m \u001b[38;5;28;01mNone\u001b[39;00m:\n\u001b[0;32m   1763\u001b[0m     kwargs[\u001b[38;5;124m\"\u001b[39m\u001b[38;5;124mgridsize\u001b[39m\u001b[38;5;124m\"\u001b[39m] \u001b[38;5;241m=\u001b[39m gridsize\n\u001b[1;32m-> 1765\u001b[0m \u001b[38;5;28;01mreturn\u001b[39;00m \u001b[38;5;28mself\u001b[39m(kind\u001b[38;5;241m=\u001b[39m\u001b[38;5;124m\"\u001b[39m\u001b[38;5;124mhexbin\u001b[39m\u001b[38;5;124m\"\u001b[39m, x\u001b[38;5;241m=\u001b[39mx, y\u001b[38;5;241m=\u001b[39my, C\u001b[38;5;241m=\u001b[39mC, \u001b[38;5;241m*\u001b[39m\u001b[38;5;241m*\u001b[39mkwargs)\n",
      "File \u001b[1;32m~\\AppData\\Local\\Programs\\Python\\Python39\\lib\\site-packages\\pandas\\plotting\\_core.py:920\u001b[0m, in \u001b[0;36mPlotAccessor.__call__\u001b[1;34m(self, *args, **kwargs)\u001b[0m\n\u001b[0;32m    918\u001b[0m \u001b[38;5;28;01mif\u001b[39;00m kind \u001b[38;5;129;01min\u001b[39;00m \u001b[38;5;28mself\u001b[39m\u001b[38;5;241m.\u001b[39m_dataframe_kinds:\n\u001b[0;32m    919\u001b[0m     \u001b[38;5;28;01mif\u001b[39;00m \u001b[38;5;28misinstance\u001b[39m(data, ABCDataFrame):\n\u001b[1;32m--> 920\u001b[0m         \u001b[38;5;28;01mreturn\u001b[39;00m plot_backend\u001b[38;5;241m.\u001b[39mplot(data, x\u001b[38;5;241m=\u001b[39mx, y\u001b[38;5;241m=\u001b[39my, kind\u001b[38;5;241m=\u001b[39mkind, \u001b[38;5;241m*\u001b[39m\u001b[38;5;241m*\u001b[39mkwargs)\n\u001b[0;32m    921\u001b[0m     \u001b[38;5;28;01melse\u001b[39;00m:\n\u001b[0;32m    922\u001b[0m         \u001b[38;5;28;01mraise\u001b[39;00m \u001b[38;5;167;01mValueError\u001b[39;00m(\u001b[38;5;124mf\u001b[39m\u001b[38;5;124m\"\u001b[39m\u001b[38;5;124mplot kind \u001b[39m\u001b[38;5;132;01m{\u001b[39;00mkind\u001b[38;5;132;01m}\u001b[39;00m\u001b[38;5;124m can only be used for data frames\u001b[39m\u001b[38;5;124m\"\u001b[39m)\n",
      "File \u001b[1;32m~\\AppData\\Local\\Programs\\Python\\Python39\\lib\\site-packages\\pandas\\plotting\\_matplotlib\\__init__.py:71\u001b[0m, in \u001b[0;36mplot\u001b[1;34m(data, kind, **kwargs)\u001b[0m\n\u001b[0;32m     69\u001b[0m         kwargs[\u001b[38;5;124m\"\u001b[39m\u001b[38;5;124max\u001b[39m\u001b[38;5;124m\"\u001b[39m] \u001b[38;5;241m=\u001b[39m \u001b[38;5;28mgetattr\u001b[39m(ax, \u001b[38;5;124m\"\u001b[39m\u001b[38;5;124mleft_ax\u001b[39m\u001b[38;5;124m\"\u001b[39m, ax)\n\u001b[0;32m     70\u001b[0m plot_obj \u001b[38;5;241m=\u001b[39m PLOT_CLASSES[kind](data, \u001b[38;5;241m*\u001b[39m\u001b[38;5;241m*\u001b[39mkwargs)\n\u001b[1;32m---> 71\u001b[0m \u001b[43mplot_obj\u001b[49m\u001b[38;5;241;43m.\u001b[39;49m\u001b[43mgenerate\u001b[49m\u001b[43m(\u001b[49m\u001b[43m)\u001b[49m\n\u001b[0;32m     72\u001b[0m plot_obj\u001b[38;5;241m.\u001b[39mdraw()\n\u001b[0;32m     73\u001b[0m \u001b[38;5;28;01mreturn\u001b[39;00m plot_obj\u001b[38;5;241m.\u001b[39mresult\n",
      "File \u001b[1;32m~\\AppData\\Local\\Programs\\Python\\Python39\\lib\\site-packages\\pandas\\plotting\\_matplotlib\\core.py:448\u001b[0m, in \u001b[0;36mMPLPlot.generate\u001b[1;34m(self)\u001b[0m\n\u001b[0;32m    446\u001b[0m \u001b[38;5;28mself\u001b[39m\u001b[38;5;241m.\u001b[39m_compute_plot_data()\n\u001b[0;32m    447\u001b[0m \u001b[38;5;28mself\u001b[39m\u001b[38;5;241m.\u001b[39m_setup_subplots()\n\u001b[1;32m--> 448\u001b[0m \u001b[38;5;28;43mself\u001b[39;49m\u001b[38;5;241;43m.\u001b[39;49m\u001b[43m_make_plot\u001b[49m\u001b[43m(\u001b[49m\u001b[43m)\u001b[49m\n\u001b[0;32m    449\u001b[0m \u001b[38;5;28mself\u001b[39m\u001b[38;5;241m.\u001b[39m_add_table()\n\u001b[0;32m    450\u001b[0m \u001b[38;5;28mself\u001b[39m\u001b[38;5;241m.\u001b[39m_make_legend()\n",
      "File \u001b[1;32m~\\AppData\\Local\\Programs\\Python\\Python39\\lib\\site-packages\\pandas\\plotting\\_matplotlib\\core.py:1304\u001b[0m, in \u001b[0;36mHexBinPlot._make_plot\u001b[1;34m(self)\u001b[0m\n\u001b[0;32m   1302\u001b[0m \u001b[38;5;66;03m# pandas uses colormap, matplotlib uses cmap.\u001b[39;00m\n\u001b[0;32m   1303\u001b[0m cmap \u001b[38;5;241m=\u001b[39m \u001b[38;5;28mself\u001b[39m\u001b[38;5;241m.\u001b[39mcolormap \u001b[38;5;129;01mor\u001b[39;00m \u001b[38;5;124m\"\u001b[39m\u001b[38;5;124mBuGn\u001b[39m\u001b[38;5;124m\"\u001b[39m\n\u001b[1;32m-> 1304\u001b[0m cmap \u001b[38;5;241m=\u001b[39m \u001b[43mmpl\u001b[49m\u001b[38;5;241;43m.\u001b[39;49m\u001b[43mcolormaps\u001b[49m\u001b[38;5;241;43m.\u001b[39;49m\u001b[43mget_cmap\u001b[49m(cmap)\n\u001b[0;32m   1305\u001b[0m cb \u001b[38;5;241m=\u001b[39m \u001b[38;5;28mself\u001b[39m\u001b[38;5;241m.\u001b[39mkwds\u001b[38;5;241m.\u001b[39mpop(\u001b[38;5;124m\"\u001b[39m\u001b[38;5;124mcolorbar\u001b[39m\u001b[38;5;124m\"\u001b[39m, \u001b[38;5;28;01mTrue\u001b[39;00m)\n\u001b[0;32m   1307\u001b[0m \u001b[38;5;28;01mif\u001b[39;00m C \u001b[38;5;129;01mis\u001b[39;00m \u001b[38;5;28;01mNone\u001b[39;00m:\n",
      "\u001b[1;31mAttributeError\u001b[0m: 'ColormapRegistry' object has no attribute 'get_cmap'"
     ]
    },
    {
     "data": {
      "image/png": "[encoded data removed]",
      "text/plain": [
       "<Figure size 432x288 with 1 Axes>"
      ]
     },
     "metadata": {
      "needs_background": "light"
     },
     "output_type": "display_data"
    }
   ],
   "source": [
    "df.plot.hexbin(x = 'sepal length', y = 'petal length'); #6角形格子図（散布図と同様に，x,y軸を入れる.）"
   ]
  },
  {
   "cell_type": "code",
   "execution_count": null,
   "metadata": {
    "colab": {
     "base_uri": "https://localhost:8080/",
     "height": 265
    },
    "colab_type": "code",
    "id": "JQDzPNPa7Ca3",
    "outputId": "0e19f10a-6caf-4bd5-81bf-dd7b2c0db3d4"
   },
   "outputs": [],
   "source": [
    "df.plot.line();#線グラフ df.plot()でも同じ"
   ]
  },
  {
   "cell_type": "markdown",
   "metadata": {
    "colab_type": "text",
    "id": "kIMO-x9v7Ca6"
   },
   "source": [
    "## 問題\n",
    "\n",
    "ポケモンのデータを自分なりに可視化せよ．その際，どの列に対して，どの図を選択すれば良いか考え，考察とともにレポートせよ．"
   ]
  },
  {
   "cell_type": "markdown",
   "metadata": {},
   "source": [
    "各世代におけるTotalの値の違い"
   ]
  },
  {
   "cell_type": "code",
   "execution_count": null,
   "metadata": {
    "colab": {},
    "colab_type": "code",
    "id": "zhjwfWsN7Ca6"
   },
   "outputs": [],
   "source": [
    "pokemon.loc[ : , ['Total', 'Generation']].plot.scatter(x = 'Generation', y = 'Total');"
   ]
  },
  {
   "cell_type": "markdown",
   "metadata": {
    "colab_type": "text",
    "id": "iNDVtfs27Ca9"
   },
   "source": [
    "## 多次元データ 1 並行座標図\n",
    "\n",
    "散布図では3次元までの図を可視化できるが，4次元以上だと人間の目では無理だ．\n",
    "\n",
    "多次元データを可視化するための方法として**並行座標図**がある．\n",
    "\n",
    "これは散布図の $y$ 軸を $x$ 軸と並行にしたものである．複数の $y$ 軸があっても大丈夫だが，あまり多いとよく分からなくなる．\n",
    "\n",
    "pandasでは**plotting**（古いバージョンだと**tools.plotting**）にある**parallel_coordinates** 関数を用いて並行座標図を描画できる．\n",
    "\n",
    "第1引数はデータフレームであり，第2引数は分けて描画したいクラスを表す列名を与える．\n",
    "\n",
    "並行座標図は，比例関係は平行な直線で，反比例関係は1つの点で交わる直線群で描画する．\n",
    "\n",
    "例として，$x= 0,1,2, \\ldots,9$，$y=2x$, $z=10-x$ を描画してみよう．"
   ]
  },
  {
   "cell_type": "code",
   "execution_count": null,
   "metadata": {
    "colab": {},
    "colab_type": "code",
    "id": "g55PtcuT7Ca-"
   },
   "outputs": [],
   "source": [
    "from pandas.plotting import parallel_coordinates"
   ]
  },
  {
   "cell_type": "code",
   "execution_count": null,
   "metadata": {
    "colab": {
     "base_uri": "https://localhost:8080/",
     "height": 203
    },
    "colab_type": "code",
    "id": "oL680rv37CbB",
    "outputId": "96f66489-0454-4ac3-95c3-23eaa005e00f"
   },
   "outputs": [],
   "source": [
    "data = []   # x,y,zを入れたリストを作成\n",
    "for i in range(10):                    \n",
    "    row = [ i, 2*i, 10-i, 'dummy' ] #クラス名を指定するためにダミーの列を最後に追加\n",
    "    data.append( row )\n",
    "testdf = pd.DataFrame(data)\n",
    "testdf"
   ]
  },
  {
   "cell_type": "code",
   "execution_count": null,
   "metadata": {
    "colab": {
     "base_uri": "https://localhost:8080/",
     "height": 265
    },
    "colab_type": "code",
    "id": "mZoO8yRz7CbD",
    "outputId": "db69ad26-a48f-4349-c6cb-0b4662445892"
   },
   "outputs": [],
   "source": [
    "parallel_coordinates(testdf,3); #ダミーの列の名前は 3 "
   ]
  },
  {
   "cell_type": "markdown",
   "metadata": {
    "colab_type": "text",
    "id": "2MUcGMVD7CbF"
   },
   "source": [
    "## 問題\n",
    "\n",
    "1. iris（アヤメ）のデータフレームをアヤメの種類 'class' ごとに並行座標図に描画せよ．\n",
    "\n",
    "2. ポケモンデータを並行座標図で描画せよ．\n",
    "ただし，伝説ポケモンか否か（Legendary)でクラス分けを行い，軸としては体力(HP)，攻撃力(Attack)，守備力(Defense)を用いよ．\n"
   ]
  },
  {
   "cell_type": "code",
   "execution_count": null,
   "metadata": {
    "colab": {},
    "colab_type": "code",
    "id": "yR4q13JC7CbG"
   },
   "outputs": [],
   "source": [
    "#1\n",
    "Testdf = pd.DataFrame(df)\n",
    "Testdf"
   ]
  },
  {
   "cell_type": "code",
   "execution_count": null,
   "metadata": {
    "scrolled": true
   },
   "outputs": [],
   "source": [
    "#1の続き\n",
    "parallel_coordinates(Testdf, 'class');"
   ]
  },
  {
   "cell_type": "code",
   "execution_count": null,
   "metadata": {},
   "outputs": [],
   "source": [
    "pokemon = pd.read_csv(\"http://logopt.com/data/poke.csv\", encoding = \"utf-8\", index_col = 0)\n",
    "pokemon"
   ]
  },
  {
   "cell_type": "code",
   "execution_count": null,
   "metadata": {},
   "outputs": [],
   "source": [
    "pokemon.dtypes"
   ]
  },
  {
   "cell_type": "code",
   "execution_count": null,
   "metadata": {},
   "outputs": [],
   "source": [
    "#2\n",
    "testpoke = pd.DataFrame(pokemon).loc[ : , ['Total', 'HP', 'Attack', 'Defense', 'Legendary']]\n",
    "testpoke"
   ]
  },
  {
   "cell_type": "code",
   "execution_count": null,
   "metadata": {},
   "outputs": [],
   "source": [
    "#2の続き\n",
    "parallel_coordinates(testpoke, 'Legendary');"
   ]
  },
  {
   "cell_type": "markdown",
   "metadata": {
    "colab_type": "text",
    "id": "a520cU4e7CbI"
   },
   "source": [
    "## 多次元データ 2\n",
    "\n",
    "多次元データを可視化するためのもう1つの方法として**Andrew曲線**がある．\n",
    "\n",
    "これは．多次元データ $x_1,x_2,\\ldots$ をフーリエ曲線\n",
    "\n",
    "$$\n",
    "f_x(t) = \\frac{x_1}{\\sqrt 2} + x_2 \\sin(t) + x_3 \\cos(t) + x_4 \\sin(2t) + x_5 \\cos(2t) + \\cdots\n",
    "$$\n",
    "\n",
    "で変換し，$-\\pi < t < \\pi$ の間に描画したものである．\n",
    "\n",
    "pandasでは**plotting**（古いバージョンだと**tools.plotting**）にある**andrews_curves** 関数を用いて並行座標図を描画できる．\n",
    "\n",
    "第1引数はデータフレームであり，第2引数は分けて描画したいクラスを表す列名を与える．\n",
    "\n",
    "例として，$x= 0,1,2, \\ldots,9$，$y=2x$, $z=10-x$ を描画してみよう．"
   ]
  },
  {
   "cell_type": "code",
   "execution_count": null,
   "metadata": {
    "colab": {},
    "colab_type": "code",
    "id": "jWCoNSHb7CbJ"
   },
   "outputs": [],
   "source": [
    "from pandas.plotting import andrews_curves"
   ]
  },
  {
   "cell_type": "code",
   "execution_count": null,
   "metadata": {
    "colab": {
     "base_uri": "https://localhost:8080/",
     "height": 265
    },
    "colab_type": "code",
    "id": "BMnJu5rc7CbK",
    "outputId": "302e754c-404d-4710-85cb-4bae60a35bdd"
   },
   "outputs": [],
   "source": [
    "andrews_curves(testdf, 3);"
   ]
  },
  {
   "cell_type": "markdown",
   "metadata": {
    "colab_type": "text",
    "id": "SB161ZuZ7CbO"
   },
   "source": [
    "## 問題\n",
    "\n",
    "1. アヤメ(iris)データをアヤメの種類 'class' ごとにAndrew曲線で描画せよ．\n",
    "\n",
    "2. ポケモンデータをAndrew曲線で描画せよ．\n",
    "ただし，伝説ポケモンか否か（Legendary)でクラス分けを行い，軸としては体力(HP)，攻撃力(Attack)，守備力(Defense)を用いよ．"
   ]
  },
  {
   "cell_type": "code",
   "execution_count": null,
   "metadata": {
    "colab": {},
    "colab_type": "code",
    "id": "oomZMYMh7CbO"
   },
   "outputs": [],
   "source": [
    "#1\n",
    "Testdf = pd.DataFrame(df)\n",
    "Testdf"
   ]
  },
  {
   "cell_type": "code",
   "execution_count": null,
   "metadata": {
    "colab": {},
    "colab_type": "code",
    "id": "WvwTxeyQ7CbQ"
   },
   "outputs": [],
   "source": [
    "#1\n",
    "andrews_curves(Testdf, 'class');"
   ]
  },
  {
   "cell_type": "code",
   "execution_count": null,
   "metadata": {},
   "outputs": [],
   "source": [
    "#2\n",
    "testpoke = pd.DataFrame(pokemon).loc[ : , ['Total', 'HP', 'Attack', 'Defense', 'Legendary']]\n",
    "testpoke"
   ]
  },
  {
   "cell_type": "code",
   "execution_count": null,
   "metadata": {},
   "outputs": [],
   "source": [
    "#2\n",
    "andrews_curves(testpoke, 'Legendary');"
   ]
  },
  {
   "cell_type": "markdown",
   "metadata": {
    "colab_type": "text",
    "id": "wSGiIjyC7CbS"
   },
   "source": [
    "## データ解析用描画モジュール seaborn \n",
    "\n",
    "seabornを用いることによって，さらに簡単にデータ解析ができ，描画も綺麗になる．\n",
    "\n",
    "まずはseabornモジュールを**sns**という別名で読み込んでおく．\n"
   ]
  },
  {
   "cell_type": "code",
   "execution_count": null,
   "metadata": {
    "colab": {},
    "colab_type": "code",
    "id": "JjtcLEZg7CbT"
   },
   "outputs": [],
   "source": [
    "import seaborn as sns\n",
    "%matplotlib inline"
   ]
  },
  {
   "cell_type": "markdown",
   "metadata": {
    "colab_type": "text",
    "id": "srm3blRQ7CbU"
   },
   "source": [
    "## ヒストグラム\n",
    "\n",
    "seabornでヒストグラム（histgram, 度数分布表）に対応するものは**displot**（distribution plot）だ．\n",
    "\n",
    "例としてiris（アヤメ）のデータの「がく片長」('sepal length')を描画してみる．\n",
    "\n",
    "引数としては，以下のものがあるので，色々試してみよう．\n",
    "\n",
    "* bins: ビンの数\n",
    "* kde: カーネル密度推定の有無\n",
    "* rug: データの位置(敷物:rug)の有無"
   ]
  },
  {
   "cell_type": "code",
   "execution_count": null,
   "metadata": {
    "colab": {
     "base_uri": "https://localhost:8080/",
     "height": 203
    },
    "colab_type": "code",
    "id": "k8nDFb_j7CbU",
    "outputId": "7b0b7a26-a4b5-4f89-e4a2-8ee05b6f8479"
   },
   "outputs": [],
   "source": [
    "df = pd.read_csv('http://logopt.com/data/iris.data', names=['sepal length','sepal width','petal length','petal width', 'class'])\n",
    "df.head()"
   ]
  },
  {
   "cell_type": "code",
   "execution_count": null,
   "metadata": {
    "colab": {
     "base_uri": "https://localhost:8080/",
     "height": 279
    },
    "colab_type": "code",
    "id": "dou5j1oG7CbW",
    "outputId": "30e288ed-dbed-4a88-d110-ac18017ebc9c"
   },
   "outputs": [],
   "source": [
    "sns.distplot(df['sepal length'], bins=20, rug=True, kde =True);"
   ]
  },
  {
   "cell_type": "markdown",
   "metadata": {
    "colab_type": "text",
    "id": "r78qAXMk7CbY"
   },
   "source": [
    "### 問題\n",
    "\n",
    "http://logopt.com/data/SATGPA.csv データを読み込み，GPAの分布をdistplotを用いて描画せよ．"
   ]
  },
  {
   "cell_type": "code",
   "execution_count": null,
   "metadata": {
    "colab": {},
    "colab_type": "code",
    "id": "8a4_A6c87CbZ"
   },
   "outputs": [],
   "source": [
    "# bins: ビンの数\n",
    "# kde: カーネル密度推定の有無\n",
    "# rug: データの位置(敷物:rug)の有無\n",
    "\n",
    "stagpa = pd.read_csv('http://logopt.com/data/SATGPA.csv')\n",
    "sns.distplot(stagpa['GPA'], bins=10, rug=True, kde =False);"
   ]
  },
  {
   "cell_type": "markdown",
   "metadata": {
    "colab_type": "text",
    "id": "ptti-MSR7Cba"
   },
   "source": [
    "## 散布図\n",
    "\n",
    "seabornで散布図に対応するものは**jointplot**だ．おまけとして分布も表示される．\n",
    "\n",
    "引数としては，$x,y$ と $data$ の他に種類を表す**kind**がある．\n",
    "\n",
    "kindは以下のものがとれるので，色々試してみよう．\n",
    "\n",
    "*  \"scatter\"：普通の散布図\n",
    "* \"reg\" : 回帰分析\n",
    "* \"resid\" : 回帰の残差\n",
    "* \"kde\" : カーネル密度推定\n",
    "* \"hex\" : 6角形格子 "
   ]
  },
  {
   "cell_type": "code",
   "execution_count": null,
   "metadata": {
    "colab": {
     "base_uri": "https://localhost:8080/",
     "height": 441
    },
    "colab_type": "code",
    "id": "mF397gTS7Cba",
    "outputId": "8fc8d10c-25b1-44c0-8b09-dd2fdd23db37"
   },
   "outputs": [],
   "source": [
    "sns.jointplot( x='sepal length', y='petal length', data=df,  kind='hex');"
   ]
  },
  {
   "cell_type": "markdown",
   "metadata": {
    "colab_type": "text",
    "id": "D80v975E7Cbc"
   },
   "source": [
    "データフレームに含まれる複数の列間の散布図を一度に描画するには**pairplot**を用いる．\n",
    "\n",
    "引数として**hue**（色調）をとることができ，色を変えたい列名（以下の例ではアヤメの種類('class'）を指定して描画している．\n"
   ]
  },
  {
   "cell_type": "code",
   "execution_count": null,
   "metadata": {
    "colab": {
     "base_uri": "https://localhost:8080/",
     "height": 726
    },
    "colab_type": "code",
    "id": "biCjQOcF7Cbc",
    "outputId": "3d10923b-185f-4853-f85d-d544c78e7250"
   },
   "outputs": [],
   "source": [
    "sns.pairplot(df, hue = 'class');"
   ]
  },
  {
   "cell_type": "markdown",
   "metadata": {
    "colab_type": "text",
    "id": "BLyHP_-P7Cbe"
   },
   "source": [
    "### 問題\n",
    "1. http://logopt.com/data/SATGPA.csv データを読み込み，MathSATとGPAの関係をjointplotを用いて描画せよ．\n",
    "2. http://logopt.com/data/SATGPA.csv データを読み込み，MathSAT, VerbalSAT, GPAの相互関係をpairplotを用いて描画せよ．"
   ]
  },
  {
   "cell_type": "code",
   "execution_count": null,
   "metadata": {
    "colab": {},
    "colab_type": "code",
    "id": "HhwaXt4g7Cbf"
   },
   "outputs": [],
   "source": [
    "#1\n",
    "sns.jointplot( x = 'MathSAT', y = 'GPA', data = stagpa,  kind = 'scatter');"
   ]
  },
  {
   "cell_type": "code",
   "execution_count": null,
   "metadata": {
    "colab": {},
    "colab_type": "code",
    "id": "Myiiw3lW7Cbh"
   },
   "outputs": [],
   "source": [
    "#2\n",
    "sns.pairplot(stagpa, vars = ['MathSAT', 'VerbalSAT', 'GPA']);"
   ]
  },
  {
   "cell_type": "markdown",
   "metadata": {
    "colab_type": "text",
    "id": "zMYAGGs07Cbl"
   },
   "source": [
    "## 回帰プロット\n",
    "\n",
    "seabornでは統計モジュール**statsmodels**を用いた回帰分析の結果を描画することができる．\n",
    "\n",
    "カテゴリーデータ別の回帰を行いたい場合には，FacetGrid）を用いるのだが，**lmplot**は回帰の結果をFacetGridで表示してくる優れものである．\n",
    "\n",
    "例としてseabornに例題として含まれているtipsデータを用いる．\n",
    "\n",
    "FacetGridでは行(row)と列(col)を表すカテゴリーデータを引数で指定できる他に，色調(hue)も用いることができる．\n",
    "\n",
    "以下の例では，tipsデータに対して支払総額（'total_bill'）とチップ（'tip'）の関係を，\n",
    "行に喫煙者か否か（row='smoker'），列に性別（col='sex'），色調に昼食か夕食か（hue='time')を設定して分析する．\n"
   ]
  },
  {
   "cell_type": "code",
   "execution_count": null,
   "metadata": {
    "colab": {
     "base_uri": "https://localhost:8080/",
     "height": 203
    },
    "colab_type": "code",
    "id": "KWmRtwpc7Cbm",
    "outputId": "27511779-1cea-406c-a871-917559672ff9"
   },
   "outputs": [],
   "source": [
    "tips = sns.load_dataset('tips')\n",
    "tips"
   ]
  },
  {
   "cell_type": "code",
   "execution_count": null,
   "metadata": {
    "colab": {
     "base_uri": "https://localhost:8080/",
     "height": 729
    },
    "colab_type": "code",
    "id": "UQT2nPIr7Cbp",
    "outputId": "7ba0ab1f-4c84-4d06-cddc-33eb1449607e"
   },
   "outputs": [],
   "source": [
    "sns.lmplot(x='total_bill', y='tip', data=tips, row='smoker', col='sex', hue='time');"
   ]
  },
  {
   "cell_type": "markdown",
   "metadata": {
    "colab_type": "text",
    "id": "UmpiKZ-D7Cbr"
   },
   "source": [
    "## カテゴリーデータの分析\n",
    "\n",
    "カテゴリーデータ別に集計したい場合には，**factorplot**を用いると便利だ．\n",
    "\n",
    "引数は以下の通り．\n",
    "\n",
    "* x: x軸\n",
    "* y: y軸\n",
    "* data: データフレーム\n",
    "* row: 行名\n",
    "* col: 列名\n",
    "* hue: 色調\n",
    "* kind: グラフの種類 (point, bar, count, box, violin, strip)\n",
    "* split: バイオリン図(violin：箱ひげ図の拡張)の場合だけ有効で，Trueのとき左右に色調を分けて描画する．\n",
    "\n",
    "以下の例では，tipsデータに対し，日ごと(x)のチップ（y)を喫煙者か否か（row='smoker'），性別（col='sex'），\n",
    "昼食か夕食か（hue='time'）ごとにバイオリン図で描画している．"
   ]
  },
  {
   "cell_type": "code",
   "execution_count": null,
   "metadata": {
    "colab": {
     "base_uri": "https://localhost:8080/",
     "height": 690
    },
    "colab_type": "code",
    "id": "2B4QQKbJ7Cbr",
    "outputId": "d4f49f0b-bcf6-43ee-bf3a-7207abf1751f"
   },
   "outputs": [],
   "source": [
    "sns.catplot(x='day', y='tip',  data=tips, row='smoker', col='sex', hue='time', split=True, kind='violin');"
   ]
  },
  {
   "cell_type": "markdown",
   "metadata": {
    "colab_type": "text",
    "id": "fcMieEe17Cbu"
   },
   "source": [
    "### 問題\n",
    "\n",
    "1. seabornに例題として含まれているtitanicデータを読み込み，運賃(fare）と生存確率(survived)のロジスティック回帰を，性別(sex)ごとに行え．\n",
    "（ヒント：ロジスティック回帰を行うには，lmplotの引数のlogisticをTrueにする．）\n",
    "\n",
    "2. seabornに例題として含まれているtitanicデータを読み込み，客室クラス(class）と性別(sex)ごとの生存確率(survived)を集計した結果を描画せよ．"
   ]
  },
  {
   "cell_type": "code",
   "execution_count": null,
   "metadata": {
    "colab": {},
    "colab_type": "code",
    "id": "bRkSFQZI7Cbu",
    "outputId": "8e6da2e4-a364-45ff-9be0-191b8c52b6a7"
   },
   "outputs": [],
   "source": [
    "titanic = sns.load_dataset('titanic')\n",
    "titanic"
   ]
  },
  {
   "cell_type": "code",
   "execution_count": null,
   "metadata": {},
   "outputs": [],
   "source": [
    "t.fillna('Unknown').tail()"
   ]
  },
  {
   "cell_type": "code",
   "execution_count": null,
   "metadata": {},
   "outputs": [],
   "source": [
    "titanic = sns.load_dataset('titanic').loc[ : , ['survived', 'fare', 'class', 'sex']]\n",
    "titanic"
   ]
  },
  {
   "cell_type": "code",
   "execution_count": null,
   "metadata": {},
   "outputs": [],
   "source": [
    "import statsmodels"
   ]
  },
  {
   "cell_type": "code",
   "execution_count": null,
   "metadata": {},
   "outputs": [],
   "source": [
    "import statsmodels.api"
   ]
  },
  {
   "cell_type": "code",
   "execution_count": null,
   "metadata": {
    "colab": {},
    "colab_type": "code",
    "id": "1B_E9OuP7Cbv"
   },
   "outputs": [],
   "source": [
    "#1\n",
    "sns.lmplot(x = 'fare', y = 'survived', data = titanic, col = 'sex', logistic = True);"
   ]
  },
  {
   "cell_type": "code",
   "execution_count": null,
   "metadata": {},
   "outputs": [],
   "source": [
    "#1\n",
    "sns.lmplot(x = 'fare', y = 'survived', data = titanic, col = 'sex');"
   ]
  },
  {
   "cell_type": "code",
   "execution_count": null,
   "metadata": {},
   "outputs": [],
   "source": [
    "#2\n",
    "sns.lmplot(x = 'pclass', y = 'survived', data = titanic, col = 'sex', logistic = True);"
   ]
  }
 ],
 "metadata": {
  "colab": {
   "collapsed_sections": [],
   "include_colab_link": true,
   "name": "matplotlib1.0.ipynb",
   "provenance": [],
   "version": "0.3.2"
  },
  "kernelspec": {
   "display_name": "Python 3 (ipykernel)",
   "language": "python",
   "name": "python3"
  },
  "language_info": {
   "codemirror_mode": {
    "name": "ipython",
    "version": 3
   },
   "file_extension": ".py",
   "mimetype": "text/x-python",
   "name": "python",
   "nbconvert_exporter": "python",
   "pygments_lexer": "ipython3",
   "version": "3.9.12"
  }
 },
 "nbformat": 4,
 "nbformat_minor": 4
}
