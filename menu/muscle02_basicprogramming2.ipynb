{
 "cells": [
  {
   "cell_type": "markdown",
   "metadata": {},
   "source": [
    "# 7. 関数\n",
    "\n",
    "プログラムが長くなると，部品を作って何度も再利用したくなります．\n",
    "\n",
    "そのようなプログラムの部品のことを関数と呼びます. Pythonでは， def で定義します．\n",
    "\n",
    "基本的な構文は以下の通りです．\n",
    "\n",
    "```python\n",
    "def 関数名(引数）:\n",
    "\n",
    "　　関数本体\n",
    "  \n",
    "　　return 返値\n",
    "```\n",
    "関数は入力を出力に変換します．\n",
    "\n",
    "   入力  => 関数   => 出力 \n",
    " \n",
    "入力を「引数（ひきすう）」，出力を「返値（かえりち）」と呼びます．return文はなくても大丈夫です．その場合には返値はありません（Noneという特別なオブジェクトが返されます）．\n",
    "\n",
    "\n",
    "● 例題７－１\n",
    "\n",
    "整数nを引数として受け取り，print “#”; を n回繰り返し，長さnの#でできた棒を表示し，その後改行をする関数を作りなさい．\n",
    "\n",
    "例えば，10 を渡すと\n",
    "\n",
    "##########\n",
    "\n",
    "が表示され，25を渡すと，\n",
    "\n",
    "#########################\n",
    "\n",
    "が表示されるような関数を作る，ということです．\n"
   ]
  },
  {
   "cell_type": "code",
   "execution_count": null,
   "metadata": {},
   "outputs": [],
   "source": [
    "def sub(n):\n",
    "    for i in range(n):\n",
    "        print('#',end='')\n",
    "\n",
    "n = int(input('n='))\n",
    "sub(n)"
   ]
  },
  {
   "cell_type": "markdown",
   "metadata": {},
   "source": [
    "● 例題７－２\n",
    "\n",
    "２つの数字を引数とし，その和を返値として返す関数を記述し，その関数を用いて 3と5の和を計算せよ．また，100と200の和も計算せよ．\n",
    "\n",
    "複数の引数はカンマで区切って関数に渡します．\n",
    "\n",
    "関数の値は返値になります．\n"
   ]
  },
  {
   "cell_type": "code",
   "execution_count": null,
   "metadata": {},
   "outputs": [],
   "source": [
    "def computeSum(x,y):\n",
    "      return x+y \n",
    "    \n",
    "print( computeSum(3,5) )\n",
    "print( computeSum(100,200) )"
   ]
  },
  {
   "cell_type": "markdown",
   "metadata": {},
   "source": [
    "● 例題７－３\n",
    "\n",
    "フィボナッチ数 $F_n$ は\n",
    "\n",
    "$\n",
    "F_1 =1  \\\\\n",
    "F_2 =1  \\\\\n",
    "F_n= F_{n-1} +F_{n-2}\n",
    "$\n",
    "\n",
    "と再帰的に定義される数列です．$F_5$ を計算してください．\n",
    "\n",
    "これは関数 F の中で同じ関数 F を呼び出す再帰的なプログラムで記述します．"
   ]
  },
  {
   "cell_type": "code",
   "execution_count": null,
   "metadata": {},
   "outputs": [],
   "source": [
    "def F(n):\n",
    "    if n==1 or n==2:\n",
    "        return 1\n",
    "    else:\n",
    "        return F(n-1)+F(n-2)\n",
    "print(F(5))"
   ]
  },
  {
   "cell_type": "markdown",
   "metadata": {},
   "source": [
    "● 問題 7-1\n",
    "\n",
    "3つの整数を引数として渡すと，その積を返す関数を記述せよ．その関数を用いて，$2*5*7$ と $123*456*234$ を計算せよ．"
   ]
  },
  {
   "cell_type": "code",
   "execution_count": null,
   "metadata": {},
   "outputs": [],
   "source": [
    "def seki(a, b, c):\n",
    "    s = a * b * c\n",
    "    return s\n",
    "\n",
    "d = 2\n",
    "e = 5\n",
    "f = 7\n",
    "un = seki(d, e, f)\n",
    "print(un)\n",
    "\n",
    "g = 123\n",
    "h = 456\n",
    "i = 234\n",
    "un2 = seki(g, h, i)\n",
    "print(un2)"
   ]
  },
  {
   "cell_type": "code",
   "execution_count": null,
   "metadata": {},
   "outputs": [],
   "source": [
    "def seki(a, b, c):\n",
    "    s = a * b * c\n",
    "    return s\n",
    "\n",
    "d = 2\n",
    "e = 5\n",
    "f = 7\n",
    "print(seki(d, e, f))"
   ]
  },
  {
   "cell_type": "markdown",
   "metadata": {},
   "source": [
    "●問題 7-2\n",
    "\n",
    "問題7-1の関数を，入力した3つの数を引数として3回呼び出しなさい．例えば8,13,4と入力したら，\n",
    "\n",
    "########\n",
    "\n",
    "#############\n",
    "\n",
    "####\n",
    "\n",
    "と，棒グラフのような表示をする，ということです．"
   ]
  },
  {
   "cell_type": "code",
   "execution_count": null,
   "metadata": {},
   "outputs": [],
   "source": [
    "def sub(a, b, c):\n",
    "    for i in range(a):\n",
    "        print('#',end='')\n",
    "    print()\n",
    "    print()\n",
    "    for i in range(b):\n",
    "        print('#',end='')\n",
    "    print()\n",
    "    print()\n",
    "    for i in range(c):\n",
    "        print('#',end='')\n",
    "\n",
    "d = int(input(\"a入力\"))\n",
    "e = int(input(\"b入力\"))\n",
    "f = int(input(\"c入力\"))\n",
    "\n",
    "sub(d, e, f)"
   ]
  },
  {
   "cell_type": "code",
   "execution_count": null,
   "metadata": {},
   "outputs": [],
   "source": [
    "def sub(a, b, c):\n",
    "    for i in range(a):\n",
    "        print('#',end='')\n",
    "    print()\n",
    "    print()\n",
    "    for i in range(b):\n",
    "        print('#',end='')\n",
    "    print()\n",
    "    print()\n",
    "    for i in range(c):\n",
    "        print('#',end='')\n",
    "\n",
    "d, e, f = map(int, input().split())\n",
    "sub(d, e, f)"
   ]
  },
  {
   "cell_type": "markdown",
   "metadata": {},
   "source": [
    "●問題 7-3\n",
    "問題7-1の関数を使って，#でできた三角形を表示するプログラムを作りなさい．\n",
    "例えば，このようなものを表示するプログラムです．\n",
    "\n",
    "#\n",
    "##\n",
    "###\n",
    "####\n",
    "#####\n",
    "######"
   ]
  },
  {
   "cell_type": "code",
   "execution_count": null,
   "metadata": {},
   "outputs": [],
   "source": [
    "def tri(n):\n",
    "    for i in range(1, n + 1):\n",
    "        print(\" \" * ( n - i ) + \"#\" * ( 2 * i - 1 ) )\n",
    "\n",
    "x = int(input())\n",
    "tri(x)"
   ]
  },
  {
   "cell_type": "markdown",
   "metadata": {},
   "source": [
    "●問題7-4\n",
    "\n",
    "\n",
    "数aを渡すと，aが正なら1を，負なら -1を，0ならば0を返す関数を作りなさい．"
   ]
  },
  {
   "cell_type": "code",
   "execution_count": null,
   "metadata": {},
   "outputs": [],
   "source": [
    "def judge(a):\n",
    "    if a > 0:\n",
    "        return 1\n",
    "    elif a == 0:\n",
    "        return 0\n",
    "    else:\n",
    "        return -1\n",
    "\n",
    "a = int(input(\"aを入力\"))\n",
    "print(judge(a))"
   ]
  },
  {
   "cell_type": "markdown",
   "metadata": {},
   "source": [
    "●問題7-5\n",
    "\n",
    "数aを受け取り，数bをキーボードから入力し，a+bの値を返す関数を作りなさい．\n",
    "\n",
    "次に，この関数を使って，数を10個入力してその合計を表示するプログラムを作りなさい．"
   ]
  },
  {
   "cell_type": "code",
   "execution_count": null,
   "metadata": {},
   "outputs": [],
   "source": [
    "def tasu(a):\n",
    "    b = int(input(\"b入力\"))\n",
    "    return a + b\n",
    "\n",
    "print(tasu(1))"
   ]
  },
  {
   "cell_type": "code",
   "execution_count": null,
   "metadata": {},
   "outputs": [],
   "source": [
    "def tasu(x):\n",
    "    ten = 0\n",
    "    for i in range(10):\n",
    "        a = int(input(f\"a[{i + 1}]入力\"))\n",
    "        ten = ten + a\n",
    "    return ten\n",
    "\n",
    "print(tasu(1))"
   ]
  },
  {
   "cell_type": "markdown",
   "metadata": {},
   "source": [
    "●問題7-6\n",
    "\n",
    "$n$ の階乗 $n!$ は\n",
    "\n",
    "$\n",
    "1! =1 \\\\\n",
    "n!= n \\times (n-1)! \n",
    "$\n",
    "\n",
    "と再帰的に定義されます．$n!$ を再帰的に計算する関数 Factorial(n) を記述し，$5!$ を計算しなさい．\n"
   ]
  },
  {
   "cell_type": "code",
   "execution_count": null,
   "metadata": {},
   "outputs": [],
   "source": [
    "def kaijo(n):\n",
    "    if n == 1:\n",
    "        return 1\n",
    "    elif n >= 2:\n",
    "        return kaijo(n - 1) * n\n",
    "\n",
    "n = int(input(\"階乗を入力\"))\n",
    "print(kaijo(n))"
   ]
  },
  {
   "cell_type": "markdown",
   "metadata": {},
   "source": [
    "# 8. 文字列の操作\n",
    "\n",
    "文字列についてはすでに ' ' もしくは \"  \"で挟むと生成できることを知っていると思います．\n",
    "\n",
    "文字列は s ='Hello'は H e l l o が順番に箱に入ってしまわれています．前から順番に 0,1,2, ... と番号付け（添え字とかインデックスといいます）がされています．\n",
    "\n",
    "文字 'H'を取り出すには，s[0] とします．\n",
    "\n",
    "文字 'o' を取り出すには s[4] とします．\n",
    "\n",
    "文字の範囲はスライス表記 [開始番号: 終了番号 -1] で取り出すことができます．たとえば，\n",
    "\n",
    "文字列 'He' を取り出すには，s[0:2] とします．\n",
    "\n",
    "●例題８－１\n",
    "\n",
    "文字列 s = 'Hello World' から'World'を取り出してください．\n",
    "\n"
   ]
  },
  {
   "cell_type": "code",
   "execution_count": null,
   "metadata": {},
   "outputs": [],
   "source": [
    "s = 'Hello World'\n",
    "s[6:11]"
   ]
  },
  {
   "cell_type": "markdown",
   "metadata": {},
   "source": [
    "\n",
    "スライス表記の開始番号と終了番号は省略できます．省略すると開始番号は 0 ，終了番号は文字列の長さ（これは len(文字列) で計算できます）になります．\n",
    "\n",
    "また後ろから番号付けも可能で，最後の文字列の番号は -1，その前の文字列は -2 となります．\n",
    "\n",
    "文字列は加算演算子 $+$ で結合することができます．たとえば，\n",
    "\n",
    "'Hello' + 'World' は 'HelloWorld' になります（空白は挿入されません）．\n",
    "\n",
    "また乗算演算子 $*$ も使うことができます．たとえば， $3*$ 'Hello' とすると 'Hello' +'Hello' +'Hello'  と同じ結果が得られます．\n",
    "\n",
    "●例題８－２\n",
    "\n",
    "5回 \"I'm sorry!\" と出力してみましょう．（文字列の中に'記号を入れたいときには，\" \"で囲みます．）"
   ]
  },
  {
   "cell_type": "code",
   "execution_count": null,
   "metadata": {},
   "outputs": [],
   "source": [
    "print( 5 *\"I'm sorry!\")"
   ]
  },
  {
   "cell_type": "markdown",
   "metadata": {},
   "source": [
    "for文を用いた反復はrange関数によって生成された数列だけでなく，文字列に対しても使えます．\n",
    "\n",
    "たとえば，\n",
    "\n",
    "```python\n",
    "for x in 'Hello': \n",
    "   print( x )\n",
    "``` \n",
    "\n",
    "と書くと，H, e, l, l, o が順番に変数 x に代入されて，print関数で出力されます．\n",
    "\n",
    "●例題８－３\n",
    "\n",
    "文字列 s='Kitty' の各文字の後ろに '!' を入れた文字列 x を出力しなさい．\n"
   ]
  },
  {
   "cell_type": "code",
   "execution_count": null,
   "metadata": {},
   "outputs": [],
   "source": [
    "for x in 'Hello': \n",
    "    print(x)"
   ]
  },
  {
   "cell_type": "code",
   "execution_count": null,
   "metadata": {},
   "outputs": [],
   "source": [
    "s = 'Kitty'\n",
    "x = ''\n",
    "for i in s:\n",
    "    x = x + i + '!'\n",
    "print(x)"
   ]
  },
  {
   "cell_type": "markdown",
   "metadata": {},
   "source": [
    "●問題８－１\n",
    "\n",
    "文字列を入力し，最初と最後が同じ文字なら 'Same!' と出力するプログラムを作りなさい．"
   ]
  },
  {
   "cell_type": "code",
   "execution_count": null,
   "metadata": {},
   "outputs": [],
   "source": [
    "st = input(\"文字列を入力\")\n",
    "a = len(st)\n",
    "if st[0] == st[a - 1]:\n",
    "    print(\"Same!\")\n",
    "else:\n",
    "    pass"
   ]
  },
  {
   "cell_type": "markdown",
   "metadata": {},
   "source": [
    "●問題８－２\n",
    "\n",
    "文字列を入力し，その中に 'a' が含まれているときに 'In!' と出力するプログラムを作りなさい．\n",
    "（実は  *in* という演算子があるので「 'a' in 文字列」で簡単に 'a'を含むかどうかの判定はできるのですが，ここでは反復を用いて作って下さい．） \n"
   ]
  },
  {
   "cell_type": "code",
   "execution_count": null,
   "metadata": {},
   "outputs": [],
   "source": [
    "x = input()\n",
    "a = len(x)\n",
    "b = 0\n",
    "for i in range(0, a):\n",
    "    if x[i] == \"a\":\n",
    "        b = b + 1\n",
    "    else:\n",
    "        pass\n",
    "if b >= 1:\n",
    "    print(\"In!\")\n",
    "else:\n",
    "    pass"
   ]
  },
  {
   "cell_type": "code",
   "execution_count": null,
   "metadata": {},
   "outputs": [],
   "source": [
    "x = input()\n",
    "print(\"a\" in x)"
   ]
  },
  {
   "cell_type": "markdown",
   "metadata": {},
   "source": [
    "●問題８－３\n",
    "\n",
    "文字列を引数とすると，各文字の間と最後に空白を入れた文字列を返値として返する関数を作って下さい．\n",
    "さらに，文字列を入力し，その関数を呼び出して空白を入れた文字を出力するプログラムを書いて下さい．\n"
   ]
  },
  {
   "cell_type": "code",
   "execution_count": null,
   "metadata": {},
   "outputs": [],
   "source": [
    "def space(x):\n",
    "    y = \"\"\n",
    "    for i in x:\n",
    "        y = y + i + \" \"\n",
    "    return y\n",
    "\n",
    "x = input()\n",
    "print(space(x))"
   ]
  },
  {
   "cell_type": "markdown",
   "metadata": {},
   "source": [
    "# 9. リスト(list)\n",
    "\n",
    "Pythonではオブジェクトを保管するための幾つかの便利な機能が（最初から）準備されています．\n",
    "\n",
    "ここではその代表であるリストの使い方を説明します．\n",
    "\n",
    "文字列が文字を箱に順番にしまっていたのと同じように，リストは何でも（Pythonではオブジェクトといいます）箱にしまっておくことができます．\n",
    "\n",
    "リストは[ ]の中に *,*（カンマ）で区切ってものをしまいます．\n",
    "\n",
    "```python\n",
    "L = [ 1, 2, 3, 4]               # range(1,5)と同じように数列を保管\n",
    "L = ['H', 'e', 'l', 'l', 'o']   # 文字列 'Hello' 同じようにう文字を保管\n",
    "L = [ 'AAA', 235, ['BBB',1.3] ] # 文字列，整数，リストを保管\n",
    "\n",
    "```\n",
    "\n",
    "リストに対しても文字列と同じように，足し算，乗算，添え字（インデックス）による抽出や切り出し，for文による反復を行うことができます．\n",
    "\n",
    "リストは文字列と違って可変(mutable)です（文字列は不変(immutable)です）．つまり中身を変えることができます．\n",
    "\n",
    "\n",
    "●例題９－１\n",
    "\n",
    "リスト L=[6, 5, 4, 3] の3番目の数字（Pythonでは0番から始まるので添え字2の数字）を'Hello'に変えて下さい．\n"
   ]
  },
  {
   "cell_type": "code",
   "execution_count": null,
   "metadata": {},
   "outputs": [],
   "source": [
    "L=[6, 5, 4, 3] \n",
    "L[2] ='Hello'\n",
    "print(L)"
   ]
  },
  {
   "cell_type": "markdown",
   "metadata": {},
   "source": [
    "●例題９－２\n",
    "\n",
    "大きさが100の変数のリストaを用意し，0番目に0，1番目に10，2番目に20，…と代入し，最後にそれらを表示する，というプログラムを作りましょう．\n",
    "\n",
    "aの0番目から9番目までに代入するには，iが0から9まで１ずつ大きくなるfor ループを作り，a[i]に順々に数値を代入すればよいですね．\n",
    "\n",
    "a[0]には0，a[1]には10，a[2]には20，．．．と代入したいので，a[i]に $i*10$ を代入します．\n",
    "\n",
    "たとえば，以下のプログラムは，最初に0を入れたリストを10倍することによって，[0,0,0,0,0,0,0,0,0,0]というリストを準備をし，\n",
    "次のforループで数字の代入を行います．"
   ]
  },
  {
   "cell_type": "code",
   "execution_count": null,
   "metadata": {},
   "outputs": [],
   "source": [
    "a = 10 * [0]\n",
    "for i in range(10):\n",
    "    a[i] = i * 10\n",
    "a"
   ]
  },
  {
   "cell_type": "markdown",
   "metadata": {},
   "source": [
    "リストはいろいろな *メソッド* を適用できます．ここで，メソッドというのはリストに適用される関数のことです．\n",
    "\n",
    "リストの後に *.* （ピリオド）を打った後に，「メソッド名(引数)」と書くと，関数のように出力が返ってきます．\n",
    "\n",
    "たとえば，リストの最後に要素を追加するための append メソッドがあります．L.append( 'a' ) と書くと，リスト L の最後に文字列 'a' が追加されます．\n",
    "\n",
    "\n",
    "上の例題９．２は，最初に空のリストを準備して，1つずつ数字をappendメソッドで追加していく方法でも解くことができます．\n"
   ]
  },
  {
   "cell_type": "code",
   "execution_count": null,
   "metadata": {},
   "outputs": [],
   "source": [
    "a=[]\n",
    "for i in range(10):\n",
    "    a.append(i*10)\n",
    "a"
   ]
  },
  {
   "cell_type": "markdown",
   "metadata": {},
   "source": [
    "例題９．２では，[0,0,...,0] のリストを準備するために $10 *[0]$ と乗算を使いました．\n",
    "\n",
    "これは以下の *リスト内包表記* と同じですが，リスト内包表記の方が一般的なので推奨される書き方です．\n",
    "\n",
    "```python\n",
    "a=[0 for i in range(10)]\n",
    "```\n",
    "\n",
    "これは for i in range(10) で iを0から9まで変えた反復を行い，反復ごとに 0 を入れたリストを生成する，という意味です．\n",
    "\n",
    "0 のかわりに $i*10$ と書けば問題は 1行で解けます．"
   ]
  },
  {
   "cell_type": "code",
   "execution_count": null,
   "metadata": {},
   "outputs": [],
   "source": [
    "a=[i*10 for i in range(10)]\n",
    "a"
   ]
  },
  {
   "cell_type": "markdown",
   "metadata": {},
   "source": [
    "\n",
    "リストの要素を小さい順に並べ替えたいときには，sort()メソッドを使います．\n",
    "たとえば，\n",
    "```python\n",
    "L =[ 6, 8, 3, 1] \n",
    "L.sort()\n",
    "``` \n",
    "とすると，Lは [1, 3, 6, 8] と小さい順に並べ変わります．\n",
    "\n",
    "逆順（大きい順）に並べ替えたいときには，sort()メソッドを使った後に，reverse()メソッドを使います．\n",
    "\n",
    "●例題９－３\n",
    "\n",
    "最初の行にimport randomと宣言した上で，x=random.randint(a,b)と書くことで，xにaからbまでのランダムな整数を代入してくれます．\n",
    "\n",
    "ランダムに生成した1から100までの整数から成る長さ 10 のリストを作り，それを小さい順，大きい順に並べ替えたリストを出力しなさい．\n"
   ]
  },
  {
   "cell_type": "code",
   "execution_count": null,
   "metadata": {},
   "outputs": [],
   "source": [
    "import random\n",
    "L = []\n",
    "for i in range(10):\n",
    "    L.append( random.randint(1,100))\n",
    "print('元のリスト ', L)\n",
    "L.sort()\n",
    "print( '小さい順 ', L)\n",
    "L.reverse()\n",
    "print('大きい順 ', L)"
   ]
  },
  {
   "cell_type": "markdown",
   "metadata": {},
   "source": [
    "●問題９－１\n",
    "\n",
    "キーボードから10個の数を入力し，それらを入力された順番と逆の順番で表示するプログラムを作りなさい．"
   ]
  },
  {
   "cell_type": "code",
   "execution_count": null,
   "metadata": {},
   "outputs": [],
   "source": [
    "a = []\n",
    "for i in range(10):\n",
    "    a.append(int(input()))\n",
    "b = [0] * 10\n",
    "for i in range(10):\n",
    "    b[i] = a[9 - i]\n",
    "print(b)"
   ]
  },
  {
   "cell_type": "markdown",
   "metadata": {},
   "source": [
    "●問題９－２\n",
    "\n",
    "まず，長さ10に全部 0 が入ったリストを作りなさい．\n",
    "\n",
    "次に，0から9までの整数 a1,a2を入力し，リストxのa1番目からa2番目までを1大きくする，という作業を繰り返すプログラムを作りなさい．\n",
    "\n",
    "このとき，毎回リストの0番目から9番目までを表示するようにしなさい．\n",
    "\n",
    "（ヒント： iをa1からa2までの１ずつ大きくするforループを使い，リストのi番目を1大きくするようにしましょう．）"
   ]
  },
  {
   "cell_type": "code",
   "execution_count": null,
   "metadata": {},
   "outputs": [],
   "source": [
    "a = [0] * 10\n",
    "while True:\n",
    "    a1 = int(input(\"a1入力\"))\n",
    "    a2 = int(input(\"a2入力\"))\n",
    "    for i in range(a1, a2 + 1):\n",
    "        a[i] = a[i] + 1\n",
    "    print(a)"
   ]
  },
  {
   "cell_type": "markdown",
   "metadata": {},
   "source": [
    "●問題９－３\n",
    "\n",
    "リストと整数iを受け取り，リストのi番目の値を１大きくする関数を作りなさい．また，この関数を試すプログラムを作りなさい．\n"
   ]
  },
  {
   "cell_type": "code",
   "execution_count": 4,
   "metadata": {},
   "outputs": [
    {
     "name": "stdout",
     "output_type": "stream",
     "text": [
      "[4, 8, 8, 1, 3, 7]\n"
     ]
    }
   ],
   "source": [
    "def lst(x, i):\n",
    "    x[i] = x[i] + 1\n",
    "    return x\n",
    "\n",
    "x = [4, 7, 8, 1, 3, 7]\n",
    "i = 1\n",
    "print(lst(x, i))"
   ]
  },
  {
   "cell_type": "code",
   "execution_count": 2,
   "metadata": {},
   "outputs": [
    {
     "name": "stdout",
     "output_type": "stream",
     "text": [
      "listの次元3\n",
      "0\n",
      "1\n",
      "2\n",
      "[0, 1, 2]\n"
     ]
    }
   ],
   "source": [
    "x = int(input(\"listの次元\"))\n",
    "l = []\n",
    "for i in range(x):\n",
    "    a = int(input())\n",
    "    l.append(a)\n",
    "print(l)"
   ]
  },
  {
   "cell_type": "markdown",
   "metadata": {},
   "source": [
    "●問題９－４\n",
    "\n",
    "“Taro”, “Jiro”,”Saburo”,”Shiro”,”Goro” がこの順番で座っている．\n",
    "この4人を名前を入れたリスト L は\n",
    "\n",
    "```\n",
    "L=[“Taro”, “Jiro”,”Saburo”, ”Shiro”, ”Goro”]\n",
    "```\n",
    "となる．これを参考にして，自分の座っている列にいる友人の名前のリストを作成せよ．"
   ]
  },
  {
   "cell_type": "code",
   "execution_count": null,
   "metadata": {},
   "outputs": [],
   "source": [
    "L = [\"A\", \"B\", \"C\", \"D\", \"E\"]"
   ]
  },
  {
   "cell_type": "markdown",
   "metadata": {},
   "source": [
    "●問題９－５\n",
    "\n",
    "上で作成したリストに対して，最初に座っている人と最後に座っている人を表示せよ．\n",
    "\n",
    "また，名前の昇順のリストを作成せよ．\n"
   ]
  },
  {
   "cell_type": "code",
   "execution_count": 11,
   "metadata": {},
   "outputs": [
    {
     "name": "stdout",
     "output_type": "stream",
     "text": [
      "最初に座っている人=e\n",
      "最後に座っている人=a\n",
      "['a', 'b', 'c', 'd', 'e']\n"
     ]
    }
   ],
   "source": [
    "L = [\"e\", \"d\", \"c\", \"b\", \"a\"]\n",
    "print(f\"最初に座っている人={L[0]}\")\n",
    "print(f\"最後に座っている人={L[-1]}\")\n",
    "\n",
    "L.sort()\n",
    "print(L)"
   ]
  },
  {
   "cell_type": "markdown",
   "metadata": {},
   "source": [
    "●問題９－６\n",
    "\n",
    "100個の[1,10000]の一様整数乱数のリストを作成し，次にそれらの和と平均を求めよ．\n",
    "\n",
    "（ヒント：リスト L の和は関数 sum(L) で，要素数は関数 len(L) で求めることができます．）\n",
    "\n",
    "また，平均に最も近い数を求め，それが何番目の数字（最初の数字を0番目とする）なのかを計算するプログラムを作成せよ．"
   ]
  },
  {
   "cell_type": "code",
   "execution_count": 54,
   "metadata": {},
   "outputs": [
    {
     "name": "stdout",
     "output_type": "stream",
     "text": [
      "リストの和=499598、リストの平均=4995.98\n",
      "平均に最も近い数 = 4938\n",
      "17番目\n"
     ]
    }
   ],
   "source": [
    "import random\n",
    "l = []\n",
    "for i in range(100):\n",
    "    l.append(random.randint(1,10000))\n",
    "a = sum(l)\n",
    "b = len(l)\n",
    "c = a / b\n",
    "print(f\"リストの和={a}、リストの平均={c}\")\n",
    "\n",
    "m = 10000\n",
    "n = 0\n",
    "for i in range(100):\n",
    "    m = min(m, abs(l[i] - c))\n",
    "    if m == abs(l[i] - c):\n",
    "        n = i\n",
    "\n",
    "print(f\"平均に最も近い数 = {l[n]}\")\n",
    "print(f\"{n}番目\")"
   ]
  },
  {
   "cell_type": "markdown",
   "metadata": {},
   "source": [
    "# 10. タプル(tuple)\n",
    "\n",
    "タプルはリストとほとんど同じものですが，リストと違って中身が変更できない不変型(immutable)です．\n",
    "文字列と同様に（不変型なので）以下で説明する辞書のキーとして使うことができます．\n",
    "\n",
    "タプルを生成するには () の中に *,* で区切って入力します．\n",
    "\n",
    "```python\n",
    "  T =(6,4,7,'Hello')\n",
    " ```\n",
    " \n",
    "タプルはリストと同様に添え字（インデックス）や切り出しができますが，中身を変えることができません．\n",
    "\n",
    "例題１０－１\n",
    "\n",
    "上のタプルTの4番目の要素（Pythonの添え字は0から始まるので添え字3の要素）を出力せよ．\n",
    "\n",
    "また，4番目の要素を数字の6に変更してみよ．（エラーが発生するはずです．）\n"
   ]
  },
  {
   "cell_type": "code",
   "execution_count": 35,
   "metadata": {},
   "outputs": [
    {
     "name": "stdout",
     "output_type": "stream",
     "text": [
      "Hello\n"
     ]
    },
    {
     "ename": "TypeError",
     "evalue": "'tuple' object does not support item assignment",
     "output_type": "error",
     "traceback": [
      "\u001b[1;31m---------------------------------------------------------------------------\u001b[0m",
      "\u001b[1;31mTypeError\u001b[0m                                 Traceback (most recent call last)",
      "Input \u001b[1;32mIn [35]\u001b[0m, in \u001b[0;36m<cell line: 3>\u001b[1;34m()\u001b[0m\n\u001b[0;32m      1\u001b[0m T \u001b[38;5;241m=\u001b[39m(\u001b[38;5;241m6\u001b[39m,\u001b[38;5;241m4\u001b[39m,\u001b[38;5;241m7\u001b[39m,\u001b[38;5;124m'\u001b[39m\u001b[38;5;124mHello\u001b[39m\u001b[38;5;124m'\u001b[39m)\n\u001b[0;32m      2\u001b[0m \u001b[38;5;28mprint\u001b[39m( T[\u001b[38;5;241m3\u001b[39m])\n\u001b[1;32m----> 3\u001b[0m T[\u001b[38;5;241m3\u001b[39m]\u001b[38;5;241m=\u001b[39m\u001b[38;5;241m6\u001b[39m\n",
      "\u001b[1;31mTypeError\u001b[0m: 'tuple' object does not support item assignment"
     ]
    }
   ],
   "source": [
    "T =(6,4,7,'Hello')\n",
    "print( T[3])\n",
    "T[3]=6"
   ]
  },
  {
   "cell_type": "markdown",
   "metadata": {},
   "source": [
    "例題１０－２\n",
    "\n",
    "a = 'Hello' と b='World' の2つの変数の中身を1行で取り替えよ．\n",
    "\n",
    "（aとbから成るタプル (a,b) に (b,a)を代入すると1行で取り替えることができます．\n",
    "\n",
    "また，() は省略して書くこともできます．\n",
    "\n",
    "ただし1つの要素から成るタプルの場合には省略できず，*(a,)* とカンマ *,* を入れて書きます． ）\n"
   ]
  },
  {
   "cell_type": "code",
   "execution_count": 36,
   "metadata": {},
   "outputs": [
    {
     "name": "stdout",
     "output_type": "stream",
     "text": [
      "World Hello\n"
     ]
    }
   ],
   "source": [
    "a = 'Hello'\n",
    "b = 'World'\n",
    "a,b = b, a\n",
    "print(a,b)"
   ]
  },
  {
   "cell_type": "markdown",
   "metadata": {},
   "source": [
    "問題１０－１\n",
    "\n",
    "変数 a,b,c に代入された文字列を変数 x,y,z に代入せよ（ただし1行で）．\n",
    "```python\n",
    "a = 'Mickey' \n",
    "b = 'Minny'\n",
    "c = 'Kitty' \n",
    "```"
   ]
  },
  {
   "cell_type": "code",
   "execution_count": 37,
   "metadata": {},
   "outputs": [
    {
     "name": "stdout",
     "output_type": "stream",
     "text": [
      "Mickey Minny Kitty\n"
     ]
    }
   ],
   "source": [
    "a = 'Mickey' \n",
    "b = 'Minny'\n",
    "c = 'Kitty' \n",
    "x, y, z = a, b, c\n",
    "print(x, y, z)"
   ]
  },
  {
   "cell_type": "markdown",
   "metadata": {},
   "source": [
    "変数 a,b,c に代入された文字列を a=>b, b=>c, c=>a になるように交換せよ（ただし1行で）．\n",
    "```python\n",
    "a = 'Mickey' \n",
    "b = 'Minny'\n",
    "c = 'Kitty' \n",
    "```"
   ]
  },
  {
   "cell_type": "code",
   "execution_count": 39,
   "metadata": {},
   "outputs": [
    {
     "name": "stdout",
     "output_type": "stream",
     "text": [
      "Kitty Mickey Minny\n"
     ]
    }
   ],
   "source": [
    "a = 'Mickey' \n",
    "b = 'Minny'\n",
    "c = 'Kitty' \n",
    "a, b, c = c, a, b\n",
    "print(a, b, c)"
   ]
  },
  {
   "cell_type": "markdown",
   "metadata": {},
   "source": [
    "# 11. 辞書(dictionary)\n",
    "\n",
    "リストの他に辞書という便利な機能もあります．辞書は，*キー* を入れると *値*（あたい）が返ってくる写像(マップ）のようなものです．\n",
    "順番は任意なのでマップ型と呼ばれます．\n",
    "\n",
    "これは通常の辞書で，\"Hello\" をひくと「こんにちわ」が書いてあるのと似ています．\n",
    "\n",
    "辞書は {} をの中に「キー：値」を *,* （カンマ）で区切って入れます．英語を日本語に変換する辞書を作ってみましょう．\n",
    "\n",
    "```python\n",
    "D ={ 'Hello' : 'こんにちわ',  'Good Morning': 'おはよう', 'Good Night': 'おやすみ' }\n",
    "\n",
    "D['Good Morning'] \n",
    "```\n",
    "\n",
    "最初の行で辞書 D を作り，次の行で辞書Dからキー'Good Morning'を引きます．これは対応する値 'おはよう' を返します．\n",
    "\n",
    "---\n",
    "3人の女の子の身長を入れた辞書は以下のようになります．\n",
    "\n",
    "```python\n",
    "D={ 'Mary': 126, 'Jane': 156, 'Sara': 170} \n",
    "```\n",
    "\n",
    "キーのリストは D.keys() で値のリストは D.values() で得ることができます．\n",
    "\n",
    "キーになれるのは不変型(immutable)だけです．したがって，リストや辞書などの可変型(mutable)のオブジェクトはキーにはなれません．\n",
    "\n",
    "キーには数字，文字列，タプルなどを使ってください．\n",
    "\n",
    "値は任意のオブジェクトを入れることができます．リストや辞書でも大丈夫です．\n",
    "\n",
    "たとえば，値に身長と体重のリストを入れた辞書は以下のようになります．\n",
    "\n",
    "```python\n",
    "D={ 'Mary': [126,30], 'Jane': [156,55], 'Sara': [170,60]} \n",
    "```\n",
    "\n",
    "辞書 D の中にキーがあるかどうかは「キー in D」と*in* 演算子を用いて判定することができます．\n",
    "\n",
    "たとえば，上で作った身長の辞書Dに対して\n",
    "```\n",
    "  'Kitty' in D \n",
    "```\n",
    "は False を返し，\n",
    "```\n",
    "  'Mary' in D \n",
    "```\n",
    "は True を返します．\n",
    "\n",
    "\n",
    "辞書に新しい要素を追加したり，値を変更したいときは，単に「D[キー]=値」と書きます．\n",
    "たとえば，身長が 10cmの'Kitty'を追加するには\n",
    "```python\n",
    " D['Kitty'] =10 \n",
    "```\n",
    "と書き，'Jane'の身長を180に変更したいときには，\n",
    "```python\n",
    " D['Jane'] =180 \n",
    "```\n",
    "と書きます．\n",
    "\n",
    "\n",
    "辞書 D に対してもfor文を使うことができます．構文は for x in D: です．このとき x に代入されるのはキーですが，順番は入力した順ではありません．\n",
    "（リストや文字列は順序をもつ型（順序型）なので順番が保たれますが，辞書はマップ（写像）型なので順番はばらばらになります．）\n",
    "\n",
    "●例題１１－１\n",
    "\n",
    "上で作成した身長の辞書から身長が160cm以上の人の名前を出力せよ．\n"
   ]
  },
  {
   "cell_type": "code",
   "execution_count": 55,
   "metadata": {},
   "outputs": [
    {
     "name": "stdout",
     "output_type": "stream",
     "text": [
      "Sara\n"
     ]
    }
   ],
   "source": [
    "D={ 'Mary': 126, 'Jane': 156, 'Sara': 170} \n",
    "for i in D:\n",
    "    if D[i] >=160:\n",
    "        print (i)"
   ]
  },
  {
   "cell_type": "markdown",
   "metadata": {},
   "source": [
    "●例題１１－２\n",
    "\n",
    "上で作成した身長の辞書を，小さい順に並べたときの名前を出力せよ．\n",
    "\n",
    "まず，身長と名前のタプルを入れたリストをfor文を用いて作ります(この時点では並び順は任意です）．\n",
    "\n",
    "次にそれを sort()メソッドで小さい順に並べ替えます（並べ替えはタプルの前の要素（この場合には身長）が優先されます）．\n",
    "\n",
    "並べ替えた後のリストをfor文を用いて反復し，名前を順に出力します．\n"
   ]
  },
  {
   "cell_type": "code",
   "execution_count": 73,
   "metadata": {},
   "outputs": [
    {
     "name": "stdout",
     "output_type": "stream",
     "text": [
      "並べる前のリスト [(170, 'Sara'), (156, 'Jane'), (126, 'Mary')]\n",
      "身長順のリスト  [(126, 'Mary'), (156, 'Jane'), (170, 'Sara')]\n",
      "Mary\n",
      "Jane\n",
      "Sara\n"
     ]
    }
   ],
   "source": [
    "D = {'Sara': 170, 'Jane': 156, 'Mary': 126} \n",
    "L = []   #空のリストを準備しておく\n",
    "for i in D:\n",
    "    L.append( (D[i], i) ) #（身長，名前）のタプルをリストに追加\n",
    "print('並べる前のリスト' ,L)\n",
    "L.sort()\n",
    "print('身長順のリスト ' ,L)\n",
    "for (height,name) in L:\n",
    "    print(name)"
   ]
  },
  {
   "cell_type": "code",
   "execution_count": 69,
   "metadata": {},
   "outputs": [
    {
     "name": "stdout",
     "output_type": "stream",
     "text": [
      "<class 'dict'>\n",
      "126\n",
      "{'Mary': 130, 'Jane': 156, 'Sara': 170, 'Un': 120}\n",
      "True\n",
      "4\n",
      "{'Mary': 130, 'Jane': 156, 'Sara': 170}\n"
     ]
    }
   ],
   "source": [
    "D = {'Mary': 126, 'Jane': 156, 'Sara': 170}   #'Mary'…キー(key)と'126'…値(value)\n",
    "print(type(D))\n",
    "print(D['Mary'])\n",
    "D['Mary'] = 130\n",
    "D['Un'] = 120\n",
    "print(D)\n",
    "\n",
    "print('Mary' in D)\n",
    "print(len(D))\n",
    "del D['Un']\n",
    "print(D)"
   ]
  },
  {
   "cell_type": "markdown",
   "metadata": {},
   "source": [
    "●問題１１－１\n",
    "\n",
    "名前をキー，体重を値とした辞書 D を作成せよ．ただし，友人は3人以上記入し，\n",
    "名前には友人の名前を文字列として，体重には友人の理想体重を整数値として入力せよ．"
   ]
  },
  {
   "cell_type": "code",
   "execution_count": 74,
   "metadata": {},
   "outputs": [
    {
     "name": "stdout",
     "output_type": "stream",
     "text": [
      "{'An': 60, 'Moa': 70, 'Un': 80}\n"
     ]
    }
   ],
   "source": [
    "D = {'An': 60, 'Moa': 70, 'Un': 80}\n",
    "print(D)"
   ]
  },
  {
   "cell_type": "markdown",
   "metadata": {},
   "source": [
    "●問題１１－２\n",
    "\n",
    "起動すると，友人の名前の入力を求め，上で作成した辞書Dから体重を調べて画面上に表示するプログラムを作成せよ．"
   ]
  },
  {
   "cell_type": "code",
   "execution_count": 79,
   "metadata": {},
   "outputs": [
    {
     "name": "stdout",
     "output_type": "stream",
     "text": [
      "名前の入力An\n",
      "Anの体重:60\n"
     ]
    }
   ],
   "source": [
    "D = {'An': 60, 'Moa': 70, 'Un': 80}\n",
    "\n",
    "x = input(\"名前の入力\")\n",
    "print(f\"{x}の体重:{D[x]}\")"
   ]
  },
  {
   "cell_type": "markdown",
   "metadata": {},
   "source": [
    "●問題１１－３\n",
    "\n",
    "上のプログラムを，何度も友人の名前の入力を求めるように変更せよ．ただし，辞書にない名前を入力すると終了するものとする．"
   ]
  },
  {
   "cell_type": "code",
   "execution_count": 80,
   "metadata": {},
   "outputs": [
    {
     "name": "stdout",
     "output_type": "stream",
     "text": [
      "名前の入力An\n",
      "Anの体重:60\n",
      "名前の入力Moa\n",
      "Moaの体重:70\n",
      "名前の入力Un\n",
      "Unの体重:80\n",
      "名前の入力a\n"
     ]
    }
   ],
   "source": [
    "D = {'An': 60, 'Moa': 70, 'Un': 80}\n",
    "\n",
    "while True:\n",
    "    x = input(\"名前の入力\")\n",
    "    if x not in D:\n",
    "        break\n",
    "    print(f\"{x}の体重:{D[x]}\")"
   ]
  },
  {
   "cell_type": "markdown",
   "metadata": {},
   "source": [
    "●問題１１－４\n",
    "\n",
    "空の辞書Dを準備し，その後で名前と体重の入力を何度もユーザーに要求して，\n",
    "名前をキー，体重を値としてDに保管していくプログラムを作成せよ．\n",
    "ただし，ユーザー名に空白 ”” を入力すると，画面に作成した辞書Dを表示してから，終了するものとする．\n"
   ]
  },
  {
   "cell_type": "code",
   "execution_count": 3,
   "metadata": {},
   "outputs": [
    {
     "name": "stdout",
     "output_type": "stream",
     "text": [
      "名前入力Un\n",
      "体重入力80\n",
      "名前入力Moa\n",
      "体重入力70\n",
      "名前入力An\n",
      "体重入力60\n",
      "名前入力 \n",
      "D = {'Un': 80, 'Moa': 70, 'An': 60}\n"
     ]
    }
   ],
   "source": [
    "D = {}\n",
    "while True:\n",
    "    x = input(\"名前入力\")\n",
    "    if x == \" \":\n",
    "        print(f\"D = {D}\")\n",
    "        break\n",
    "    else:\n",
    "        y = int(input(\"体重入力\"))\n",
    "        D[x] = y"
   ]
  },
  {
   "cell_type": "markdown",
   "metadata": {},
   "source": [
    "●問題１１－５\n",
    "\n",
    "友人の名前と体重を保管した辞書Dを準備し，その後で，友人の名前と体重の入力を求め，名前が一致する友人がいたならば，\n",
    "体重を新しい値に変更し，いなければ辞書に追加するプログラムを作成せよ．\n",
    "ただし，ユーザー名に空白 ”” を入力すると，画面に作成した辞書Dを表示してから，終了するものとする．"
   ]
  },
  {
   "cell_type": "code",
   "execution_count": 9,
   "metadata": {},
   "outputs": [
    {
     "name": "stdout",
     "output_type": "stream",
     "text": [
      "名前入力Mary\n",
      "体重入力1000\n",
      "名前入力Miffy\n",
      "体重入力50\n",
      "名前入力 \n",
      "D = {'Mary': 1000, 'Jane': 40, 'Sara': 50, 'An': 60, 'Moa': 70, 'Un': 80, 'Miffy': 50}\n"
     ]
    }
   ],
   "source": [
    "D = {'Mary': 30, 'Jane': 40, 'Sara': 50, 'An': 60, 'Moa': 70, 'Un': 80}\n",
    "while True:\n",
    "    x = input(\"名前入力\")\n",
    "    if x == \" \":\n",
    "        print(f\"D = {D}\")\n",
    "        break\n",
    "    else:\n",
    "        y = int(input(\"体重入力\"))\n",
    "        D[x] = y"
   ]
  },
  {
   "cell_type": "markdown",
   "metadata": {},
   "source": [
    "●問題１１－６\n",
    "\n",
    "問題１１－１で作成した友人の名前と体重を保管した辞書Dの名前を体重を名前のアルファベット順に画面に出力するプログラムを作成せよ．"
   ]
  },
  {
   "cell_type": "code",
   "execution_count": 25,
   "metadata": {},
   "outputs": [
    {
     "name": "stdout",
     "output_type": "stream",
     "text": [
      "[('An', 60), ('Jane', 40), ('Mary', 30), ('Moa', 70), ('Sara', 50), ('Un', 80)]\n",
      "[('Mary', 30), ('Jane', 40), ('Sara', 50), ('An', 60), ('Moa', 70), ('Un', 80)]\n",
      "[('An', 60), ('Jane', 40), ('Mary', 30), ('Moa', 70), ('Sara', 50), ('Un', 80)]\n"
     ]
    }
   ],
   "source": [
    "D = {'Mary': 30, 'Jane': 40, 'Sara': 50, 'An': 60, 'Moa': 70, 'Un': 80}\n",
    "D1 = sorted(D.items())\n",
    "print(D1)\n",
    "D2 = sorted(D.items(), key = lambda x:x[1])    #x[0]とするとアルファベットの並び順になる\n",
    "print(D2)\n",
    "D3 = sorted(D.items(), key = lambda x:x[0])\n",
    "print(D3)"
   ]
  },
  {
   "cell_type": "code",
   "execution_count": 23,
   "metadata": {},
   "outputs": [
    {
     "name": "stdout",
     "output_type": "stream",
     "text": [
      "[('Apple', 100), ('Banana', 80), ('Grape', 400), ('Orrange', 150)]\n",
      "{'Apple': 100, 'Banana': 80, 'Grape': 400, 'Orrange': 150}\n"
     ]
    }
   ],
   "source": [
    "fruits = {'Orrange':150, 'Apple':100, 'Grape':400, 'Banana':80}\n",
    "fruits = sorted(fruits.items())\n",
    "print(fruits)\n",
    "fruits = dict((x, y) for x, y in fruits)\n",
    "print(fruits)"
   ]
  },
  {
   "cell_type": "markdown",
   "metadata": {},
   "source": [
    "●問題１１－７\n",
    "\n",
    "好きな都道府県を5つ選択した後，都道府県名をキーとし，その名産品（1つ以上入力する）のリストを値とした辞書Dを作成せよ．\n",
    "\n",
    "また，作成した辞書に対して，名産品の多い順に並べるプログラムを作成せよ．\n",
    "\n",
    "(ヒント：リストLの長さ(要素数）は関数len(L)で計算できます．）"
   ]
  },
  {
   "cell_type": "code",
   "execution_count": null,
   "metadata": {},
   "outputs": [],
   "source": []
  },
  {
   "cell_type": "markdown",
   "metadata": {},
   "source": [
    "# 12. クラス\n",
    "\n",
    "Pythonでは，数やリストや辞書などはすべてオブジェクトと呼ばれます．これらのオブジェクトは元から準備されたものなので組み込みオブジェクトと呼ばれます．\n",
    "\n",
    "Pythonでは，自分で新しいオブジェクトを作ることができます．それがクラス(class)です．\n",
    "\n",
    "構文は関数と似ています．関数を定義するキーワード def の代わりに class と書きます．\n",
    "\n",
    "```python\n",
    "class クラス名():\n",
    "    クラス本体\n",
    "```\n",
    "\n",
    "クラスとは，オブジェクトの属性やオブジェクトに対する操作（これをメソッドと呼びます）をまとめたものです．\n",
    "\n",
    "たとえば，ピカチュウというクラスは，「ほっぺた」や「しっぽ」などの属性と，「しっぽを振る」とか「リンゴを食べる」といったメソッドをもちます．\n",
    "\n",
    "例として「点」を表すクラス Point を作ってみましょう．\n",
    "\n",
    "```python\n",
    "class Point():\n",
    "    pass\n",
    "\n",
    "p1=Point()\n",
    "```\n",
    "\n",
    "pass は何もしないことを表します（何も入れないとエラーします）．クラス名は Point で，```p1=Point()```でp1というクラスの実体（インスタンスと言います）を生成しています．\n",
    "\n",
    "p1 という点を表すインスタンスには，x座標とy座標という**属性** (attribute)をもたせることができます．\n",
    "\n",
    "属性はインスタンスの後ろに **.** を書いた後に記述します．\n",
    "\n",
    "```python\n",
    "p1.x = 100\n",
    "p1.y = 200\n",
    "```\n",
    "これで点p1にx,y座標の属性100,200をもたせることに成功しました．\n",
    "\n",
    "次に，点を移動させるとか，座標をまとめて出力するといった**メソッド**を記述しましょう．\n",
    "\n",
    "メソッドは，クラス定義の**中**で関数と同様に def と書くことで定義できます．\n",
    "\n",
    "ただし，メソッドの最初の引数には必ず自分自身を表す**self**を入れます．クラス内でx属性にアクセスするときには，**self.x**と記述します．\n",
    "\n",
    "●例題１２－１\n",
    "\n",
    "点を表すクラス Point を作成し，x座標とy座標を表す属性に100,200を代入してください．\n",
    "\n",
    "次に，座標の出力を行うメソッドprintMeを用いて座標の出力を行ってください．\n",
    "\n",
    "また，座標の移動を行うメソッドmoveを定義し，座標を右に10，上に20移動させてから座標の出力を行ってください．\n"
   ]
  },
  {
   "cell_type": "code",
   "execution_count": 1,
   "metadata": {},
   "outputs": [
    {
     "name": "stdout",
     "output_type": "stream",
     "text": [
      "< 100 , 200 >\n",
      "< 110 , 220 >\n"
     ]
    }
   ],
   "source": [
    "class Point():\n",
    "    def printMe(self):\n",
    "        print( \"<\", self.x, \",\", self.y, \">\" )\n",
    "    def move(self,right,up):\n",
    "        self.x += right\n",
    "        self.y += up\n",
    "\n",
    "p1 = Point()\n",
    "p1.x = 100\n",
    "p1.y = 200\n",
    "\n",
    "p1.printMe()\n",
    "\n",
    "p1.move(10, 20)\n",
    "p1.printMe()"
   ]
  },
  {
   "cell_type": "code",
   "execution_count": 16,
   "metadata": {},
   "outputs": [
    {
     "name": "stdout",
     "output_type": "stream",
     "text": [
      "< 100 , 200 >\n",
      "< 110 , 220 >\n",
      "< 50 , 130 >\n"
     ]
    }
   ],
   "source": [
    "class Point():\n",
    "    def printMe(self):\n",
    "        print( \"<\", self.x, \",\", self.y, \">\" )\n",
    "    def move(self,right,up):\n",
    "        self.x += right\n",
    "        self.y += up\n",
    "\n",
    "p1 = Point()\n",
    "p1.x = 100\n",
    "p1.y = 200\n",
    "\n",
    "p1.printMe()\n",
    "\n",
    "p1.move(10, 20)\n",
    "p1.printMe()\n",
    "\n",
    "p1.move(-60, -90)\n",
    "p1.printMe()"
   ]
  },
  {
   "cell_type": "markdown",
   "metadata": {},
   "source": [
    "クラスには```__``` (アンダースコア2つ）で挟んだ特殊メソッドを定義することができます．\n",
    "\n",
    "たとえば文字列を返す**__str__**を定義すると，クラスのインスタンスをprintしたときに，その文字列が表示されるようになります．\n",
    "\n",
    "クラスの初期化を行うメソッド**__init__**を定義すると，インスタンスを最初に生成したときに「自動的に」呼ばれ，インスタンスの初期化を行うことができます．\n",
    "\n",
    "たとえば，点のインスタンスを生成するときに「必ず」x,y座標を与えて，x,y属性に代入するには，\n",
    "\n",
    "```python\n",
    "    def __init__(self, x, y):\n",
    "        self.x=x\n",
    "        self.y=y\n",
    "```\n",
    "と記述します（最初の引数に**self**を入れるのを忘れないようにしてください）．\n",
    "\n",
    "ただし，点クラスのインスタンスを生成するときには，**self**は書かずに，以下のように記述します．\n",
    "\n",
    "```python\n",
    "p1=Point(100,200)\n",
    "```\n",
    "\n",
    "●例題１２－２\n",
    "\n",
    "初期化をするためのメソッド```__init__```を用いて点を表すクラス Point を作成し，x座標とy座標を表す属性に100,200を代入してください．\n",
    "\n",
    "また，文字列を返す```__str__```を用いて座標の出力を行ってください．\n",
    "\n",
    "さらに，他の点インスタンスの座標を加える特殊メソッド```__add__```（これは + 演算子を適用したときに呼ばれます）を\n",
    "使っての座標 (10，20) をもつ点インスタンスとの足し算をしなさい．\n",
    "        "
   ]
  },
  {
   "cell_type": "code",
   "execution_count": 3,
   "metadata": {},
   "outputs": [
    {
     "name": "stdout",
     "output_type": "stream",
     "text": [
      "<100, 200>\n",
      "<110, 220>\n"
     ]
    }
   ],
   "source": [
    "class Point:\n",
    "    def __init__(self, x, y):\n",
    "        self.x = x\n",
    "        self.y = y\n",
    "        \n",
    "    def __str__(self):\n",
    "        return \"<\"+ str(self.x) + \", \" + str(self.y) +\">\"\n",
    "    \n",
    "    def __add__(self, other):\n",
    "        return Point( self.x+other.x, self.y+other.y )\n",
    "    \n",
    "p1 = Point(100, 200)\n",
    "print( p1 )\n",
    "p2 = Point(10, 20)\n",
    "print( p1+p2 )"
   ]
  },
  {
   "cell_type": "code",
   "execution_count": null,
   "metadata": {},
   "outputs": [],
   "source": []
  },
  {
   "cell_type": "markdown",
   "metadata": {},
   "source": [
    "●問題１２－１\n",
    "\n",
    "身長と体重の2つの属性をもつHumanクラスを作成してください．\n",
    "\n",
    "その後に，「体重/身長の2乗」で定義されるボディマス指数を計算するメソッド bmi を追加してください．\n",
    "（ただし，体重はキログラム，身長はメートルで入れます．）\n",
    "\n",
    "次に，以下の表に基づいて，痩せ型から肥満(4度）までのいずれに属するかを文字列として返すメソッド am_i_fat を追加してください． \n",
    "\n",
    "                     BMI値\n",
    "    痩せ型     \t18.5未満\n",
    "    普通体重\t   18.5以上、25未満\n",
    "    肥満（1度）\t25以上、30未満\n",
    "    肥満（2度）\t30以上、35未満\n",
    "    肥満（3度）\t35以上、40未満\n",
    "    肥満（4度）\t40以上\n",
    "    \n",
    "自分の身長と体重（公表するのが嫌な場合には，友人の身長と体重）を属性としたHumanのインスタンス me を作成して，am_i_fatを呼んでみましょう．\n",
    "\n"
   ]
  },
  {
   "cell_type": "code",
   "execution_count": 15,
   "metadata": {},
   "outputs": [
    {
     "name": "stdout",
     "output_type": "stream",
     "text": [
      "身長を入力[m]1.75\n",
      "体重を入力[kg]70\n",
      "< 1.75 , 70.0 >\n",
      "普通体重\n"
     ]
    }
   ],
   "source": [
    "class Human():\n",
    "    def Me(self):\n",
    "        print(\"<\", self.height, \",\", self.weight, \">\")\n",
    "        \n",
    "    \n",
    "    def am_I_fat(self):\n",
    "        BMI = ( (self.weight) / (self.height) ** 2 )\n",
    "        if BMI < 18.5:\n",
    "            print(\"痩せ型\")\n",
    "        elif 18.5 <= BMI < 25:\n",
    "            print(\"普通体重\")\n",
    "        elif 25 <= BMI < 30:\n",
    "            print(\"肥満（1度）\")\n",
    "        elif 30 <= BMI < 35:\n",
    "            print(\"肥満（2度）\")\n",
    "        elif 35 <= BMI < 40:\n",
    "            print(\"肥満（3度）\")\n",
    "        else:\n",
    "            print(\"肥満（4度）\")\n",
    "\n",
    "p1 = Human()\n",
    "p1.height = float(input(\"身長を入力[m]\"))\n",
    "p1.weight = float(input(\"体重を入力[kg]\"))\n",
    "p1.Me()\n",
    "\n",
    "p1.am_I_fat()"
   ]
  },
  {
   "cell_type": "markdown",
   "metadata": {},
   "source": [
    "●問題１２－２\n",
    "\n",
    "例題で作った点を表すクラスを参考にして，ベクトルを表すクラスを定義し，2つのベクトルの内積を乗算 $*$ で行うようなメソッド\n",
    "```__mult__```を書いてみましょう．"
   ]
  },
  {
   "cell_type": "code",
   "execution_count": null,
   "metadata": {},
   "outputs": [],
   "source": []
  },
  {
   "cell_type": "code",
   "execution_count": null,
   "metadata": {},
   "outputs": [],
   "source": [
    "x=3\n",
    "y=x \n",
    "print(y is x)\n",
    "\n",
    "y=3\n",
    "print(y is x)\n",
    "\n",
    "L=[1,2,3]\n",
    "M=[1,2,3]\n",
    "\n",
    "print(M == L)\n",
    "print(M is L)\n",
    "\n",
    "M=L\n",
    "\n",
    "print(M is L)"
   ]
  },
  {
   "cell_type": "code",
   "execution_count": null,
   "metadata": {},
   "outputs": [],
   "source": []
  },
  {
   "cell_type": "markdown",
   "metadata": {},
   "source": [
    "---\n",
    "## (補足)オブジェクトの型について\n",
    "\n",
    "### A.1.1 数と論理型\n",
    "\n",
    "type関数を用いて，以下の出力結果を得なさい．\n",
    "\n",
    "(1). float\n",
    "\n",
    "(2). int\n",
    "\n",
    "(3). complex \n",
    "\n",
    "(4). bool"
   ]
  },
  {
   "cell_type": "code",
   "execution_count": null,
   "metadata": {},
   "outputs": [],
   "source": []
  },
  {
   "cell_type": "markdown",
   "metadata": {},
   "source": [
    "### A.1.2 文字列\n",
    "\n",
    "1. 文字列 s='PythonVideoCheckProblem' から，スライス表記を用いて 'onVide' を抜き出しなさい．\n",
    "\n",
    "2. 文字列s='PythonVideoCheckProblem' をすべて大文字にしなさい．\n",
    "\n",
    "3. 以下の文字列，並びに format を用いて，'Python,Video,Check,Problem' を作成しなさい．なお，単語の間には ',' を挟むこと．\n",
    "```python\n",
    "s1 = 'Problem'，\n",
    "s2 = 'Python'，\n",
    "s3 = 'Check'，\n",
    "s4 = 'Video'\n",
    "```\n",
    "\n",
    "4. 引数として与えた文字列が全て小文字なら True．そうでないなら Falseを返す関数を作りなさい．\n",
    "例として，文字列 s='PyThOn' を関数の引数として与えて判定しなさい．\n",
    "\n",
    "5. 小文字として与えた文字列の先頭が母音（'a','i','u','e','o'）である場合には，'an 'を，そうでない場合には 'a 'を加えた文字列を返す関数を作れ．\n",
    "例として，'apple'と'pen'を引数として与えた関数の返値を出力せよ．\n"
   ]
  },
  {
   "cell_type": "code",
   "execution_count": null,
   "metadata": {},
   "outputs": [],
   "source": []
  },
  {
   "cell_type": "markdown",
   "metadata": {},
   "source": [
    "### A.1.3 リスト\n",
    "\n",
    "1. リスト L = [ 'Marvelous', 'Fantastic', 'Amazing!!' ] 内の文字列を，s='Python!! ' を区切り文字として結合し，表示しなさい．\n",
    "\n",
    "2.  文字列s = 'Payatahaoan' のうち，'a' を区切り文字として文字列s を分割したリストで表示しなさい．\n",
    "\n",
    "3. リスト L = [1,2,3,4,5] が与えられている．\n",
    "\n",
    "(1). ２番目の要素を削除しなさい．\n",
    "\n",
    "(2). L の2番目の添え字に 300 を挿入しなさい．\n",
    "\n",
    "(3). L を逆順にしなさい．\n",
    "\n",
    "(4). スライス表記を用いて，2番目に [10,20] を代入しなさい．\n",
    "\n",
    "(5). メソッド append を用いて，100 を追加しなさい．\n"
   ]
  },
  {
   "cell_type": "code",
   "execution_count": null,
   "metadata": {},
   "outputs": [],
   "source": []
  },
  {
   "cell_type": "markdown",
   "metadata": {},
   "source": [
    "### 問題\n",
    "\n",
    "1. 文字列 s='May I have a large container of coffee'を空白を区切り文字として分割し，分割した文字列の長さを順に表示せよ．何になるか？\n",
    "\n",
    "2. 文字列 s='How I want a drink, alcoholic of course, after the heavy lectures involving quantum mechanics, and if the lectures were boring or tiring, then any odd thinking was on quartic equations again' を空白を区切り文字として分割し，分割した文字列の長さを順に表示せよ．何になるか？"
   ]
  },
  {
   "cell_type": "code",
   "execution_count": null,
   "metadata": {},
   "outputs": [],
   "source": []
  },
  {
   "cell_type": "markdown",
   "metadata": {},
   "source": [
    "### A.1.5 辞書\n",
    "\n",
    "1. 辞書 D = { 'Mary':126, 'Jane':156, 'Sara': 170} が与えられている．\n",
    " 1. キー'Mary'の値，126を180に変更しなさい．\n",
    " 2. メソッドを用いて，キーのリストを表示しなさい．\n",
    " 3. メソッドを用いて，値のリストを表示しなさい．\n",
    "\n",
    "2. 与えられた正数 $n$ に対して，$n$ 行 $n$ 列のランダムな行列で，各要素が[1,10]の一様整数乱数の行列を，行と列のタプルをキーとし，要素を値とした辞書を用いて作成せよ．（タプルは変更できないという一点を除いてリストと同じように扱うことができる．タプルは不変（中身の変更が不可である）オブジェクトなので，辞書のキーとして使うことができる．）\n",
    "\n",
    "3. 同じ大きさの行列をもう1つ作成し，行列の積を求めよ．（forループを用いて計算しても良いが，Python 3.5以降だと @ で掛け算ができる．）\n",
    "\n",
    "4. 名前をキー，体重を値とした辞書 D を作成せよ．ただし，友人は3人以上記入し，名前には友人の名前を文字列として，体重には友人の理想体重を整数値として入力せよ．\n",
    "\n",
    "5. 友人の名前の入力を求め，上で作成した辞書Dから体重を調べて画面上に表示するプログラムを作成せよ．\n",
    "\n",
    "6. 上のプログラムを，何度も友人の名前の入力を求めるように変更せよ．ただし，辞書にない名前を入力すると終了するものとする．\n",
    "\n",
    "7. 空の辞書Dを準備し，その後で名前と体重の入力を何度もユーザーに要求して，名前をキー，体重を値としてDに保管していくプログラムを作成せよ．ただし，ユーザー名に空白 ''（空の文字列）を入力すると，画面に作成した辞書Dを表示してから，終了するものとする．\n",
    "\n",
    "8. 友人の名前と体重を保管した辞書Dを準備し，その後で，友人の名前と体重の入力を求め，名前が一致する友人がいたならば，体重を新しい値に変更し，いなければ辞書に追加するプログラムを作成せよ．ただし，ユーザー名に空白 ”” を入力すると，画面に作成した辞書Dを表示してから，終了するものとする．\n",
    "\n",
    "9. 上で作成した友人の名前と体重を保管した辞書Dに対して，友人の名前を１行ずつすべて画面に印刷するプログラムを作成せよ．\n",
    "\n",
    "10. 上で作成した友人の名前と体重を保管した辞書Dに対して，保管されている体重を１行ずつすべて画面に印刷するプログラムを作成せよ．\n",
    "\n",
    "11. 上で作成した友人の名前と体重を保管した辞書Dの名前を体重を名前のアルファベット順に画面に印刷するプログラムを作成せよ．\n",
    "\n",
    "12. 上で作成した友人の名前と体重を保管した辞書Dの名前を体重を体重の軽い順に画面に印刷するプログラムを作成せよ．\n",
    "\n",
    "13. 都道府県名をキーとし，その名産品（1つ以上入力する）をリストとした辞書Dを作成せよ．都道府県は自分の出身地を入れて3つ以上準備せよ．\n",
    "次に，作成した辞書に対して，名産品の多い順に並べるプログラムを作成せよ．\n"
   ]
  },
  {
   "cell_type": "code",
   "execution_count": null,
   "metadata": {},
   "outputs": [],
   "source": []
  },
  {
   "cell_type": "markdown",
   "metadata": {},
   "source": [
    "### A.1.6 集合\n",
    "\n",
    "集合S = { 1,2,3,4,5 } と集合T = { 2,4,6 } が与えられている．\n",
    "\n",
    "(1). SとTの和集合を表示しなさい．\n",
    "\n",
    "(2). SとTの差集合を表示しなさい．\n",
    "\n",
    "(3). SとTの共通部分を表示しなさい．\n",
    "\n",
    "(4). 集合Sの要素 2 を削除し，もう一度SとTの共通部分を表示しなさい．\n",
    "\n",
    "(5). “banana”の各文字なら成る集合と，”apple”の各文字から成る集合の和集合と共通部分を計算するプログラムを示せ．"
   ]
  },
  {
   "cell_type": "code",
   "execution_count": null,
   "metadata": {},
   "outputs": [],
   "source": []
  },
  {
   "cell_type": "markdown",
   "metadata": {},
   "source": [
    "### A.2 演算子\n",
    "\n",
    "Python3系では通常， 5 / 3 の出力結果は，1.6666666……となってしまう．これを，整数部分のみ出力を得たい場合はどのような演算子を用いるべきか．"
   ]
  },
  {
   "cell_type": "code",
   "execution_count": null,
   "metadata": {},
   "outputs": [],
   "source": []
  },
  {
   "cell_type": "markdown",
   "metadata": {},
   "source": [
    "### A.4 関数\n",
    "\n",
    "1. 引数を2つ与え、それらの和を出力する関数 printSum( x, y ) を作成し，その関数に規定値を与え，printSum() と引数なしで実行した場合，出力結果 10を得られるように作成しなさい．\n",
    "\n",
    "2. 無名関数 lambda を用いて，与えた数の2乗が返るような関数を作成し，表示しなさい．\n",
    "\n",
    "3. 文字列を合体し，3回繰り返したものを返す関数を作成しなさい．\n"
   ]
  },
  {
   "cell_type": "code",
   "execution_count": null,
   "metadata": {},
   "outputs": [],
   "source": []
  },
  {
   "cell_type": "markdown",
   "metadata": {},
   "source": [
    "### 再帰 例題\n",
    "\n",
    "「1円玉1枚，10円玉1枚，100円玉1枚の組合せでできる8通りの金額を全て表示する」というプログラムを，再帰呼び出しを使って作りましょう．\n",
    "\n",
    "まず第1ステップとして，1円，10円，100円の全て使った組合せの金額を，「再帰呼び出し」を使って計算するプログラムを作りましょう（単に足せば良いのですが，再帰を使って計算してみます）．\n",
    "\n",
    "計算を行うための関数payの引数は，使うかどうか試したコインの数(iという名前にしました），合計を記録する補助変数(totalという名前にしました)，とリスト coin = [1, 10, 100] です．再帰の終了条件は，すべてのコインを使い終わったら（つまりiが3になったら）合計金額を出力することにします．\n",
    "\n",
    "合計金額は，コイン数を1増やし（iを1増やし），合計金額totalを coin[i] だけ増やして，payを再帰的に呼ぶことによって計算されます．"
   ]
  },
  {
   "cell_type": "code",
   "execution_count": null,
   "metadata": {},
   "outputs": [],
   "source": [
    "def pay(i,total,coin):\n",
    "    if i==len(coin):\n",
    "        print('total=',total)\n",
    "    else:\n",
    "        pay(i+1, total+coin[i], coin)\n",
    "    \n",
    "coin = [1,10, 100]\n",
    "pay(0, 0, coin) "
   ]
  },
  {
   "cell_type": "markdown",
   "metadata": {},
   "source": [
    "次に，全ての組合せを使うプログラムを作ります．全ての組合せの金額を表示するには，各硬貨について，「その硬貨を使う場合」と「その硬貨を使わない場合」の場合分けが必要です．そこで，それぞれの再帰呼び出しが，その硬貨を使う組合せ，使わない組合せに対応します．"
   ]
  },
  {
   "cell_type": "code",
   "execution_count": null,
   "metadata": {},
   "outputs": [],
   "source": [
    "def pay(i,total,coin):\n",
    "    if i==len(coin):\n",
    "        print('total=',total)\n",
    "    else:\n",
    "        pay(i+1, total, coin)         #コイン iを使わない場合\n",
    "        pay(i+1, total+coin[i], coin) #コイン iを使う場合\n",
    "    \n",
    "coin = [1,10, 100]\n",
    "pay(0, 0, coin) "
   ]
  },
  {
   "cell_type": "markdown",
   "metadata": {},
   "source": [
    "### 問題\n",
    "\n",
    "1. 2つの数mとn(ただし，m>n )が与えられたとき，mとnの最大公約数は，nとm%n (mをnで割った余り)の最大公約数になります．これを利用して，入力した2つの整数の最大公約数を求めるプログラムを，再帰呼び出しを使って作りなさい．\n",
    "\n",
    "2. 回文(palindrome)とは前から読んでも後ろから読んでも同じ文字列を指す．引数として与えた文字列が回文であるか否かを判定する関数を，再帰を用いて記述せよ．例として 'たけやぶやけた' と 'たけたぶやけてない' を入れて試せ．\n",
    "\n",
    "3. 5つの正数を入れたリスト a と正数 bを入力して，a[0],...,a[4]の合計がちょうどbになる組合せがいくつあるかを表示するプログラムを再帰呼び出しを用いて作りなさい．\n"
   ]
  },
  {
   "cell_type": "code",
   "execution_count": null,
   "metadata": {},
   "outputs": [],
   "source": []
  },
  {
   "cell_type": "markdown",
   "metadata": {},
   "source": [
    "### A.5 内包表記\n",
    "\n",
    "1. $0$ から $10$ までの整数のリストを内包表記で表示しなさい．\n",
    "\n",
    "2. $0$ から $5$ までの整数 $x$ に対して， $(x, x^2, 2^x)$ からなるタプルのリストを内包表記で作成しなさい．\n",
    "\n",
    "3. ジェネレータ内包表記とsum関数を用いて，$0$ から $10$ までの整数でかつ，奇数のものの合計を表しなさい．\n",
    "\n",
    "4. $0$ から $5$ までの整数に対して，整数がキー，値がキーの2乗になるような辞書を，内包表記を用いて表しなさい．"
   ]
  },
  {
   "cell_type": "code",
   "execution_count": null,
   "metadata": {},
   "outputs": [],
   "source": []
  },
  {
   "cell_type": "markdown",
   "metadata": {},
   "source": [
    "### A.8 モジュール\n",
    "\n",
    "1. mathモジュールをインポートし，\n",
    "\n",
    " 1. $2$ の平方根を表示しなさい．\n",
    "\n",
    " 2. $6$ の階乗を表示しなさい．(階乗を表示するには，factorial() を用います)\n",
    "\n",
    "2. random モジュールから，randint関数, shuffle関数 のみをインポートし、\n",
    "\n",
    " 1. $-5$ 以上，$3$ 以下の一様ランダムな整数を発生させなさい．\n",
    "\n",
    " 2. リスト $L = [1,2,3,4]$ の順序をランダムに混ぜなさい．\n",
    "\n",
    "3.  itertoolsモジュールをインポートし，\n",
    "\n",
    " 1. range(5)内の要素の長さ $2$ の（繰り返しを許さない）順列を生成し，リスト型で表示しなさい．\n",
    " 2. range(5)内の要素の長さ $2$ の（繰り返しを許さない）組み合わせを順に生成し，リスト型で表示しなさい．"
   ]
  },
  {
   "cell_type": "code",
   "execution_count": null,
   "metadata": {},
   "outputs": [],
   "source": []
  },
  {
   "cell_type": "markdown",
   "metadata": {},
   "source": [
    "### randomモジュール\n",
    "\n",
    "1. 各期の需要が平均100，標準偏差10の切断正規分布（負の場合には0とした正規分布）のとき，100期分のシミュレーションを行い，需要が110を超える期数を調べるプログラムを作成せよ．（ヒント：正規分布にしたがう擬似乱数はrandomモジュールのgauss関数（もしくはnormalvariate関数）で生成できる．）\n",
    "\n",
    "2. あるスーパーで販売しているある商品の在庫を管理したい．\n",
    "いま，$t-1$日の在庫量の営業後に在庫を調べて，発注量 $x[t]$ を決める．発注した商品は翌日の朝に届き，\n",
    "それによって $t$ 日の営業後の在庫 $I[t]$ は，以下のように決まるものとする．\n",
    "\n",
    "$$\n",
    "I[t] = I[t-1]+x[t] –D[t]\n",
    "$$\n",
    "\n",
    "ここで $D[t]$ は$t$日の需要量であり，需要が平均100，標準偏差10の切断正規分布（負の場合には0とした正規分布）とする．\n",
    "また，最初の日( $t=0$)の営業後の在庫は0であると仮定する．\n",
    "\n",
    "以下の2つの在庫管理方策のプログラムを作成せよ．\n",
    "\n",
    "* (s,S)方策：在庫量 $I[t-1]$ が $s$ 未満であるなら，翌朝の在庫が $S$ になるように発注する．\n",
    "\n",
    "* (Q,R)方策：在庫量 $I[t-1]$ が $R$ 未満であるなら，$Q$ だけ発注する．\n",
    "\n",
    " 100日のシミュレーションの後で，発注費用，在庫費用，品切れ費用の合計を計算するプログラムを作成せよ．ただし，毎日の営業後の在庫量が0以上の場合には1個あたり10円の在庫費用がかかり，在庫量が負の場合には，1個あたり100円の品切れ費用がかかるものとする．（負の在庫は顧客が待っている状態を表し，翌日の朝に商品を引き取ると仮定する．これをバックオーダーと呼ぶ．）また，発注を行う度に（発注量が正のときに）発注費用1000円がかかるものとする．また，作成したプログラムを用いて，各方策のパラメータはどのように設定すれば総費用が最小になるか考察せよ．"
   ]
  },
  {
   "cell_type": "code",
   "execution_count": null,
   "metadata": {},
   "outputs": [],
   "source": [
    "import random\n",
    "move = 0\n",
    "dont_move =0\n",
    "for iter in range(10000):\n",
    "    win = random.choice([1,2,3])\n",
    "    select = random.choice([1,2,3])\n",
    "    remainning = {1,2,3} - {select}\n",
    "    removed = random.choice(list(remainning))\n",
    "    if select == win:\n",
    "        dont_move +=1\n",
    "    else:\n",
    "        move+=1\n",
    "print(move,dont_move)"
   ]
  },
  {
   "cell_type": "code",
   "execution_count": null,
   "metadata": {},
   "outputs": [],
   "source": [
    "removed"
   ]
  },
  {
   "cell_type": "code",
   "execution_count": null,
   "metadata": {},
   "outputs": [],
   "source": [
    "remainning"
   ]
  },
  {
   "cell_type": "code",
   "execution_count": null,
   "metadata": {},
   "outputs": [],
   "source": []
  }
 ],
 "metadata": {
  "anaconda-cloud": {
   "environment": null,
   "summary": "BasicProgramming2"
  },
  "kernelspec": {
   "display_name": "Python 3 (ipykernel)",
   "language": "python",
   "name": "python3"
  },
  "language_info": {
   "codemirror_mode": {
    "name": "ipython",
    "version": 3
   },
   "file_extension": ".py",
   "mimetype": "text/x-python",
   "name": "python",
   "nbconvert_exporter": "python",
   "pygments_lexer": "ipython3",
   "version": "3.9.12"
  }
 },
 "nbformat": 4,
 "nbformat_minor": 4
}
