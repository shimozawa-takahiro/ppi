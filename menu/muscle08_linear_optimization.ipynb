{
 "cells": [
  {
   "cell_type": "markdown",
   "metadata": {
    "colab_type": "text",
    "id": "YEZqU_UXy6BE"
   },
   "source": [
    "# Python言語によるビジネスアナリティクス\n",
    "\n",
    "## 実務家のための最適化，統計分析，機械学習（近代科学社）\n",
    " \n",
    "## PuLPとGurobi/Pythonによる線形最適化問題のモデリング\n",
    "\n",
    "\n",
    "* 線形最適化ラッパー mypulp\n",
    "* 簡単な例題と双対最適解\n",
    "* 輸送問題，多品種輸送問題\n",
    "* 栄養問題"
   ]
  },
  {
   "cell_type": "code",
   "execution_count": 2,
   "metadata": {},
   "outputs": [
    {
     "name": "stdout",
     "output_type": "stream",
     "text": [
      "Package                      Version\n",
      "---------------------------- -----------\n",
      "absl-py                      1.2.0\n",
      "argon2-cffi                  21.3.0\n",
      "argon2-cffi-bindings         21.2.0\n",
      "asttokens                    2.0.5\n",
      "astunparse                   1.6.3\n",
      "attrs                        21.4.0\n",
      "backcall                     0.2.0\n",
      "beautifulsoup4               4.11.1\n",
      "bleach                       5.0.0\n",
      "cachetools                   5.2.0\n",
      "certifi                      2022.6.15\n",
      "cffi                         1.15.0\n",
      "charset-normalizer           2.1.0\n",
      "colorama                     0.4.4\n",
      "cycler                       0.11.0\n",
      "debugpy                      1.6.0\n",
      "decorator                    5.1.1\n",
      "defusedxml                   0.7.1\n",
      "entrypoints                  0.4\n",
      "executing                    0.8.3\n",
      "fastjsonschema               2.15.3\n",
      "flatbuffers                  1.12\n",
      "fonttools                    4.34.4\n",
      "gast                         0.4.0\n",
      "google-auth                  2.9.1\n",
      "google-auth-oauthlib         0.4.6\n",
      "google-pasta                 0.2.0\n",
      "grpcio                       1.47.0\n",
      "h5py                         3.7.0\n",
      "idna                         3.3\n",
      "importlib-metadata           4.12.0\n",
      "ipykernel                    6.13.0\n",
      "ipython                      8.2.0\n",
      "ipython-genutils             0.2.0\n",
      "jedi                         0.18.1\n",
      "Jinja2                       3.1.1\n",
      "joblib                       1.2.0\n",
      "jsonschema                   4.4.0\n",
      "jupyter-client               7.2.2\n",
      "jupyter-core                 4.10.0\n",
      "jupyterlab-pygments          0.2.2\n",
      "keras                        2.9.0\n",
      "Keras-Preprocessing          1.1.2\n",
      "kiwisolver                   1.4.3\n",
      "libclang                     14.0.1\n",
      "Markdown                     3.4.1\n",
      "MarkupSafe                   2.1.1\n",
      "matplotlib                   3.5.2\n",
      "matplotlib-inline            0.1.3\n",
      "mistune                      0.8.4\n",
      "mpmath                       1.2.1\n",
      "mypulp                       0.0.11\n",
      "nbclient                     0.6.0\n",
      "nbconvert                    6.5.0\n",
      "nbformat                     5.3.0\n",
      "nest-asyncio                 1.5.5\n",
      "notebook                     6.4.10\n",
      "numpy                        1.22.4\n",
      "oauthlib                     3.2.0\n",
      "opencv-python                4.6.0.66\n",
      "opt-einsum                   3.3.0\n",
      "packaging                    21.3\n",
      "pandas                       2.0.0\n",
      "pandocfilters                1.5.0\n",
      "parso                        0.8.3\n",
      "patsy                        0.5.3\n",
      "pickleshare                  0.7.5\n",
      "Pillow                       9.2.0\n",
      "pip                          23.1\n",
      "playsound                    1.3.0\n",
      "prometheus-client            0.14.1\n",
      "prompt-toolkit               3.0.29\n",
      "protobuf                     3.19.4\n",
      "psutil                       5.9.0\n",
      "PuLP                         2.7.0\n",
      "pure-eval                    0.2.2\n",
      "pyasn1                       0.4.8\n",
      "pyasn1-modules               0.2.8\n",
      "pycparser                    2.21\n",
      "Pygments                     2.11.2\n",
      "pyparsing                    3.0.8\n",
      "pyrsistent                   0.18.1\n",
      "python-dateutil              2.8.2\n",
      "pytz                         2023.3\n",
      "pywin32                      303\n",
      "pywinpty                     2.0.5\n",
      "pyzmq                        22.3.0\n",
      "requests                     2.28.1\n",
      "requests-oauthlib            1.3.1\n",
      "rsa                          4.9\n",
      "scikit-learn                 1.2.2\n",
      "scipy                        1.10.1\n",
      "seaborn                      0.12.2\n",
      "Send2Trash                   1.8.0\n",
      "setuptools                   62.3.2\n",
      "six                          1.16.0\n",
      "soupsieve                    2.3.2.post1\n",
      "stack-data                   0.2.0\n",
      "statsmodels                  0.13.5\n",
      "sympy                        1.10.1\n",
      "tensorboard                  2.9.1\n",
      "tensorboard-data-server      0.6.1\n",
      "tensorboard-plugin-wit       1.8.1\n",
      "tensorflow                   2.9.1\n",
      "tensorflow-estimator         2.9.0\n",
      "tensorflow-io-gcs-filesystem 0.26.0\n",
      "termcolor                    1.1.0\n",
      "terminado                    0.13.3\n",
      "threadpoolctl                3.1.0\n",
      "tinycss2                     1.1.1\n",
      "tornado                      6.1\n",
      "traitlets                    5.1.1\n",
      "typing_extensions            4.3.0\n",
      "tzdata                       2023.3\n",
      "urllib3                      1.26.10\n",
      "wcwidth                      0.2.5\n",
      "webencodings                 0.5.1\n",
      "Werkzeug                     2.2.0\n",
      "wheel                        0.37.1\n",
      "wrapt                        1.14.1\n",
      "zipp                         3.8.1\n",
      "Note: you may need to restart the kernel to use updated packages.\n"
     ]
    },
    {
     "name": "stderr",
     "output_type": "stream",
     "text": [
      "WARNING: Ignoring invalid distribution -ip (c:\\users\\staka\\appdata\\local\\programs\\python\\python39\\lib\\site-packages)\n"
     ]
    }
   ],
   "source": [
    "pip list"
   ]
  },
  {
   "cell_type": "markdown",
   "metadata": {
    "colab_type": "text",
    "id": "l9jN4unoy6BG"
   },
   "source": [
    "### 線形最適化ソルバー(モデラー）\n",
    "-----------\n",
    "\n",
    "\n",
    "* Gurobi（商用，アカデミックフリー）のソルバー\n",
    "  * 独自のPythonインターフェイス（「あたらしい数理最適化」（近代科学社）で採用）\n",
    " * 凸2次（制約）整数，2次錐最適化\n",
    "* PuLP （MITライセンス）のモデラー\n",
    "  * メインソルバーはCBC(COIN Branch & Cut; EPLライセンス），その他様々なソルバーと連携(MPSフォーマット経由）\n",
    "  * Gurobiと同じインターフェイスをもつ**mypulp**モジュールを使う\n",
    "\n",
    "\n"
   ]
  },
  {
   "cell_type": "markdown",
   "metadata": {
    "colab_type": "text",
    "id": "V2w9Ptwey6BH"
   },
   "source": [
    "## 例題　\n",
    "\n",
    "* トンコケ，コケトン，ミックスの丼を販売\n",
    "* 資源制約の下で，利益を最大化\n"
   ]
  },
  {
   "cell_type": "markdown",
   "metadata": {
    "colab_type": "text",
    "id": "oNrg4pFky6BJ"
   },
   "source": [
    "変数\n",
    "\n",
    "* トンコケ丼 $x_1$，コケトン丼 $x_2$，ミックス丼 $x_3$\n",
    "\n",
    "* 定式化\n",
    "\n",
    "\\begin{array}{l c c c c c}\n",
    " \\mbox{maximize} & 15 x_1  & + 18 x_2 & +30 x_3 &      & \\\\\n",
    " \\mbox{subject to}   & 2x_1   & + x_2   & + x_3   & \\leq & 60 \\\\\n",
    "               &  x_1   & + 2 x_2 & + x_3  &\\leq  & 60 \\\\\n",
    "               &        &         &   x_3  &\\leq  & 30 \\\\\n",
    "               &        &         & x_1,x_2,x_3 & \\geq & 0 \n",
    " \\end{array}"
   ]
  },
  {
   "cell_type": "markdown",
   "metadata": {},
   "source": [
    "### 1単位生産した時の利益\n",
    "トンコケ＝15、コケトン＝18、ミックス＝30\n",
    "\n",
    "\n",
    "### 各製品1単位分を⽣産するのに必要な各原料の量とその在庫量\n",
    "|原料|x1に対する必要量|x2に対する必要量|x3に対する必要量|在庫量|\n",
    "|:----:|:----:|:----:|:----:|:----:|\n",
    "|a（豚肉）|2|1|1|60|\n",
    "|b（鶏肉）|1|2|1|60|\n",
    "|c（牛肉）|0|0|1|30|"
   ]
  },
  {
   "cell_type": "code",
   "execution_count": 3,
   "metadata": {
    "colab": {
     "base_uri": "https://localhost:8080/",
     "height": 87
    },
    "colab_type": "code",
    "id": "Qx9RzARJy6BK",
    "outputId": "67bb97c1-6a5b-402e-86f0-75920beb1c35"
   },
   "outputs": [
    {
     "name": "stdout",
     "output_type": "stream",
     "text": [
      "Opt. Value= 1230.0\n",
      "x1 10.0\n",
      "x2 10.0\n",
      "x3 30.0\n"
     ]
    }
   ],
   "source": [
    "#from gurobipy import *\n",
    "from mypulp import *\n",
    "model = Model('lo1')\n",
    "\n",
    "x1 = model.addVar(name='x1')\n",
    "x2 = model.addVar(name='x2')\n",
    "x3 = model.addVar(ub=30., name='x3')\n",
    "\n",
    "model.update() #Gurobiの怠惰な更新(lazy update)という仕様（忘れずに！）\n",
    "    \n",
    "model.addConstr(2*x1 + x2 + x3 <= 60)\n",
    "# 別の定義方法 1\n",
    "#L1 = LinExpr([2,1,1],[x1,x2,x3]) #線形表現(式）\n",
    "# 別の定義方法 2\n",
    "#L1 = LinExpr()     #線形表現(式）\n",
    "#L1.addTerms(2,x1)  #項を追加\n",
    "#L1.addTerms(1,x2)\n",
    "#L1.addTerms(1,x3)\n",
    "#model.addConstr(lhs=L1,sense='<',rhs=60)  #制約を追加\n",
    "\n",
    "model.addConstr(x1 + 2*x2 + x3 <= 60)\n",
    "\n",
    "model.setObjective(15*x1 + 18*x2 + 30*x3, GRB.MAXIMIZE)\n",
    "\n",
    "model.optimize()\n",
    "\n",
    "if model.Status == GRB.Status.OPTIMAL:\n",
    "    print('Opt. Value=',model.ObjVal)\n",
    "    for v in model.getVars():\n",
    "        print(v.VarName,v.X)"
   ]
  },
  {
   "cell_type": "markdown",
   "metadata": {
    "colab_type": "text",
    "id": "l9mVhb9By6BQ"
   },
   "source": [
    "\n"
   ]
  },
  {
   "cell_type": "markdown",
   "metadata": {
    "colab_type": "text",
    "id": "rQKgBa6Wy6BR"
   },
   "source": [
    "### モデルファイルの出力\n",
    "------------\n",
    "* model.write('ファイル名.lp')で **LPフォーマット**(Linear Programming (LP) format)で保存\n",
    "\n",
    "* model.write('ファイル名.mps')で**MPSフォーマット** (Mathematical Programming System (MPS) format) で保存\n",
    "  * 可読性はないが，ほとんどの最適化ソルバーが対応している古典的な書式\n",
    "  \n",
    "* 注意：Gurobiの場合にはmodel.update()を直前にするのを忘れずに\n",
    "\n",
    "* PuLPだと print(model) でも画面にLPフォーマットを出力\n"
   ]
  },
  {
   "cell_type": "code",
   "execution_count": 4,
   "metadata": {
    "colab": {
     "base_uri": "https://localhost:8080/",
     "height": 457
    },
    "colab_type": "code",
    "id": "Ci5z1hVAy6BS",
    "outputId": "0bcf27ad-d4b7-4cc9-ba3d-e062e0e0469b"
   },
   "outputs": [
    {
     "name": "stdout",
     "output_type": "stream",
     "text": [
      "MPS file =========================\n"
     ]
    },
    {
     "name": "stderr",
     "output_type": "stream",
     "text": [
      "'cat' は、内部コマンドまたは外部コマンド、\n",
      "操作可能なプログラムまたはバッチ ファイルとして認識されていません。\n"
     ]
    }
   ],
   "source": [
    "model.write('lo1.lp')\n",
    "model.write('lo1.mps')\n",
    "print('MPS file =========================')\n",
    "!cat lo1.lp"
   ]
  },
  {
   "cell_type": "markdown",
   "metadata": {},
   "source": [
    "## 双対問題\n",
    "-----------\n",
    "\n",
    "### 資源（豚肉，鶏肉，牛肉）100グラムの価値を推定"
   ]
  },
  {
   "cell_type": "markdown",
   "metadata": {
    "colab_type": "text",
    "id": "ofmctZBmy6BY"
   },
   "source": [
    "主問題\n",
    "------------\n",
    "\n",
    "\\begin{array}{l c c c c c}\n",
    " \\mbox{maximize} & 15 x_1  & + 18 x_2 & +30 x_3 &      & \\\\\n",
    " \\mbox{subject to}   & 2x_1   & + x_2   & + x_3   & \\leq & 60 \\\\\n",
    "               &  x_1   & + 2 x_2 & + x_3  &\\leq  & 60 \\\\\n",
    "               &        &         &   x_3  &\\leq  & 30 \\\\\n",
    "               &        &         &x_1,x_2,x_3  & \\geq & 0 \n",
    " \\end{array}\n",
    "\n"
   ]
  },
  {
   "cell_type": "markdown",
   "metadata": {},
   "source": [
    "### 1単位生産した時の利益\n",
    "トンコケ＝15、コケトン＝18、ミックス＝30\n",
    "\n",
    "### ↑の利益を最大化\n",
    "\n",
    "### 各製品1単位分を⽣産するのに必要な各原料の量とその在庫量\n",
    "|原料|x1（トンコケ）に対する必要量|x2（コケトン）に対する必要量|x3（ミックス）に対する必要量|在庫量|\n",
    "|:----:|:----:|:----:|:----:|:----:|\n",
    "|a（豚肉）|2|1|1|60|\n",
    "|b（鶏肉）|1|2|1|60|\n",
    "|c（牛肉）|0|0|1|30|"
   ]
  },
  {
   "cell_type": "markdown",
   "metadata": {
    "colab_type": "text",
    "id": "DLJZHXxBy6BZ"
   },
   "source": [
    "双対問題\n",
    "--------------\n",
    "\n",
    "\\begin{array}{l c c c c c}\n",
    " \\mbox{minimize} & 60 \\pi_1 & + 60 \\pi_2& +30 \\pi_3 &      & \\\\\n",
    " \\mbox{subject to}   & 2\\pi_1   & + \\pi_2   &         & \\geq & 15 \\\\\n",
    "               &  \\pi_1   & + 2\\pi_2  &         &\\geq  & 18 \\\\\n",
    "               &  \\pi_1   & +\\pi_2    &  +\\pi_3   &\\geq  & 30 \\\\\n",
    "               &          &           & \\pi_1,\\pi_2,\\pi_3  & \\geq & 0 \n",
    " \\end{array}\n",
    " \n",
    "最適双対変数は 4, 7, 19 \n",
    "\n",
    "豚肉は百グラム$400$ 円，鶏肉は百グラム $700$ 円， 牛肉は百グラム\n",
    "$1900$ 円の価値をもつ"
   ]
  },
  {
   "attachments": {},
   "cell_type": "markdown",
   "metadata": {},
   "source": [
    "上界：主問題の最適解以上であることが保証されている値  \n",
    "\n",
    "### 在庫量\n",
    "豚肉＝60、鶏肉＝60、牛肉＝30\n",
    "\n",
    "### ↑の仕入れ価格を最小化\n",
    "\n",
    "### ???\n",
    "|原料|豚肉|鶏肉|牛肉|丼の価値|\n",
    "|:----:|:----:|:----:|:----:|:----:|\n",
    "|トンコケ丼|2|1|0|15|\n",
    "|コケトン丼|1|2|0|18|\n",
    "|ミックス丼|1|1|1|30|"
   ]
  },
  {
   "cell_type": "code",
   "execution_count": 5,
   "metadata": {
    "colab": {
     "base_uri": "https://localhost:8080/",
     "height": 52
    },
    "colab_type": "code",
    "id": "J7SSdDjay6Ba",
    "outputId": "e078c603-4ce2-4c1d-d4c2-97e65fd02cc4"
   },
   "outputs": [
    {
     "name": "stdout",
     "output_type": "stream",
     "text": [
      "c_1 4.0\n",
      "c_2 7.0\n"
     ]
    }
   ],
   "source": [
    "for c in model.getConstrs():\n",
    "    print( c.ConstrName, c.Pi )"
   ]
  },
  {
   "cell_type": "markdown",
   "metadata": {
    "colab_type": "text",
    "id": "CYT4WLc_y6Bd"
   },
   "source": [
    "## 輸送問題\n",
    "---------------\n",
    "\n",
    "**quicksum**と**multidict**を用いた一般的な記述法\n",
    "\n",
    "|顧客 $i$ | 1  |  2  | 3  | 4 | 5 | \n",
    "|--:|----:|----:|---:|---:|---:|\n",
    "|需要量 $d_i$  |80 | 270 | 250 | 160 | 180 |   \n",
    "|工場 $j$|  輸送費用 | $c_{ij}$ |   |  |   | 容量 $M_j$  |\n",
    "|1      | 4 | 5 | 6 | 8 | 10 |  500 |\n",
    "|2      | 6  |4 | 3 | 5 | 8 |  500 |\n",
    "|3      | 9  | 7 | 4 | 3 | 4 |  500 |\n",
    "\n",
    "\n"
   ]
  },
  {
   "cell_type": "markdown",
   "metadata": {
    "colab_type": "text",
    "id": "rkv4qPMqy6Be"
   },
   "source": [
    "     "
   ]
  },
  {
   "cell_type": "markdown",
   "metadata": {
    "colab_type": "text",
    "id": "uO64pIfsy6Bg"
   },
   "source": [
    "$x_{ij}= \\mbox{工場 $j$ から顧客 $i$ に輸送される量} $\n",
    "\n",
    "定式化\n",
    "\n",
    "\\begin{array}{l l l} \n",
    "\\nonumber\n",
    " \\mbox{ minimize } & \\displaystyle\\sum_{i \\in I} \\displaystyle\\sum_{j \\in J} c_{ij} x_{ij}  &     \\\\\n",
    " \\mbox{ subject to   } &\n",
    "\\nonumber\n",
    " \\displaystyle\\sum_{j \\in J} x_{ij} =d_i &  \\forall  i \\in I  \\\\\n",
    "\\nonumber\n",
    "   & \\displaystyle\\sum_{i \\in I} x_{ij} \\leq M_j &  \\forall  j \\in J \\\\   \n",
    "\\nonumber\n",
    "                 & x_{ij} \\geq 0 & \\forall  i \\in I; j \\in J  \n",
    "\\end{array}"
   ]
  },
  {
   "cell_type": "code",
   "execution_count": 6,
   "metadata": {
    "colab": {
     "base_uri": "https://localhost:8080/",
     "height": 70
    },
    "colab_type": "code",
    "id": "rYorKfgXy6Bh",
    "outputId": "bd717e89-5d78-4ec1-e9f3-38a2c39ebd9d"
   },
   "outputs": [
    {
     "name": "stdout",
     "output_type": "stream",
     "text": [
      "['Taro', 'Hanako', 'Simon']\n",
      "{'Taro': 145, 'Hanako': 138, 'Simon': 150}\n",
      "{'Taro': 30, 'Hanako': 34, 'Simon': 45}\n"
     ]
    }
   ],
   "source": [
    "# multidict の使用法\n",
    "from mypulp import *\n",
    "name, height, weight=multidict({'Taro':[145,30],'Hanako':[138,34],'Simon':[150,45]})\n",
    "print(name)\n",
    "print(height)\n",
    "print(weight)"
   ]
  },
  {
   "cell_type": "code",
   "execution_count": 7,
   "metadata": {
    "colab": {
     "base_uri": "https://localhost:8080/",
     "height": 34
    },
    "colab_type": "code",
    "id": "7xkbBOVfy6Bj",
    "outputId": "5b1114e4-77b9-4a00-c25e-d50cbb8ef47f"
   },
   "outputs": [
    {
     "name": "stdout",
     "output_type": "stream",
     "text": [
      "5*x_1 + 4*x_2 + 2*x_3\n"
     ]
    }
   ],
   "source": [
    "# quicksum の使用法\n",
    "from mypulp import *\n",
    "model=Model()\n",
    "a=[5,4,2]\n",
    "x=[model.addVar() for i in range(3)]\n",
    "L = quicksum(a[i]*x[i] for i in range(3))\n",
    "print(L)"
   ]
  },
  {
   "cell_type": "code",
   "execution_count": 8,
   "metadata": {
    "colab": {
     "base_uri": "https://localhost:8080/",
     "height": 298
    },
    "colab_type": "code",
    "id": "Uj79EaDuy6Bl",
    "outputId": "edf79d2f-3847-4865-a897-b442b952008d"
   },
   "outputs": [
    {
     "name": "stdout",
     "output_type": "stream",
     "text": [
      "Optimal value: 3370.0\n",
      " 80.0 from factory  1 to customer  1\n",
      "270.0 from factory  2 to customer  2\n",
      "230.0 from factory  2 to customer  3\n",
      " 20.0 from factory  3 to customer  3\n",
      "160.0 from factory  3 to customer  4\n",
      "180.0 from factory  3 to customer  5\n",
      "    Const. Name:    Slack , Dual\n",
      "      Demand(1):     -0.0 ,  4.0\n",
      "      Demand(2):     -0.0 ,  5.0\n",
      "      Demand(3):     -0.0 ,  4.0\n",
      "      Demand(4):     -0.0 ,  3.0\n",
      "      Demand(5):     -0.0 ,  4.0\n",
      "    Capacity(1):    420.0 ,  0.0\n",
      "    Capacity(2):     -0.0 , -1.0\n",
      "    Capacity(3):    140.0 ,  0.0\n"
     ]
    }
   ],
   "source": [
    "#from gurobipy import *\n",
    "from mypulp import *\n",
    "I,d = multidict({1:80, 2:270, 3:250 , 4:160, 5:180}) # demand\n",
    "J,M = multidict({1:500, 2:500, 3:500})               # capacity\n",
    "c = {(1,1):4,    (1,2):6,    (1,3):9,  # cost\n",
    "     (2,1):5,    (2,2):4,    (2,3):7,\n",
    "     (3,1):6,    (3,2):3,    (3,3):4,\n",
    "     (4,1):8,    (4,2):5,    (4,3):3,\n",
    "     (5,1):10,   (5,2):8,    (5,3):4,\n",
    "     }\n",
    "\n",
    "model = Model('transportation')\n",
    "x = {}\n",
    "for i in I:\n",
    "    for j in J:\n",
    "        x[i,j] = model.addVar(vtype='C', name='x({0},{1})'.format(i,j))\n",
    "model.update()\n",
    "\n",
    "for i in I:\n",
    "    model.addConstr(quicksum(x[i,j] for j in J if (i,j) in x) == d[i],\n",
    "                    name='Demand({0})'.format(i))\n",
    "for j in J:\n",
    "    model.addConstr(quicksum(x[i,j] for i in I if (i,j) in x) <= M[j], \n",
    "                    name='Capacity({0})'.format(j))\n",
    "model.setObjective(quicksum(c[i,j]*x[i,j]  for (i,j) in x), GRB.MINIMIZE)\n",
    "\n",
    "model.optimize()\n",
    "print( 'Optimal value:', model.ObjVal)\n",
    "\n",
    "EPS = 1.e-6\n",
    "for (i,j) in x:\n",
    "    if x[i,j].X > EPS:\n",
    "        print('{0:>5} from factory {1:>2} to customer {2:>2}'.format(x[i,j].X,j,i) )\n",
    "        \n",
    "print ('{0:>15}: {1:>8} , {2:>4}'.format('Const. Name', 'Slack', 'Dual'))\n",
    "for c in model.getConstrs():\n",
    "    print ('{0:>15}: {1:>8} , {2:>4}'.format(c.ConstrName,c.Slack,c.Pi))"
   ]
  },
  {
   "cell_type": "markdown",
   "metadata": {
    "colab_type": "text",
    "id": "UMGPDK7my6Bn"
   },
   "source": [
    "      "
   ]
  },
  {
   "cell_type": "markdown",
   "metadata": {
    "colab_type": "text",
    "id": "rg-0CuE4y6Bo"
   },
   "source": [
    "## 多品種輸送問題\n",
    "---------------\n",
    " 疎な問題の扱い方と ** tuplelist **\n",
    "\n",
    "$\n",
    "  x_{ijk}= \\mbox{工場 $j$ から顧客 $i$ に製品 $k$ が輸送される量}\n",
    "$\n",
    "\n",
    " 工場1では製品2,4を，工場2では製品1,2,3を，工場3では製品2,3,4を製造可能\n",
    "\n",
    "`produce = {1:[2,4], 2:[1,2,3], 3:[2,3,4]}`  \n"
   ]
  },
  {
   "cell_type": "markdown",
   "metadata": {
    "colab_type": "text",
    "id": "dcRtEO5Ky6Bp"
   },
   "source": [
    "定式化\n",
    "\n",
    "\\begin{array}{l l l} \n",
    "\\nonumber\n",
    " \\mbox{ minimize } & \\displaystyle\\sum_{i \\in I} \\displaystyle\\sum_{j \\in J} \n",
    " \\displaystyle\\sum_{k \\in K} c_{ijk} x_{ijk}  &     \\\\\n",
    " \\mbox{ subject to   } &\n",
    "\\nonumber\n",
    " \\displaystyle\\sum_{j \\in J} x_{ijk} =d_{ik} &  \\forall  i \\in I; k \\in K  \\\\\n",
    "\\nonumber\n",
    "   & \\displaystyle\\sum_{i \\in I} \\displaystyle\\sum_{k \\in K} x_{ijk} \\leq M_j &  \\forall  j \\in J  \\\\   \n",
    "\\nonumber\n",
    "                 & x_{ijk} \\geq 0 & \\forall  i \\in I; j \\in J; k \\in K  \n",
    "\\end{array}"
   ]
  },
  {
   "cell_type": "code",
   "execution_count": 9,
   "metadata": {
    "colab": {},
    "colab_type": "code",
    "id": "w9twD17uy6Bp",
    "outputId": "b70d7c7f-f7bf-4ad3-c828-064210cfb72f"
   },
   "outputs": [
    {
     "name": "stdout",
     "output_type": "stream",
     "text": [
      "[('Sara', 'Apple'), ('Simon', 'Apple')]\n"
     ]
    }
   ],
   "source": [
    "# tuplelist の使用法\n",
    "from mypulp import *\n",
    "T = tuplelist([('Sara','Apple'),('Taro','Pear'),('Jiro','Orange'),('Simon','Apple')])\n",
    "print( T.select('*','Apple') )               "
   ]
  },
  {
   "cell_type": "code",
   "execution_count": 10,
   "metadata": {
    "colab": {
     "base_uri": "https://localhost:8080/",
     "height": 386
    },
    "colab_type": "code",
    "id": "Aegl6Hh0y6Bs",
    "outputId": "19f9e59a-9e7a-40fb-dc50-64147e84bd4e"
   },
   "outputs": [
    {
     "name": "stdout",
     "output_type": "stream",
     "text": [
      "Optimal value: 43536.0\n",
      " 85.0s units  2 from  1 to  1\n",
      "  6.0s units  4 from  1 to  1\n",
      " 80.0s units  1 from  2 to  1\n",
      "300.0s units  3 from  2 to  1\n",
      "  7.0s units  4 from  1 to  2\n",
      "270.0s units  1 from  2 to  2\n",
      "160.0s units  2 from  2 to  2\n",
      "400.0s units  3 from  2 to  2\n",
      "250.0s units  1 from  2 to  3\n",
      "130.0s units  2 from  2 to  3\n",
      "350.0s units  3 from  2 to  3\n",
      "  4.0s units  4 from  3 to  3\n",
      "160.0s units  1 from  2 to  4\n",
      " 60.0s units  2 from  3 to  4\n",
      "200.0s units  3 from  3 to  4\n",
      "  3.0s units  4 from  3 to  4\n",
      "180.0s units  1 from  2 to  5\n",
      " 40.0s units  2 from  3 to  5\n",
      "150.0s units  3 from  3 to  5\n",
      "  5.0s units  4 from  3 to  5\n"
     ]
    },
    {
     "name": "stderr",
     "output_type": "stream",
     "text": [
      "C:\\Users\\staka\\AppData\\Local\\Programs\\Python\\Python39\\lib\\site-packages\\pulp\\pulp.py:1352: UserWarning: Spaces are not permitted in the name. Converted to '_'\n",
      "  warnings.warn(\"Spaces are not permitted in the name. Converted to '_'\")\n"
     ]
    }
   ],
   "source": [
    "from mypulp import *\n",
    "d = {(1,1):80,   (1,2):85,   (1,3):300,  (1,4):6,\n",
    "     (2,1):270,  (2,2):160,  (2,3):400,  (2,4):7,\n",
    "     (3,1):250,  (3,2):130,  (3,3):350,  (3,4):4,\n",
    "     (4,1):160,  (4,2):60,   (4,3):200,  (4,4):3,\n",
    "     (5,1):180,  (5,2):40,   (5,3):150,  (5,4):5\n",
    "     }\n",
    "\n",
    "I = set([i for (i,k) in d])\n",
    "K = set([k for (i,k) in d])\n",
    "J,M = multidict({1:3000, 2:3000, 3:3000})  # capacity\n",
    "produce = {1:[2,4], 2:[1,2,3], 3:[2,3,4]}  # products that can be produced in each facility\n",
    "weight = {1:5, 2:2, 3:3, 4:4}              # {commodity: weight<float>}\n",
    "\n",
    "cost = {(1,1):4,  (1,2):6, (1,3):9,        # {(customer,factory): cost<float>}\n",
    "        (2,1):5,  (2,2):4, (2,3):7,\n",
    "        (3,1):6,  (3,2):3, (3,3):4,\n",
    "        (4,1):8,  (4,2):5, (4,3):3,\n",
    "        (5,1):10, (5,2):8, (5,3):4\n",
    "        }\n",
    "\n",
    "c = {}\n",
    "for i in I:\n",
    "    for j in J:\n",
    "        for k in produce[j]:\n",
    "            c[i,j,k] = cost[i,j] * weight[k]            \n",
    "model = Model('multi-commodity transportation')\n",
    "\n",
    "x = {}\n",
    "for (i,j,k) in c:\n",
    "    x[i,j,k] = model.addVar(vtype='C', name='x({0},{1},{2})'.format(i,j,k))\n",
    "model.update()\n",
    "arcs = tuplelist([(i,j,k) for (i,j,k) in x])\n",
    "for i in I:\n",
    "    for k in K:\n",
    "        model.addConstr(quicksum(x[i,j,k] for (i,j,k) in arcs.select(i,'*',k)) == d[i,k],\n",
    "                        'Demand({0},{1})'.format(i,k))\n",
    "for j in J:\n",
    "    model.addConstr(quicksum(x[i,j,k] for (i,j,k) in arcs.select('*',j,'*')) <= M[j],\n",
    "                    'Capacity({0})'.format(j))\n",
    "\n",
    "model.setObjective(quicksum(c[i,j,k]*x[i,j,k]  for (i,j,k) in x), GRB.MINIMIZE)\n",
    "model.optimize()\n",
    "print ('Optimal value:',model.ObjVal)\n",
    "\n",
    "EPS = 1.e-6\n",
    "for (i,j,k) in x:\n",
    "    if x[i,j,k].X > EPS:\n",
    "        print ('{0:>5}s units {1:>2} from {2:>2} to {3:>2}'.format(x[i,j,k].X,k,j,i))"
   ]
  },
  {
   "cell_type": "markdown",
   "metadata": {
    "colab_type": "text",
    "id": "PN25c6vxy6Bv"
   },
   "source": [
    "### 栄養問題（実行不可能性の取り扱い）\n",
    "----------------\n",
    "\n",
    "|栄養素 $N$ | Cal | Carbo | Protein | VitA | VitC | Calc | Iron |価格　|\n",
    "|--:|----:|----:|---:|---:|---:|---:|---:|---:|\n",
    "|商品名 $F$ | |  | $n_{ij}$  |  |  | |  |$c_j$　\n",
    "| CQPounder | 556| 39| 30| 147| 10| 221| 2.4| 360|\n",
    "|Big M | 556| 46| 26| 97 | 9 | 142| 2.4| 320|\n",
    "|FFilet | 356| 42| 14| 28 | 1 | 76 | 0.7| 270|\n",
    "|Chicken | 431| 45| 20| 9 | 2 | 37 | 0.9| 290|\n",
    "|Fries| 249| 30| 3 | 0 | 5 | 7 | 0.6| 190|\n",
    "|Milk | 138| 10| 7 | 80 | 2 | 227| 0 | 170|\n",
    "|VegJuice | 69 | 17| 1 | 750| 2 | 18 | 0 | 100|\n",
    "|上限 $a_i$ | 3000| 375| 60| 750| 100| 900| 7.5|\n",
    "|下限 $b_i$ | 2000| 300| 50| 500| 85| 660| 6.0|\n",
    "\n",
    "\n"
   ]
  },
  {
   "cell_type": "markdown",
   "metadata": {
    "colab_type": "text",
    "id": "HRzBbYmMy6Bx"
   },
   "source": [
    "定式化 \n",
    "\n",
    "$x_j$ は商品 $j$ の購入量(実数）\n",
    "\n",
    "\\begin{array}{l l l}\n",
    "   \\mbox{minimize}    & \\displaystyle\\sum_{j \\in F} c_j x_j          &  \\\\\n",
    "   \\mbox{subject to}  & a_i \\leq \\displaystyle\\sum_{j \\in F} n_{ij} x_j \\leq b_i &  i \\in N    \\\\\n",
    "                      & x_j \\geq 0  &     j \\in F\n",
    "\\end{array}\n",
    "\n",
    "$d_i$: 不足変数\n",
    "\n",
    "$s_i$: 超過変数\n"
   ]
  },
  {
   "cell_type": "markdown",
   "metadata": {
    "colab_type": "text",
    "id": "OjKMoNuHy6By"
   },
   "source": [
    "     "
   ]
  },
  {
   "cell_type": "markdown",
   "metadata": {
    "colab_type": "text",
    "id": "bG3v1PLhy6By"
   },
   "source": [
    "\n",
    "改良した制約\n",
    "\n",
    "$$a_i - d_i \\leq \\displaystyle\\sum_{j \\in F} n_{ij} x_j \\leq b_i +s_i  \\ \\   i \\in N$$\n",
    "\n",
    "変更した目的関数（Mは大きな数）\n",
    "\n",
    "\\begin{array}{l l l}\n",
    "   \\mbox{minimize}    & \\displaystyle\\sum_{j \\in F} c_j x_j  + \\displaystyle\\sum_{i \\in N} M (d_i+s_i)  &  \n",
    "\\end{array}"
   ]
  },
  {
   "cell_type": "code",
   "execution_count": null,
   "metadata": {
    "colab": {
     "base_uri": "https://localhost:8080/",
     "height": 122
    },
    "colab_type": "code",
    "id": "PtrNA1Fby6B0",
    "outputId": "f9bf6018-ae1c-4d40-8c9c-899a22cbae2f"
   },
   "outputs": [],
   "source": [
    "F, c, n = multidict({      \n",
    "    'CQPounder':  [ 360, {'Cal':556, 'Carbo':39, 'Protein':30, 'VitA':147,\n",
    "                          'VitC': 10, 'Calc':221, 'Iron':2.4}], \n",
    "    'Big M'    :  [ 320, {'Cal':556, 'Carbo':46, 'Protein':26, 'VitA':97,\n",
    "                          'VitC':  9, 'Calc':142, 'Iron':2.4}], \n",
    "    'FFilet'   :  [ 270, {'Cal':356, 'Carbo':42, 'Protein':14, 'VitA':28, \n",
    "                          'VitC':  1, 'Calc': 76, 'Iron':0.7}], \n",
    "    'Chicken'  :  [ 290, {'Cal':431, 'Carbo':45, 'Protein':20, 'VitA': 9, \n",
    "                          'VitC':  2, 'Calc': 37, 'Iron':0.9}], \n",
    "    'Fries'    :  [ 190, {'Cal':249, 'Carbo':30, 'Protein': 3, 'VitA': 0, \n",
    "                          'VitC':  5, 'Calc':  7, 'Iron':0.6}], \n",
    "    'Milk'     :  [ 170, {'Cal':138, 'Carbo':10, 'Protein': 7, 'VitA':80,\n",
    "                          'VitC':  2, 'Calc':227, 'Iron': 0}], \n",
    "    'VegJuice' :  [ 100, {'Cal': 69, 'Carbo':17, 'Protein': 1, 'VitA':750,\n",
    "                          'VitC':  2, 'Calc':18,  'Iron': 0}] })\n",
    "N, a, b = multidict({       \n",
    "    'Cal'     : [ 2000,  3000],\n",
    "    'Carbo'   : [  300,  375 ],\n",
    "    'Protein' : [   50,   60 ],\n",
    "    'VitA'    : [  500,  750 ],\n",
    "    'VitC'    : [   85,  100 ],\n",
    "    'Calc'    : [  660,  900 ],\n",
    "    'Iron'    : [  6.0,  7.5 ]})\n",
    "model = Model('modern diet')\n",
    "x,s,d = {},{},{}\n",
    "for j in F:\n",
    "    x[j] = model.addVar(vtype='C', name='x({0})'.format(j))\n",
    "for i in N:\n",
    "    s[i] = model.addVar(vtype='C', name='surplus({0})'.format(i))\n",
    "    d[i] = model.addVar(vtype='C', name='deficit({0})'.format(i))\n",
    "model.update()\n",
    "for i in N:\n",
    "    model.addConstr(quicksum(n[j][i]*x[j] for j in F) >= a[i]-d[i],'NutrLB({0})'.format(i))\n",
    "    model.addConstr(quicksum(n[j][i]*x[j] for j in F) <= b[i]+s[i],'NutrUB({0})'.format(i))\n",
    "model.setObjective(quicksum(c[j]*x[j]  for j in F)+\n",
    "                   quicksum(9999*d[i]+9999*s[i] for i in N), GRB.MINIMIZE )\n",
    "model.optimize()\n",
    "status = model.Status\n",
    "if status == GRB.Status.OPTIMAL:\n",
    "    print (\"Optimal value:\",model.ObjVal)\n",
    "    for j in F:\n",
    "        if x[j].X > 0:\n",
    "            print (j,x[j].X)\n",
    "    for i in N:\n",
    "        if d[i].X > 0:\n",
    "            print ('deficit of {0} ={1}'.format(i,d[i].X))\n",
    "        if s[i].X > 0:\n",
    "            print ('surplus of {0} ={1}'.format(i,s[i].X))"
   ]
  },
  {
   "cell_type": "markdown",
   "metadata": {
    "colab_type": "text",
    "id": "OGYADF17y6B3"
   },
   "source": [
    "fin.      "
   ]
  },
  {
   "cell_type": "code",
   "execution_count": null,
   "metadata": {
    "colab": {},
    "colab_type": "code",
    "id": "mfG3SDN60inJ"
   },
   "outputs": [],
   "source": []
  }
 ],
 "metadata": {
  "colab": {
   "collapsed_sections": [],
   "include_colab_link": true,
   "name": "linear_optimization.ipynb",
   "provenance": [],
   "version": "0.3.2"
  },
  "kernelspec": {
   "display_name": "Python 3 (ipykernel)",
   "language": "python",
   "name": "python3"
  },
  "language_info": {
   "codemirror_mode": {
    "name": "ipython",
    "version": 3
   },
   "file_extension": ".py",
   "mimetype": "text/x-python",
   "name": "python",
   "nbconvert_exporter": "python",
   "pygments_lexer": "ipython3",
   "version": "3.9.12"
  }
 },
 "nbformat": 4,
 "nbformat_minor": 4
}
