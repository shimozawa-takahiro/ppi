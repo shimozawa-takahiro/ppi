{
 "cells": [
  {
   "cell_type": "markdown",
   "metadata": {
    "colab_type": "text",
    "id": "rluUao6d5LLg"
   },
   "source": [
    "# Jupyterの使い方について\n",
    "\n",
    "### ファイル操作\n",
    "\n",
    "#### Jupyter Notebookとして起動した場合\n",
    "1. Files画面：左上にある**ファイル**⇒**Python3の新しいノートブック**を選択すると新しいノートブックを作成\n",
    "2. ファイルの**保存**で保存できる\n",
    "\n",
    "#### Jupyter Labとして起動した場合\n",
    "1. Files画面：左上にある**File**⇒**New**⇒**Notebook**から、Python3を選択\n",
    "2. **File**⇒**Save Notebook**で保存できる\n"
   ]
  },
  {
   "cell_type": "markdown",
   "metadata": {
    "colab_type": "text",
    "id": "_O0eIfvc5LLi"
   },
   "source": [
    "### 問題\n",
    "\n",
    "新しいノートを起動させてから，保存してみよう．"
   ]
  },
  {
   "cell_type": "markdown",
   "metadata": {
    "colab_type": "text",
    "id": "An-nf6hb5LLr"
   },
   "source": [
    "## ノートブックの利用法\n",
    "\n",
    "1. 入力画面(セル）\n",
    " - **Shift + Enter**: 実行してから，下にセルを追加\n",
    "2. 上部メニューアイコン(左から順に）\n",
    " - 保存\n",
    " - 新しいセルの追加\n",
    " - セルの切り取り\n",
    " - セルのコピー\n",
    " - セルの貼り付け\n",
    " - 上へ移動\n",
    " - 下に移動\n",
    " - 実行\n",
    " - 停止\n",
    " - 再起動\n",
    " - セルの種類の切り替え（**Code**と**Markdown**のみ使う）\n",
    "3. セルの左にある**In[ ]**\n",
    " - セルの番号；$In[*]$は実行中を表すので，このときに何度も**Shift + Enter**をして再実行しない！**(重要！）**\n",
    " \n",
    "### 問題\n",
    "以下のセルを実行し，コピーして貼り付けて，上に移動させてから，下に移動させ元に戻せ．"
   ]
  },
  {
   "cell_type": "code",
   "execution_count": null,
   "metadata": {
    "colab": {
     "base_uri": "https://localhost:8080/",
     "height": 34
    },
    "colab_type": "code",
    "id": "MRD6s1S-5LLt",
    "outputId": "0d5ecd9b-7738-49eb-8ef9-ec10a031267a"
   },
   "outputs": [],
   "source": [
    "# Shiftキーを押しながらEnterキーを押して実行\n",
    "a = 2\n",
    "b = 100\n",
    "c = a**b\n",
    "c"
   ]
  },
  {
   "cell_type": "code",
   "execution_count": null,
   "metadata": {
    "colab": {
     "base_uri": "https://localhost:8080/",
     "height": 34
    },
    "colab_type": "code",
    "id": "MRD6s1S-5LLt",
    "outputId": "0d5ecd9b-7738-49eb-8ef9-ec10a031267a"
   },
   "outputs": [],
   "source": [
    "# Shiftキーを押しながらEnterキーを押して実行\n",
    "a = 2\n",
    "b = 200\n",
    "c = a**b\n",
    "print(c)"
   ]
  },
  {
   "cell_type": "code",
   "execution_count": null,
   "metadata": {},
   "outputs": [],
   "source": [
    "\n"
   ]
  },
  {
   "cell_type": "markdown",
   "metadata": {
    "colab_type": "text",
    "id": "CpcHyHu05LL0"
   },
   "source": [
    "## ヒント\n",
    "\n",
    "1. **pr **と押してからTabキーを押すと候補が出てくるので，**print**を選択してEnterを押す．\n",
    "2. print関数を選択してからShiftキーを押しながらTabキーを押すと，説明が表示される．\n",
    "3. さらにもう一度，Shiftキーを押しながらTabキーを押す（もしくは右上の$+$を押す）と，詳細が表示される．"
   ]
  },
  {
   "cell_type": "markdown",
   "metadata": {
    "colab_type": "text",
    "id": "uV8QvDWZ5LL2"
   },
   "source": [
    "### 問題\n",
    "\n",
    "上の操作でヒントを出してから，以下のように打ち込んで，'こんにちは'を表示してみよう．\n",
    "\n",
    "```python\n",
    "print('こんにちは')\n",
    "```"
   ]
  },
  {
   "cell_type": "code",
   "execution_count": null,
   "metadata": {},
   "outputs": [],
   "source": [
    "pr**print\n",
    "pr**"
   ]
  },
  {
   "cell_type": "code",
   "execution_count": null,
   "metadata": {},
   "outputs": [],
   "source": [
    "print('こんにちは')"
   ]
  },
  {
   "cell_type": "markdown",
   "metadata": {},
   "source": [
    "$$ x^2 - 6x + 1 = 0 $$"
   ]
  },
  {
   "cell_type": "markdown",
   "metadata": {
    "colab_type": "text",
    "id": "VJCFM_F05LL3"
   },
   "source": [
    "## Markdown言語\n",
    "\n",
    "上部でセルの種類を切り替えて**Markdown**にしてみよう．\n",
    "\n",
    "するとコードではなく，文章が書けるようになる．\n",
    "\n",
    "実際には，[Markdown言語](http://qiita.com/Blueman81/items/72ca43681d16d44e21ad)という簡易言語で記述でき，Shift$+$Enterで表示され，ダブルクリックで再びMarkdown言語の入力ができるようになる．\n",
    "\n",
    "言語の詳細は上のリンク先を参照．\n",
    "\n",
    "LaTeXという論文を書くための言語の書式で，ドルマークで挟むことによって，数式も記述できる．\n",
    "\n",
    "たとえば，\n",
    "```\n",
    "$$ x^2 - 6x + 1 = 0 $$\n",
    "```\n",
    "と書くと，\n",
    "$$x^2 - 6x + 1 = 0$$\n",
    "と表示される．\n",
    "\n",
    "LaTeXについては，[こちら](http://www.latex-cmd.com/equation/equation.html)を参照．"
   ]
  },
  {
   "cell_type": "markdown",
   "metadata": {},
   "source": []
  },
  {
   "cell_type": "markdown",
   "metadata": {},
   "source": [
    "$$ \\alpha^2 $$"
   ]
  },
  {
   "cell_type": "markdown",
   "metadata": {
    "colab_type": "text",
    "id": "cI1C8faN5LL5"
   },
   "source": [
    "# Markdown言語のサンプル(見出しは\\#の個数で) [](見出し1，行の途中でもOK)\n",
    "文章は普通に書けばよい． 行頭にタブやスペースは入れない．\n",
    "\n",
    "パラグラフを変える場合は１行あける． 強制的に改行  \n",
    "する場合は行末にスペースを2 つ入れる． *斜体で強調*，**太文字で強調**．\n",
    "### 箇条書き (見出し1)\n",
    "* その1\n",
    "    * その1.1 入れ子は4 つのスペースでインデント\n",
    "* その2\n",
    "\n",
    "### 数式\n",
    "インライン数式: $f(x_1 , x_2 , \\ldots , x_n) =\n",
    "\\sum_{i=1}^{n-1} \\{ 100(x_i^2 - x_{i+1})^2 + (1-x_i)^2 \\}$\n",
    "\n",
    "ディスプレイ数式: $$f(x_1, x_2, \\ldots, x_n) = \n",
    "\\sum_{i=1}^{n-1} \\{ 100(x_i^2 - x_{i+1})^2 + (1-x_i)^2 \\}$$\n",
    "\n",
    "### 作表\n",
    "|左寄せ|右寄せ|中央|\n",
    "|:-----------|------------:|:------------:|\n",
    "|ここに|何かを|書く|\n",
    "|文字位置が|自動的に|定まる|\n",
    "\n",
    "### インデント\n",
    "    import numpy as np # 行頭にスペース4 つ入れるとインデントされる\n",
    "    # 文章中のコードなどに使える．\n",
    "```python\n",
    "print('こんにちは')\n",
    "```\n",
    "    \n",
    "    \n",
    "### リンク\n",
    "\n",
    "リンクはこのように [ipython.org](http://ipython.org/)\n",
    "\n",
    "### 水平線\n",
    "***\n",
    "\n",
    "### 箇条書き( 番号付)\n",
    "1. その１\n",
    "2. その２"
   ]
  },
  {
   "cell_type": "markdown",
   "metadata": {
    "colab_type": "text",
    "id": "cI1C8faN5LL5"
   },
   "source": [
    "# Markdown言語のサンプル(見出しは\\#の個数で) [](見出し1，行の途中でもOK)\n",
    "文章は普通に書けばよい． 行頭にタブやスペースは入れない．\n",
    "\n",
    "パラグラフを変える場合は１行あける． 強制的に改行  \n",
    "する場合は行末にスペースを2 つ入れる． *斜体で強調*，**太文字で強調**．\n",
    "### 箇条書き (見出し1)\n",
    "* その1\n",
    "    * その1.1 入れ子は4 つのスペースでインデント\n",
    "* その2\n",
    "\n",
    "### 数式\n",
    "インライン数式: $f(x_1 , x_2 , \\ldots , x_n) =\n",
    "\\sum_{i=1}^{n-1} \\{ 100(x_i^2 - x_{i+1})^2 + (1-x_i)^2 \\}$\n",
    "\n",
    "ディスプレイ数式: $$f(x_1, x_2, \\ldots, x_n) = \n",
    "\\sum_{i=1}^{n-1} \\{ 100(x_i^2 - x_{i+1})^2 + (1-x_i)^2 \\}$$\n",
    "\n",
    "### 作表\n",
    "|左寄せ|右寄せ|中央|\n",
    "|:-----------|------------:|:------------:|\n",
    "|ここに|何かを|書く|\n",
    "|文字位置が|自動的に|定まる|\n",
    "\n",
    "### インデント\n",
    "    import numpy as np # 行頭にスペース4 つ入れるとインデントされる\n",
    "    # 文章中のコードなどに使える．\n",
    "```python\n",
    "print('こんにちは')\n",
    "```\n",
    "    \n",
    "    \n",
    "### リンク\n",
    "\n",
    "リンクはこのように [ipython.org](http://ipython.org/)\n",
    "\n",
    "### 水平線\n",
    "***\n",
    "\n",
    "### 箇条書き( 番号付)\n",
    "1. その１\n",
    "2. その２"
   ]
  },
  {
   "cell_type": "markdown",
   "metadata": {},
   "source": [
    "### un\n",
    "un\n",
    "\n",
    "un  \n",
    "un\n",
    "\n",
    "**うんう～ん**\n",
    "*unun*  \n",
    "> un\n",
    ">> un\n",
    "\n",
    "* un  \n",
    "    * un\n",
    "\n",
    "|左寄せ|右寄せ|中央|\n",
    "|:--|--:|:--:|\n",
    "|ここに|何かを|書く|\n",
    "|文字位置が|自動的に|定まる|\n",
    "\n",
    "```python\n",
    "print('Hello')\n",
    "```\n",
    "\n",
    "    うんう～ん\n",
    "\n",
    "$$f(x_1, x_2, \\ldots, x_n) = \n",
    "\\sum_{i=1}^{n-1} \\{ 100(x_i^2 - x_{i+1})^2 + (1-x_i)^2 \\}$$\n",
    "\n",
    ".[ipyhton.org].(http://www.google.com/)  \n",
    "\n",
    "google [ipython.org](http://www.google.com/)  \n",
    "****  \n",
    "1. その1"
   ]
  },
  {
   "cell_type": "markdown",
   "metadata": {
    "colab": {},
    "colab_type": "code",
    "id": "uqfHz84F5LL5"
   },
   "source": [
    "# Jupyerでのデバッグのやり方\n",
    "\n",
    "Python Debuggerモジュールを読み込むには，\n",
    "**import pdb** \n",
    "とする．"
   ]
  },
  {
   "cell_type": "code",
   "execution_count": 1,
   "metadata": {},
   "outputs": [],
   "source": [
    "import pdb"
   ]
  },
  {
   "cell_type": "code",
   "execution_count": null,
   "metadata": {},
   "outputs": [],
   "source": [
    "# 呼び出し用の関数を準備する．\n",
    "def f(x):\n",
    "    print(\"x=\",100/(x+5))"
   ]
  },
  {
   "cell_type": "markdown",
   "metadata": {},
   "source": [
    "## プログラムを停止したい行の前に**pdb.set_trace()**と書くとデバッガが起動する．\n",
    "\n",
    "### 重要なコマンド一覧\n",
    "\n",
    "* h (help) でヘルプが出る．（help <コマンド> でコマンドの説明が出る．）\n",
    "* q (quit) でデバッガを終了する．（デバッガをちゃんと終了させないとカーネルが暴走するので注意！）\n",
    "* p (print) でプリント（コマンドと同じ変数でなければ，それを入れるだけでプリントしてくれる．）\n",
    "* n (next) で次の行に進む．\n",
    "* c (continue) で次の停止位置（ブレークポイント）まで進む．\n",
    "* s (step into) で呼び出した先に移動する．\n",
    "* l (list) で現在の近所のプログラムリストを表示する．\n",
    "\n",
    "以下のプログラムを動かして，コマンドを色々試してみよう．\n",
    "\n",
    "* 関数 f(x) 内では，変数 y はどうなっているだろうか？\n",
    "* もとのプログラム内では，変数 x はどうなっているだろうか？"
   ]
  },
  {
   "cell_type": "code",
   "execution_count": 2,
   "metadata": {},
   "outputs": [
    {
     "name": "stdout",
     "output_type": "stream",
     "text": [
      "> \u001b[1;32mc:\\users\\staka\\appdata\\local\\temp\\ipykernel_28228\\884477444.py\u001b[0m(3)\u001b[0;36m<cell line: 1>\u001b[1;34m()\u001b[0m\n",
      "\n",
      "ipdb> h\n",
      "\n",
      "Documented commands (type help <topic>):\n",
      "========================================\n",
      "EOF    commands   enable    ll        pp       s                until \n",
      "a      condition  exit      longlist  psource  skip_hidden      up    \n",
      "alias  cont       h         n         q        skip_predicates  w     \n",
      "args   context    help      next      quit     source           whatis\n",
      "b      continue   ignore    p         r        step             where \n",
      "break  d          interact  pdef      restart  tbreak         \n",
      "bt     debug      j         pdoc      return   u              \n",
      "c      disable    jump      pfile     retval   unalias        \n",
      "cl     display    l         pinfo     run      undisplay      \n",
      "clear  down       list      pinfo2    rv       unt            \n",
      "\n",
      "Miscellaneous help topics:\n",
      "==========================\n",
      "exec  pdb\n",
      "\n",
      "--KeyboardInterrupt--\n",
      "\n",
      "KeyboardInterrupt: Interrupted by user\n"
     ]
    },
    {
     "ename": "NameError",
     "evalue": "name 'f' is not defined",
     "output_type": "error",
     "traceback": [
      "\u001b[1;31m---------------------------------------------------------------------------\u001b[0m",
      "\u001b[1;31mNameError\u001b[0m                                 Traceback (most recent call last)",
      "Input \u001b[1;32mIn [2]\u001b[0m, in \u001b[0;36m<cell line: 1>\u001b[1;34m()\u001b[0m\n\u001b[0;32m      1\u001b[0m \u001b[38;5;28;01mfor\u001b[39;00m i \u001b[38;5;129;01min\u001b[39;00m \u001b[38;5;28mrange\u001b[39m(\u001b[38;5;241m3\u001b[39m):\n\u001b[0;32m      2\u001b[0m     pdb\u001b[38;5;241m.\u001b[39mset_trace()\n\u001b[1;32m----> 3\u001b[0m     y \u001b[38;5;241m=\u001b[39m i\u001b[38;5;241m+\u001b[39m\u001b[38;5;241m2\u001b[39m\n\u001b[0;32m      4\u001b[0m     f(y)\n",
      "\u001b[1;31mNameError\u001b[0m: name 'f' is not defined"
     ]
    }
   ],
   "source": [
    "for i in range(3):\n",
    "    pdb.set_trace()\n",
    "    y = i+2\n",
    "    f(y)"
   ]
  },
  {
   "cell_type": "markdown",
   "metadata": {},
   "source": [
    "## 意図的にエラーを起こしてみる．\n",
    "\n",
    "**%debug** とうつと，エラー箇所からデバッグを開始できる．\n",
    "\n",
    "* 変数xを表示させ，何故エラーが起きたかを考えてみよう．"
   ]
  },
  {
   "cell_type": "code",
   "execution_count": null,
   "metadata": {},
   "outputs": [],
   "source": [
    "for i in range(-10,0):\n",
    "    y = i+2\n",
    "    f(y) "
   ]
  },
  {
   "cell_type": "code",
   "execution_count": null,
   "metadata": {},
   "outputs": [],
   "source": [
    "%debug"
   ]
  }
 ],
 "metadata": {
  "colab": {
   "collapsed_sections": [],
   "include_colab_link": true,
   "name": "jupyter1.0.ipynb",
   "provenance": [],
   "version": "0.3.2"
  },
  "kernelspec": {
   "display_name": "Python 3 (ipykernel)",
   "language": "python",
   "name": "python3"
  },
  "language_info": {
   "codemirror_mode": {
    "name": "ipython",
    "version": 3
   },
   "file_extension": ".py",
   "mimetype": "text/x-python",
   "name": "python",
   "nbconvert_exporter": "python",
   "pygments_lexer": "ipython3",
   "version": "3.9.12"
  }
 },
 "nbformat": 4,
 "nbformat_minor": 4
}
